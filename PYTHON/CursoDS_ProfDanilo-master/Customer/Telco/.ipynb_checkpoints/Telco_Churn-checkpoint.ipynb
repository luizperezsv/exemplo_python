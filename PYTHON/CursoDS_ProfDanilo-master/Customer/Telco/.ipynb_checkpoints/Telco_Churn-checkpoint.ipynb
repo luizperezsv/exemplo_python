{
 "cells": [
  {
   "cell_type": "markdown",
   "metadata": {},
   "source": [
    "# Prevendo se um cliente irá abandonar a empresa ou não"
   ]
  },
  {
   "cell_type": "markdown",
   "metadata": {},
   "source": [
    "* Importando bibliotecas para manipulação e visualização dos dados"
   ]
  },
  {
   "cell_type": "code",
   "execution_count": null,
   "metadata": {},
   "outputs": [],
   "source": [
    "import numpy as np\n",
    "import pandas as pd\n",
    "import seaborn as sns\n",
    "import matplotlib.pyplot as plt"
   ]
  },
  {
   "cell_type": "markdown",
   "metadata": {},
   "source": [
    "* Fazendo leitura dos dados"
   ]
  },
  {
   "cell_type": "code",
   "execution_count": null,
   "metadata": {},
   "outputs": [],
   "source": [
    "dados = pd.read_csv('Telco.csv')"
   ]
  },
  {
   "cell_type": "markdown",
   "metadata": {},
   "source": [
    "* Exibindo cinco primeiras linhas"
   ]
  },
  {
   "cell_type": "code",
   "execution_count": null,
   "metadata": {},
   "outputs": [],
   "source": [
    "dados.head()"
   ]
  },
  {
   "cell_type": "markdown",
   "metadata": {},
   "source": [
    "Exibindo informações dos dados"
   ]
  },
  {
   "cell_type": "code",
   "execution_count": null,
   "metadata": {},
   "outputs": [],
   "source": [
    "dados.info()"
   ]
  },
  {
   "cell_type": "markdown",
   "metadata": {},
   "source": [
    "* Convertendo TotalCharges para float"
   ]
  },
  {
   "cell_type": "code",
   "execution_count": null,
   "metadata": {},
   "outputs": [],
   "source": [
    "dados['TotalCharges'] = pd.to_numeric(dados['TotalCharges'], errors='coerce')"
   ]
  },
  {
   "cell_type": "markdown",
   "metadata": {},
   "source": [
    "* Procurando por NaNs"
   ]
  },
  {
   "cell_type": "code",
   "execution_count": null,
   "metadata": {},
   "outputs": [],
   "source": [
    "dados.isna().sum()"
   ]
  },
  {
   "cell_type": "markdown",
   "metadata": {},
   "source": [
    "* Removendo NaNs"
   ]
  },
  {
   "cell_type": "code",
   "execution_count": null,
   "metadata": {},
   "outputs": [],
   "source": [
    "dados = dados.dropna()"
   ]
  },
  {
   "cell_type": "code",
   "execution_count": null,
   "metadata": {},
   "outputs": [],
   "source": [
    "dados.isna().sum()"
   ]
  },
  {
   "cell_type": "markdown",
   "metadata": {},
   "source": [
    "Coluna customerID pode ser removida"
   ]
  },
  {
   "cell_type": "code",
   "execution_count": null,
   "metadata": {},
   "outputs": [],
   "source": [
    "dados = dados.drop('customerID',axis=1)"
   ]
  },
  {
   "cell_type": "code",
   "execution_count": null,
   "metadata": {},
   "outputs": [],
   "source": [
    "dados.head()"
   ]
  },
  {
   "cell_type": "markdown",
   "metadata": {},
   "source": [
    "* Visualizando dados em função do churn (desistência)"
   ]
  },
  {
   "cell_type": "code",
   "execution_count": null,
   "metadata": {},
   "outputs": [],
   "source": [
    "linhas = 6\n",
    "colunas = 3\n",
    "\n",
    "plt.figure(figsize=(14,15))\n",
    "plt.subplot(linhas,colunas,1)\n",
    "sns.countplot(data=dados, x='gender',hue='Churn');\n",
    "plt.subplot(linhas,colunas,2)\n",
    "sns.countplot(data=dados, x='SeniorCitizen',hue='Churn');\n",
    "plt.subplot(linhas,colunas,3)\n",
    "sns.countplot(data=dados, x='Partner',hue='Churn');\n",
    "plt.subplot(linhas,colunas,4)\n",
    "sns.countplot(data=dados, x='Dependents',hue='Churn');\n",
    "plt.subplot(linhas,colunas,5)\n",
    "sns.countplot(data=dados, x='PhoneService',hue='Churn');\n",
    "plt.subplot(linhas,colunas,6)\n",
    "sns.countplot(data=dados, x='MultipleLines',hue='Churn');\n",
    "plt.subplot(linhas,colunas,7)\n",
    "sns.countplot(data=dados, x='InternetService',hue='Churn');\n",
    "plt.subplot(linhas,colunas,8)\n",
    "sns.countplot(data=dados, x='OnlineSecurity',hue='Churn');\n",
    "plt.subplot(linhas,colunas,9)\n",
    "sns.countplot(data=dados, x='OnlineBackup',hue='Churn');\n",
    "plt.subplot(linhas,colunas,10)\n",
    "sns.countplot(data=dados, x='DeviceProtection',hue='Churn');\n",
    "plt.subplot(linhas,colunas,11)\n",
    "sns.countplot(data=dados, x='TechSupport',hue='Churn');\n",
    "plt.subplot(linhas,colunas,12)\n",
    "sns.countplot(data=dados, x='StreamingTV',hue='Churn');\n",
    "plt.subplot(linhas,colunas,13)\n",
    "sns.countplot(data=dados, x='StreamingMovies',hue='Churn');\n",
    "plt.subplot(linhas,colunas,14)\n",
    "sns.countplot(data=dados, x='Contract',hue='Churn');\n",
    "plt.subplot(linhas,colunas,15)\n",
    "sns.countplot(data=dados, x='PaperlessBilling',hue='Churn');\n",
    "plt.subplot(linhas,colunas,16)\n",
    "sns.countplot(data=dados, x='PaymentMethod',hue='Churn');\n",
    "plt.tight_layout()"
   ]
  },
  {
   "cell_type": "code",
   "execution_count": null,
   "metadata": {},
   "outputs": [],
   "source": [
    "linhas = 1\n",
    "colunas = 3\n",
    "\n",
    "plt.figure(figsize=(14,8))\n",
    "plt.subplot(linhas,colunas,1)\n",
    "sns.distplot(dados['tenure'])\n",
    "\n",
    "plt.subplot(linhas,colunas,2)\n",
    "sns.distplot(dados['MonthlyCharges'])\n",
    "\n",
    "plt.subplot(linhas,colunas,3)\n",
    "sns.distplot(dados['TotalCharges'])"
   ]
  },
  {
   "cell_type": "markdown",
   "metadata": {},
   "source": [
    "* Normalizando dados"
   ]
  },
  {
   "cell_type": "code",
   "execution_count": null,
   "metadata": {},
   "outputs": [],
   "source": [
    "colunas = ['tenure','MonthlyCharges','TotalCharges']"
   ]
  },
  {
   "cell_type": "code",
   "execution_count": null,
   "metadata": {},
   "outputs": [],
   "source": [
    "from sklearn.preprocessing import MinMaxScaler, MultiLabelBinarizer"
   ]
  },
  {
   "cell_type": "code",
   "execution_count": null,
   "metadata": {},
   "outputs": [],
   "source": [
    "for col in colunas:\n",
    "    scaler = MinMaxScaler()\n",
    "    dados[col] = scaler.fit_transform(dados[col].values.reshape(-1, 1))"
   ]
  },
  {
   "cell_type": "code",
   "execution_count": null,
   "metadata": {},
   "outputs": [],
   "source": [
    "dados.head()"
   ]
  },
  {
   "cell_type": "code",
   "execution_count": null,
   "metadata": {},
   "outputs": [],
   "source": [
    "mlb = MultiLabelBinarizer()\n",
    "\n",
    "dados['gender'] = mlb.fit_transform(dados['gender'])\n",
    "dados['Partner'] = mlb.fit_transform(dados['Partner'])\n",
    "dados['Dependents'] = mlb.fit_transform(dados['Dependents'])\n",
    "dados['PhoneService'] = mlb.fit_transform(dados['PhoneService'])\n",
    "dados['MultipleLines'] = mlb.fit_transform(dados['MultipleLines'])\n",
    "dados['InternetService'] = mlb.fit_transform(dados['InternetService'])\n",
    "dados['OnlineSecurity'] = mlb.fit_transform(dados['OnlineSecurity'])\n",
    "dados['OnlineBackup'] = mlb.fit_transform(dados['OnlineBackup'])\n",
    "dados['DeviceProtection'] = mlb.fit_transform(dados['DeviceProtection'])\n",
    "dados['TechSupport'] = mlb.fit_transform(dados['TechSupport'])\n",
    "dados['StreamingTV'] = mlb.fit_transform(dados['StreamingTV'])\n",
    "dados['StreamingMovies'] = mlb.fit_transform(dados['StreamingMovies'])\n",
    "dados['Contract'] = mlb.fit_transform(dados['Contract'])\n",
    "dados['PaperlessBilling'] = mlb.fit_transform(dados['PaperlessBilling'])\n",
    "dados['PaymentMethod'] = mlb.fit_transform(dados['PaymentMethod'])\n",
    "dados['Churn'] = mlb.fit_transform(dados['Churn'])"
   ]
  },
  {
   "cell_type": "code",
   "execution_count": null,
   "metadata": {},
   "outputs": [],
   "source": [
    "dados.head()"
   ]
  },
  {
   "cell_type": "markdown",
   "metadata": {},
   "source": [
    "* Determinando variáveis X e Y"
   ]
  },
  {
   "cell_type": "code",
   "execution_count": null,
   "metadata": {},
   "outputs": [],
   "source": [
    "X = dados.drop('Churn',axis=1).values\n",
    "Y = dados['Churn'].values"
   ]
  },
  {
   "cell_type": "markdown",
   "metadata": {},
   "source": [
    "* Criando amostras de treino e teste"
   ]
  },
  {
   "cell_type": "code",
   "execution_count": null,
   "metadata": {},
   "outputs": [],
   "source": [
    "from sklearn.model_selection import train_test_split"
   ]
  },
  {
   "cell_type": "code",
   "execution_count": null,
   "metadata": {},
   "outputs": [],
   "source": [
    "X_treino, X_teste, Y_treino, Y_teste = train_test_split(X, Y, test_size=0.25, random_state=42)"
   ]
  },
  {
   "cell_type": "markdown",
   "metadata": {},
   "source": [
    "* Importando bibliotecas de métricas de classificação"
   ]
  },
  {
   "cell_type": "code",
   "execution_count": null,
   "metadata": {},
   "outputs": [],
   "source": [
    "from sklearn.metrics import accuracy_score, recall_score, precision_score, f1_score"
   ]
  },
  {
   "cell_type": "markdown",
   "metadata": {},
   "source": [
    "* Criando listas para armazenar as métricas"
   ]
  },
  {
   "cell_type": "code",
   "execution_count": null,
   "metadata": {},
   "outputs": [],
   "source": [
    "acc = []\n",
    "prec = []\n",
    "rec = []\n",
    "f1 = []\n",
    "modelos = []"
   ]
  },
  {
   "cell_type": "markdown",
   "metadata": {},
   "source": [
    "* Modelo 1: Regressão logística"
   ]
  },
  {
   "cell_type": "code",
   "execution_count": null,
   "metadata": {},
   "outputs": [],
   "source": [
    "from sklearn.linear_model import LogisticRegression"
   ]
  },
  {
   "cell_type": "code",
   "execution_count": null,
   "metadata": {},
   "outputs": [],
   "source": [
    "logreg = LogisticRegression()"
   ]
  },
  {
   "cell_type": "code",
   "execution_count": null,
   "metadata": {},
   "outputs": [],
   "source": [
    "logreg.fit(X_treino,Y_treino)"
   ]
  },
  {
   "cell_type": "code",
   "execution_count": null,
   "metadata": {},
   "outputs": [],
   "source": [
    "Y_pred_logreg = logreg.predict(X_teste)"
   ]
  },
  {
   "cell_type": "code",
   "execution_count": null,
   "metadata": {},
   "outputs": [],
   "source": [
    "acc_logreg = accuracy_score(Y_teste,Y_pred_logreg)\n",
    "prec_logreg = precision_score(Y_teste,Y_pred_logreg)\n",
    "rec_logreg = recall_score(Y_teste,Y_pred_logreg)\n",
    "f1_logreg = f1_score(Y_teste,Y_pred_logreg)"
   ]
  },
  {
   "cell_type": "code",
   "execution_count": null,
   "metadata": {},
   "outputs": [],
   "source": [
    "print(\"Acuracia Regressão Logística = {:0.2f}\".format(acc_logreg))\n",
    "print(\"Precisão Regressão Logística = {:0.2f}\".format(prec_logreg))\n",
    "print(\"Recall Regressão Logística = {:0.2f}\".format(rec_logreg))\n",
    "print(\"F1 Regressão Logística = {:0.2f}\".format(f1_logreg))"
   ]
  },
  {
   "cell_type": "code",
   "execution_count": null,
   "metadata": {},
   "outputs": [],
   "source": [
    "acc.append(acc_logreg)\n",
    "prec.append(prec_logreg)\n",
    "rec.append(rec_logreg)\n",
    "f1.append(f1_logreg)\n",
    "modelos.append(\"Regressão Logística\")"
   ]
  },
  {
   "cell_type": "markdown",
   "metadata": {},
   "source": [
    "* Modelo 2: Support Vector Machine"
   ]
  },
  {
   "cell_type": "code",
   "execution_count": null,
   "metadata": {},
   "outputs": [],
   "source": [
    "from sklearn.svm import SVC"
   ]
  },
  {
   "cell_type": "code",
   "execution_count": null,
   "metadata": {},
   "outputs": [],
   "source": [
    "svc = SVC()"
   ]
  },
  {
   "cell_type": "code",
   "execution_count": null,
   "metadata": {},
   "outputs": [],
   "source": [
    "svc.fit(X_treino,Y_treino)"
   ]
  },
  {
   "cell_type": "code",
   "execution_count": null,
   "metadata": {},
   "outputs": [],
   "source": [
    "Y_pred_svc = svc.predict(X_teste)"
   ]
  },
  {
   "cell_type": "code",
   "execution_count": null,
   "metadata": {},
   "outputs": [],
   "source": [
    "acc_svc = accuracy_score(Y_teste,Y_pred_svc)\n",
    "prec_svc = precision_score(Y_teste,Y_pred_svc)\n",
    "rec_svc = recall_score(Y_teste,Y_pred_svc)\n",
    "f1_svc = f1_score(Y_teste,Y_pred_svc)"
   ]
  },
  {
   "cell_type": "code",
   "execution_count": null,
   "metadata": {},
   "outputs": [],
   "source": [
    "print(\"Acuracia SVC = {:0.2f}\".format(acc_svc))\n",
    "print(\"Precisão SVC = {:0.2f}\".format(prec_svc))\n",
    "print(\"Recall SVC = {:0.2f}\".format(rec_svc))\n",
    "print(\"F1 SVC = {:0.2f}\".format(f1_svc))"
   ]
  },
  {
   "cell_type": "code",
   "execution_count": null,
   "metadata": {},
   "outputs": [],
   "source": [
    "acc.append(acc_svc)\n",
    "prec.append(prec_svc)\n",
    "rec.append(rec_svc)\n",
    "f1.append(f1_svc)\n",
    "modelos.append(\"SVC\")"
   ]
  },
  {
   "cell_type": "markdown",
   "metadata": {},
   "source": [
    "* Modelo 3: Naive-Bayes"
   ]
  },
  {
   "cell_type": "code",
   "execution_count": null,
   "metadata": {},
   "outputs": [],
   "source": [
    "from sklearn.naive_bayes import BernoulliNB, GaussianNB,CategoricalNB,MultinomialNB"
   ]
  },
  {
   "cell_type": "code",
   "execution_count": null,
   "metadata": {},
   "outputs": [],
   "source": [
    "naive_bernoulli = BernoulliNB()"
   ]
  },
  {
   "cell_type": "code",
   "execution_count": null,
   "metadata": {},
   "outputs": [],
   "source": [
    "naive_bernoulli.fit(X_treino,Y_treino)"
   ]
  },
  {
   "cell_type": "code",
   "execution_count": null,
   "metadata": {},
   "outputs": [],
   "source": [
    "Y_pred_bernoulli = naive_bernoulli.predict(X_teste)"
   ]
  },
  {
   "cell_type": "code",
   "execution_count": null,
   "metadata": {},
   "outputs": [],
   "source": [
    "acc_bernoulli = accuracy_score(Y_teste,Y_pred_bernoulli)\n",
    "prec_bernoulli = precision_score(Y_teste,Y_pred_bernoulli)\n",
    "rec_bernoulli = recall_score(Y_teste,Y_pred_bernoulli)\n",
    "f1_bernoulli = f1_score(Y_teste,Y_pred_bernoulli)"
   ]
  },
  {
   "cell_type": "code",
   "execution_count": null,
   "metadata": {},
   "outputs": [],
   "source": [
    "print(\"Acuracia Naive Bernoulli = {:0.2f}\".format(acc_bernoulli))\n",
    "print(\"Precisão Naive Bernoulli = {:0.2f}\".format(prec_bernoulli))\n",
    "print(\"Recall Naive Bernoulli = {:0.2f}\".format(rec_bernoulli))\n",
    "print(\"F1 Naive Bernoulli = {:0.2f}\".format(f1_bernoulli))"
   ]
  },
  {
   "cell_type": "code",
   "execution_count": null,
   "metadata": {},
   "outputs": [],
   "source": [
    "naive_gaussian = GaussianNB()"
   ]
  },
  {
   "cell_type": "code",
   "execution_count": null,
   "metadata": {},
   "outputs": [],
   "source": [
    "naive_gaussian.fit(X_treino,Y_treino)"
   ]
  },
  {
   "cell_type": "code",
   "execution_count": null,
   "metadata": {},
   "outputs": [],
   "source": [
    "Y_pred_gaussian = naive_gaussian.predict(X_teste)"
   ]
  },
  {
   "cell_type": "code",
   "execution_count": null,
   "metadata": {},
   "outputs": [],
   "source": [
    "acc_gaussian = accuracy_score(Y_teste,Y_pred_gaussian)\n",
    "prec_gaussian = precision_score(Y_teste,Y_pred_gaussian)\n",
    "rec_gaussian = recall_score(Y_teste,Y_pred_gaussian)\n",
    "f1_gaussian = f1_score(Y_teste,Y_pred_gaussian)"
   ]
  },
  {
   "cell_type": "code",
   "execution_count": null,
   "metadata": {},
   "outputs": [],
   "source": [
    "print(\"Acuracia Naive Gaussian = {:0.2f}\".format(acc_gaussian))\n",
    "print(\"Precisão Naive Gaussian = {:0.2f}\".format(prec_gaussian))\n",
    "print(\"Recall Naive Gaussian = {:0.2f}\".format(rec_gaussian))\n",
    "print(\"F1 Naive Gaussian = {:0.2f}\".format(f1_gaussian))"
   ]
  },
  {
   "cell_type": "code",
   "execution_count": null,
   "metadata": {},
   "outputs": [],
   "source": [
    "naive_categorical = CategoricalNB()"
   ]
  },
  {
   "cell_type": "code",
   "execution_count": null,
   "metadata": {},
   "outputs": [],
   "source": [
    "naive_categorical.fit(X_treino,Y_treino)"
   ]
  },
  {
   "cell_type": "code",
   "execution_count": null,
   "metadata": {},
   "outputs": [],
   "source": [
    "Y_pred_categorical = naive_categorical.predict(X_teste)"
   ]
  },
  {
   "cell_type": "code",
   "execution_count": null,
   "metadata": {},
   "outputs": [],
   "source": [
    "acc_categorical = accuracy_score(Y_teste,Y_pred_categorical)\n",
    "prec_categorical = precision_score(Y_teste,Y_pred_categorical)\n",
    "rec_categorical = recall_score(Y_teste,Y_pred_categorical)\n",
    "f1_categorical = f1_score(Y_teste,Y_pred_categorical)"
   ]
  },
  {
   "cell_type": "code",
   "execution_count": null,
   "metadata": {},
   "outputs": [],
   "source": [
    "print(\"Acuracia Naive Gaussian = {:0.2f}\".format(acc_categorical))\n",
    "print(\"Precisão Naive Gaussian = {:0.2f}\".format(prec_categorical))\n",
    "print(\"Recall Naive Gaussian = {:0.2f}\".format(rec_categorical))\n",
    "print(\"F1 Naive Gaussian = {:0.2f}\".format(f1_categorical))"
   ]
  },
  {
   "cell_type": "code",
   "execution_count": null,
   "metadata": {},
   "outputs": [],
   "source": [
    "naive_multi = MultinomialNB()"
   ]
  },
  {
   "cell_type": "code",
   "execution_count": null,
   "metadata": {},
   "outputs": [],
   "source": [
    "naive_multi.fit(X_treino,Y_treino)"
   ]
  },
  {
   "cell_type": "code",
   "execution_count": null,
   "metadata": {},
   "outputs": [],
   "source": [
    "Y_pred_multi = naive_multi.predict(X_teste)"
   ]
  },
  {
   "cell_type": "code",
   "execution_count": null,
   "metadata": {},
   "outputs": [],
   "source": [
    "acc_multi = accuracy_score(Y_teste,Y_pred_multi)\n",
    "prec_multi = precision_score(Y_teste,Y_pred_multi)\n",
    "rec_multi = recall_score(Y_teste,Y_pred_multi)\n",
    "f1_multi = f1_score(Y_teste,Y_pred_multi)"
   ]
  },
  {
   "cell_type": "code",
   "execution_count": null,
   "metadata": {},
   "outputs": [],
   "source": [
    "print(\"Acuracia Naive Multi = {:0.2f}\".format(acc_multi))\n",
    "print(\"Precisão Naive Multi = {:0.2f}\".format(prec_multi))\n",
    "print(\"Recall Naive Multi = {:0.2f}\".format(rec_multi))\n",
    "print(\"F1 Naive Multi = {:0.2f}\".format(f1_multi))"
   ]
  },
  {
   "cell_type": "code",
   "execution_count": null,
   "metadata": {},
   "outputs": [],
   "source": [
    "acc.append(acc_multi)\n",
    "prec.append(prec_multi)\n",
    "rec.append(rec_multi)\n",
    "f1.append(f1_multi)\n",
    "modelos.append(\"Naive-Bayes\")"
   ]
  },
  {
   "cell_type": "markdown",
   "metadata": {},
   "source": [
    "* Modelo 4: AdaBoost"
   ]
  },
  {
   "cell_type": "code",
   "execution_count": null,
   "metadata": {},
   "outputs": [],
   "source": [
    "from sklearn.ensemble import AdaBoostClassifier"
   ]
  },
  {
   "cell_type": "code",
   "execution_count": null,
   "metadata": {},
   "outputs": [],
   "source": [
    "ada = AdaBoostClassifier()"
   ]
  },
  {
   "cell_type": "code",
   "execution_count": null,
   "metadata": {},
   "outputs": [],
   "source": [
    "ada.fit(X_treino,Y_treino)"
   ]
  },
  {
   "cell_type": "code",
   "execution_count": null,
   "metadata": {},
   "outputs": [],
   "source": [
    "Y_pred_ada = ada.predict(X_teste)"
   ]
  },
  {
   "cell_type": "code",
   "execution_count": null,
   "metadata": {},
   "outputs": [],
   "source": [
    "acc_ada = accuracy_score(Y_teste,Y_pred_ada)\n",
    "prec_ada = precision_score(Y_teste,Y_pred_ada)\n",
    "rec_ada = recall_score(Y_teste,Y_pred_ada)\n",
    "f1_ada = f1_score(Y_teste,Y_pred_ada)"
   ]
  },
  {
   "cell_type": "code",
   "execution_count": null,
   "metadata": {},
   "outputs": [],
   "source": [
    "print(\"Acuracia Ada Boost = {:0.2f}\".format(acc_ada))\n",
    "print(\"Precisão Ada Boost = {:0.2f}\".format(prec_ada))\n",
    "print(\"Recall Ada Boost = {:0.2f}\".format(rec_ada))\n",
    "print(\"F1 Ada Boost = {:0.2f}\".format(f1_ada))"
   ]
  },
  {
   "cell_type": "code",
   "execution_count": null,
   "metadata": {},
   "outputs": [],
   "source": [
    "acc.append(acc_ada)\n",
    "prec.append(prec_ada)\n",
    "rec.append(rec_ada)\n",
    "f1.append(f1_ada)\n",
    "modelos.append(\"AdaBoost\")"
   ]
  },
  {
   "cell_type": "markdown",
   "metadata": {},
   "source": [
    "* Criando dicionários com as métricas"
   ]
  },
  {
   "cell_type": "code",
   "execution_count": null,
   "metadata": {},
   "outputs": [],
   "source": [
    "dici = {\"Modelo\" : modelos, \"Acuracia\" : acc, \"Precisao\" : prec, \"Recall\" : rec, \"F1\" : f1}"
   ]
  },
  {
   "cell_type": "code",
   "execution_count": null,
   "metadata": {},
   "outputs": [],
   "source": [
    "pd_dici = pd.DataFrame(dici)"
   ]
  },
  {
   "cell_type": "code",
   "execution_count": null,
   "metadata": {},
   "outputs": [],
   "source": [
    "pd_dici = pd_dici.sort_values(by='Recall',ascending=False)"
   ]
  },
  {
   "cell_type": "code",
   "execution_count": null,
   "metadata": {},
   "outputs": [],
   "source": [
    "pd_dici"
   ]
  },
  {
   "cell_type": "markdown",
   "metadata": {},
   "source": [
    "* Regressão logística apresentou melhor desempenho"
   ]
  },
  {
   "cell_type": "code",
   "execution_count": null,
   "metadata": {},
   "outputs": [],
   "source": []
  }
 ],
 "metadata": {
  "kernelspec": {
   "display_name": "Python 3",
   "language": "python",
   "name": "python3"
  },
  "language_info": {
   "codemirror_mode": {
    "name": "ipython",
    "version": 3
   },
   "file_extension": ".py",
   "mimetype": "text/x-python",
   "name": "python",
   "nbconvert_exporter": "python",
   "pygments_lexer": "ipython3",
   "version": "3.8.3"
  }
 },
 "nbformat": 4,
 "nbformat_minor": 4
}

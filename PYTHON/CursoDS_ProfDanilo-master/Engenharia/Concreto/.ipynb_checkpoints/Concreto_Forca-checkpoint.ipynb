{
 "cells": [
  {
   "cell_type": "markdown",
   "metadata": {},
   "source": [
    "# Determinando força do concreto com modelos de regressão"
   ]
  },
  {
   "cell_type": "markdown",
   "metadata": {},
   "source": [
    "Dataset do Kaggle: https://www.kaggle.com/pavanraj159/concrete-compressive-strength-data-set "
   ]
  },
  {
   "cell_type": "markdown",
   "metadata": {},
   "source": [
    "Importando bibliotecas para manipulação e visualização dos dados"
   ]
  },
  {
   "cell_type": "code",
   "execution_count": null,
   "metadata": {},
   "outputs": [],
   "source": [
    "import numpy as np\n",
    "import pandas as pd\n",
    "import matplotlib.pyplot as plt\n",
    "import seaborn as sns"
   ]
  },
  {
   "cell_type": "markdown",
   "metadata": {},
   "source": [
    "Lendo Arquivo CSV"
   ]
  },
  {
   "cell_type": "code",
   "execution_count": null,
   "metadata": {},
   "outputs": [],
   "source": [
    "dados = pd.read_csv('compresive_strength_concrete.csv')"
   ]
  },
  {
   "cell_type": "markdown",
   "metadata": {},
   "source": [
    "Exibindo cinco primeiras linhas"
   ]
  },
  {
   "cell_type": "code",
   "execution_count": null,
   "metadata": {},
   "outputs": [],
   "source": [
    "dados.head()"
   ]
  },
  {
   "cell_type": "code",
   "execution_count": null,
   "metadata": {},
   "outputs": [],
   "source": [
    "dados.columns = ['Cement','Blast Furnace Slag','Fly Ash','Water','Superplasticizer','Coarse Aggregate','Fine Aggregate','Age','Compressive strength']"
   ]
  },
  {
   "cell_type": "code",
   "execution_count": null,
   "metadata": {},
   "outputs": [],
   "source": [
    "dados.head()"
   ]
  },
  {
   "cell_type": "markdown",
   "metadata": {},
   "source": [
    "Exibindo informações dos dados"
   ]
  },
  {
   "cell_type": "code",
   "execution_count": null,
   "metadata": {},
   "outputs": [],
   "source": [
    "dados.info()"
   ]
  },
  {
   "cell_type": "markdown",
   "metadata": {},
   "source": [
    "Verificando se existem NaNs"
   ]
  },
  {
   "cell_type": "code",
   "execution_count": null,
   "metadata": {},
   "outputs": [],
   "source": [
    "print(dados.isna().sum())"
   ]
  },
  {
   "cell_type": "markdown",
   "metadata": {},
   "source": [
    "Visualização dos dados"
   ]
  },
  {
   "cell_type": "code",
   "execution_count": null,
   "metadata": {},
   "outputs": [],
   "source": [
    "plt.figure(figsize=(10,10))\n",
    "plt.subplot(3,3,1)\n",
    "dados[dados.columns[0]].plot(kind='hist')\n",
    "plt.xlabel(dados.columns[0])\n",
    "plt.subplot(3,3,2)\n",
    "dados[dados.columns[1]].plot(kind='hist')\n",
    "plt.xlabel(dados.columns[1])\n",
    "plt.subplot(3,3,3)\n",
    "dados[dados.columns[2]].plot(kind='hist')\n",
    "plt.xlabel(dados.columns[2])\n",
    "plt.subplot(3,3,4)\n",
    "dados[dados.columns[3]].plot(kind='hist')\n",
    "plt.xlabel(dados.columns[3])\n",
    "plt.subplot(3,3,5)\n",
    "dados[dados.columns[4]].plot(kind='hist')\n",
    "plt.xlabel(dados.columns[4])\n",
    "plt.subplot(3,3,6)\n",
    "dados[dados.columns[5]].plot(kind='hist')\n",
    "plt.xlabel(dados.columns[5])\n",
    "plt.subplot(3,3,7)\n",
    "dados[dados.columns[6]].plot(kind='hist')\n",
    "plt.xlabel(dados.columns[6])\n",
    "plt.subplot(3,3,8)\n",
    "dados[dados.columns[7]].plot(kind='hist')\n",
    "plt.xlabel(dados.columns[7])\n",
    "plt.subplot(3,3,9)\n",
    "dados[dados.columns[8]].plot(kind='hist')\n",
    "plt.xlabel(dados.columns[8])\n",
    "plt.tight_layout()"
   ]
  },
  {
   "cell_type": "markdown",
   "metadata": {},
   "source": [
    "Verificando correlação entre as variáveis"
   ]
  },
  {
   "cell_type": "code",
   "execution_count": null,
   "metadata": {},
   "outputs": [],
   "source": [
    "corr = dados.corr()"
   ]
  },
  {
   "cell_type": "code",
   "execution_count": null,
   "metadata": {},
   "outputs": [],
   "source": [
    "sns.heatmap(corr)"
   ]
  },
  {
   "cell_type": "markdown",
   "metadata": {},
   "source": [
    "Normalizando valores no intervalo entre 0 e 1"
   ]
  },
  {
   "cell_type": "code",
   "execution_count": null,
   "metadata": {},
   "outputs": [],
   "source": [
    "from sklearn.preprocessing import MinMaxScaler"
   ]
  },
  {
   "cell_type": "code",
   "execution_count": null,
   "metadata": {},
   "outputs": [],
   "source": [
    "colunas = dados.columns"
   ]
  },
  {
   "cell_type": "code",
   "execution_count": null,
   "metadata": {},
   "outputs": [],
   "source": [
    "for col in colunas:\n",
    "    scaler = MinMaxScaler(feature_range=(0, 1))\n",
    "    dados[col] = scaler.fit_transform(dados[col].values.reshape(-1, 1))"
   ]
  },
  {
   "cell_type": "code",
   "execution_count": null,
   "metadata": {},
   "outputs": [],
   "source": [
    "dados.head()"
   ]
  },
  {
   "cell_type": "markdown",
   "metadata": {},
   "source": [
    "Determinando variáveis X e Y"
   ]
  },
  {
   "cell_type": "code",
   "execution_count": null,
   "metadata": {},
   "outputs": [],
   "source": [
    "X = dados[colunas[0:-1]].values\n",
    "Y = dados[dados.columns[-1]].values"
   ]
  },
  {
   "cell_type": "markdown",
   "metadata": {},
   "source": [
    "Criando amostras de treino e teste"
   ]
  },
  {
   "cell_type": "code",
   "execution_count": null,
   "metadata": {},
   "outputs": [],
   "source": [
    "from sklearn.model_selection import train_test_split"
   ]
  },
  {
   "cell_type": "code",
   "execution_count": null,
   "metadata": {},
   "outputs": [],
   "source": [
    "X_treino, X_teste, Y_treino, Y_teste = train_test_split(X, Y, test_size=0.25, random_state=42)"
   ]
  },
  {
   "cell_type": "markdown",
   "metadata": {},
   "source": [
    "Importando bibliotecas para cálculo dos erros dos modelos"
   ]
  },
  {
   "cell_type": "code",
   "execution_count": null,
   "metadata": {},
   "outputs": [],
   "source": [
    "from sklearn.metrics import mean_absolute_error,mean_squared_error"
   ]
  },
  {
   "cell_type": "markdown",
   "metadata": {},
   "source": [
    "Criando função para cálculo do erro percentual absoluto médio"
   ]
  },
  {
   "cell_type": "code",
   "execution_count": null,
   "metadata": {},
   "outputs": [],
   "source": [
    "def mean_absolute_percentage_error(y_true, y_pred): \n",
    "    y_true, y_pred = np.array(y_true), np.array(y_pred)\n",
    "    return np.mean(np.abs((y_true - y_pred) / y_true)) * 100"
   ]
  },
  {
   "cell_type": "markdown",
   "metadata": {},
   "source": [
    "Modelo 1: Regressão Linear"
   ]
  },
  {
   "cell_type": "code",
   "execution_count": null,
   "metadata": {},
   "outputs": [],
   "source": [
    "from sklearn.linear_model import LinearRegression"
   ]
  },
  {
   "cell_type": "code",
   "execution_count": null,
   "metadata": {},
   "outputs": [],
   "source": [
    "linreg = LinearRegression()"
   ]
  },
  {
   "cell_type": "code",
   "execution_count": null,
   "metadata": {},
   "outputs": [],
   "source": [
    "linreg.fit(X_treino,Y_treino)"
   ]
  },
  {
   "cell_type": "code",
   "execution_count": null,
   "metadata": {},
   "outputs": [],
   "source": [
    "Y_pred_linreg = linreg.predict(X_teste)"
   ]
  },
  {
   "cell_type": "code",
   "execution_count": null,
   "metadata": {},
   "outputs": [],
   "source": [
    "MAE_linreg = mean_absolute_error(Y_teste,Y_pred_linreg)\n",
    "MSE_linreg = mean_squared_error(Y_teste,Y_pred_linreg)\n",
    "RMSE_linreg = np.sqrt(MSE_linreg)\n",
    "MAPE_linreg = mean_absolute_percentage_error(Y_teste,Y_pred_linreg)"
   ]
  },
  {
   "cell_type": "code",
   "execution_count": null,
   "metadata": {},
   "outputs": [],
   "source": [
    "print(\"MAE = {:0.2f}\".format(MAE_linreg))\n",
    "print(\"MAPE = {:0.2f}%\".format(MAPE_linreg))\n",
    "print(\"MSE = {:0.2f}\".format(MSE_linreg))\n",
    "print(\"RMSE = {:0.2f}\".format(RMSE_linreg))"
   ]
  },
  {
   "cell_type": "markdown",
   "metadata": {},
   "source": [
    "Modelo 2: Support Vector Regressor"
   ]
  },
  {
   "cell_type": "code",
   "execution_count": null,
   "metadata": {},
   "outputs": [],
   "source": [
    "from sklearn.svm import SVR"
   ]
  },
  {
   "cell_type": "code",
   "execution_count": null,
   "metadata": {},
   "outputs": [],
   "source": [
    "svr = SVR()"
   ]
  },
  {
   "cell_type": "code",
   "execution_count": null,
   "metadata": {},
   "outputs": [],
   "source": [
    "svr.fit(X_treino,Y_treino)"
   ]
  },
  {
   "cell_type": "code",
   "execution_count": null,
   "metadata": {},
   "outputs": [],
   "source": [
    "Y_pred_svr = svr.predict(X_teste)"
   ]
  },
  {
   "cell_type": "code",
   "execution_count": null,
   "metadata": {},
   "outputs": [],
   "source": [
    "MAE_svr = mean_absolute_error(Y_teste,Y_pred_svr)\n",
    "MSE_svr = mean_squared_error(Y_teste,Y_pred_svr)\n",
    "RMSE_svr = np.sqrt(MSE_svr)\n",
    "MAPE_svr = mean_absolute_percentage_error(Y_teste,Y_pred_svr)"
   ]
  },
  {
   "cell_type": "code",
   "execution_count": null,
   "metadata": {},
   "outputs": [],
   "source": [
    "print(\"MAE = {:0.2f}\".format(MAE_svr))\n",
    "print(\"MAPE = {:0.2f}%\".format(MAPE_svr))\n",
    "print(\"MSE = {:0.2f}\".format(MSE_svr))\n",
    "print(\"RMSE = {:0.2f}\".format(RMSE_svr))"
   ]
  },
  {
   "cell_type": "markdown",
   "metadata": {},
   "source": [
    "Modelo 3: Decision Tree Regressor"
   ]
  },
  {
   "cell_type": "code",
   "execution_count": null,
   "metadata": {},
   "outputs": [],
   "source": [
    "from sklearn.tree import DecisionTreeRegressor"
   ]
  },
  {
   "cell_type": "code",
   "execution_count": null,
   "metadata": {},
   "outputs": [],
   "source": [
    "dte = DecisionTreeRegressor()"
   ]
  },
  {
   "cell_type": "code",
   "execution_count": null,
   "metadata": {},
   "outputs": [],
   "source": [
    "dte.fit(X_treino,Y_treino)"
   ]
  },
  {
   "cell_type": "code",
   "execution_count": null,
   "metadata": {},
   "outputs": [],
   "source": [
    "Y_pred_dte = dte.predict(X_teste)"
   ]
  },
  {
   "cell_type": "code",
   "execution_count": null,
   "metadata": {},
   "outputs": [],
   "source": [
    "MAE_dte = mean_absolute_error(Y_teste,Y_pred_dte)\n",
    "MSE_dte = mean_squared_error(Y_teste,Y_pred_dte)\n",
    "RMSE_dte = np.sqrt(MSE_dte)\n",
    "MAPE_dte = mean_absolute_percentage_error(Y_teste,Y_pred_dte)"
   ]
  },
  {
   "cell_type": "code",
   "execution_count": null,
   "metadata": {},
   "outputs": [],
   "source": [
    "print(\"MAE = {:0.2f}\".format(MAE_dte))\n",
    "print(\"MAPE = {:0.2f}%\".format(MAPE_dte))\n",
    "print(\"MSE = {:0.2f}\".format(MSE_dte))\n",
    "print(\"RMSE = {:0.2f}\".format(RMSE_dte))"
   ]
  },
  {
   "cell_type": "markdown",
   "metadata": {},
   "source": [
    "Modelo 4: Random Forest Regressor"
   ]
  },
  {
   "cell_type": "code",
   "execution_count": null,
   "metadata": {},
   "outputs": [],
   "source": [
    "from sklearn.ensemble import RandomForestRegressor"
   ]
  },
  {
   "cell_type": "code",
   "execution_count": null,
   "metadata": {},
   "outputs": [],
   "source": [
    "rfr = RandomForestRegressor()"
   ]
  },
  {
   "cell_type": "code",
   "execution_count": null,
   "metadata": {},
   "outputs": [],
   "source": [
    "rfr.fit(X_treino,Y_treino)"
   ]
  },
  {
   "cell_type": "code",
   "execution_count": null,
   "metadata": {},
   "outputs": [],
   "source": [
    "Y_pred_rfr = rfr.predict(X_teste)"
   ]
  },
  {
   "cell_type": "code",
   "execution_count": null,
   "metadata": {},
   "outputs": [],
   "source": [
    "MAE_rfr = mean_absolute_error(Y_teste,Y_pred_rfr)\n",
    "MSE_rfr = mean_squared_error(Y_teste,Y_pred_rfr)\n",
    "RMSE_rfr = np.sqrt(MSE_rfr)\n",
    "MAPE_rfr = mean_absolute_percentage_error(Y_teste,Y_pred_rfr)"
   ]
  },
  {
   "cell_type": "code",
   "execution_count": null,
   "metadata": {},
   "outputs": [],
   "source": [
    "print(\"MAE = {:0.2f}\".format(MAE_rfr))\n",
    "print(\"MAPE = {:0.2f}%\".format(MAPE_rfr))\n",
    "print(\"MSE = {:0.2f}\".format(MSE_rfr))\n",
    "print(\"RMSE = {:0.2f}\".format(RMSE_rfr))"
   ]
  },
  {
   "cell_type": "markdown",
   "metadata": {},
   "source": [
    "Modelo 5: AdaBoost Regressor"
   ]
  },
  {
   "cell_type": "code",
   "execution_count": null,
   "metadata": {},
   "outputs": [],
   "source": [
    "from sklearn.ensemble import AdaBoostRegressor"
   ]
  },
  {
   "cell_type": "code",
   "execution_count": null,
   "metadata": {},
   "outputs": [],
   "source": [
    "ada = AdaBoostRegressor()"
   ]
  },
  {
   "cell_type": "code",
   "execution_count": null,
   "metadata": {},
   "outputs": [],
   "source": [
    "ada.fit(X_treino,Y_treino)"
   ]
  },
  {
   "cell_type": "code",
   "execution_count": null,
   "metadata": {},
   "outputs": [],
   "source": [
    "Y_pred_ada = ada.predict(X_teste)"
   ]
  },
  {
   "cell_type": "code",
   "execution_count": null,
   "metadata": {},
   "outputs": [],
   "source": [
    "MAE_ada = mean_absolute_error(Y_teste,Y_pred_ada)\n",
    "MSE_ada = mean_squared_error(Y_teste,Y_pred_ada)\n",
    "RMSE_ada = np.sqrt(MSE_ada)\n",
    "MAPE_ada = mean_absolute_percentage_error(Y_teste,Y_pred_ada)"
   ]
  },
  {
   "cell_type": "code",
   "execution_count": null,
   "metadata": {},
   "outputs": [],
   "source": [
    "print(\"MAE = {:0.2f}\".format(MAE_ada))\n",
    "print(\"MAPE = {:0.2f}%\".format(MAPE_ada))\n",
    "print(\"MSE = {:0.2f}\".format(MSE_ada))\n",
    "print(\"RMSE = {:0.2f}\".format(RMSE_ada))"
   ]
  },
  {
   "cell_type": "code",
   "execution_count": null,
   "metadata": {},
   "outputs": [],
   "source": [
    "modelo = [\"Regressão linear\",\"SVR\",\"Decion Tree\",\"Random Forest\",\"Ada Boost\"]\n",
    "MAE = [MAE_linreg,MAE_svr,MAE_dte,MAE_rfr,MAE_ada]\n",
    "MAPE = [MAPE_linreg,MAPE_svr,MAPE_dte,MAPE_rfr,MAPE_ada]\n",
    "MSE = [MSE_linreg,MSE_svr,MSE_dte,MSE_rfr,MSE_ada]\n",
    "RMSE = [RMSE_linreg,RMSE_svr,RMSE_dte,RMSE_rfr,RMSE_ada]"
   ]
  },
  {
   "cell_type": "code",
   "execution_count": null,
   "metadata": {},
   "outputs": [],
   "source": [
    "dici = {\"Modelo\" : modelo, \"MAE\" : MAE, \"MAPE\" : MAPE, \"MSE\" : MSE, \"RMSE\" : RMSE}"
   ]
  },
  {
   "cell_type": "code",
   "execution_count": null,
   "metadata": {},
   "outputs": [],
   "source": [
    "pd_dici = pd.DataFrame(dici).sort_values(by=\"MAPE\")"
   ]
  },
  {
   "cell_type": "code",
   "execution_count": null,
   "metadata": {},
   "outputs": [],
   "source": [
    "pd_dici"
   ]
  },
  {
   "cell_type": "markdown",
   "metadata": {},
   "source": [
    "Modelo Random Forest apresentou melhor precisão em comparação aos demais modelos"
   ]
  },
  {
   "cell_type": "code",
   "execution_count": null,
   "metadata": {},
   "outputs": [],
   "source": []
  }
 ],
 "metadata": {
  "kernelspec": {
   "display_name": "Python 3",
   "language": "python",
   "name": "python3"
  },
  "language_info": {
   "codemirror_mode": {
    "name": "ipython",
    "version": 3
   },
   "file_extension": ".py",
   "mimetype": "text/x-python",
   "name": "python",
   "nbconvert_exporter": "python",
   "pygments_lexer": "ipython3",
   "version": "3.8.3"
  }
 },
 "nbformat": 4,
 "nbformat_minor": 4
}

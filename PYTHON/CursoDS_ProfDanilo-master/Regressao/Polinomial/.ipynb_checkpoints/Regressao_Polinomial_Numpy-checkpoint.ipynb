{
 "cells": [
  {
   "cell_type": "markdown",
   "metadata": {},
   "source": [
    "# Regressão Polinomial - NumPy"
   ]
  },
  {
   "cell_type": "markdown",
   "metadata": {},
   "source": [
    "* Regressão polinomial utilizando a biblioteca NumPy\n",
    "* @CursoDS_ProfDanilo\n",
    "* Prof. Dr. Danilo Morales Teixeira\n",
    "* cursods.profdanilo@gmail.com"
   ]
  },
  {
   "cell_type": "code",
   "execution_count": null,
   "metadata": {},
   "outputs": [],
   "source": [
    "import numpy as np\n",
    "import pandas as pd\n",
    "import matplotlib.pyplot as plt"
   ]
  },
  {
   "cell_type": "code",
   "execution_count": null,
   "metadata": {},
   "outputs": [],
   "source": [
    "dados = pd.read_csv('Regressao_Polinomial.csv')"
   ]
  },
  {
   "cell_type": "code",
   "execution_count": null,
   "metadata": {},
   "outputs": [],
   "source": [
    "dados.head()"
   ]
  },
  {
   "cell_type": "code",
   "execution_count": null,
   "metadata": {},
   "outputs": [],
   "source": [
    "X = dados['X'].values\n",
    "Y = dados['Y'].values"
   ]
  },
  {
   "cell_type": "code",
   "execution_count": null,
   "metadata": {},
   "outputs": [],
   "source": [
    "plt.scatter(X,Y,label='Y(X)');\n",
    "plt.xlabel('X');\n",
    "plt.ylabel('Y');\n",
    "plt.legend();"
   ]
  },
  {
   "cell_type": "code",
   "execution_count": null,
   "metadata": {},
   "outputs": [],
   "source": [
    "modelo2 = np.poly1d(np.polyfit(X, Y, 2))\n",
    "modelo3 = np.poly1d(np.polyfit(X, Y, 3))\n",
    "modelo4 = np.poly1d(np.polyfit(X, Y, 4))\n",
    "modelo5 = np.poly1d(np.polyfit(X, Y, 5))"
   ]
  },
  {
   "cell_type": "code",
   "execution_count": null,
   "metadata": {},
   "outputs": [],
   "source": [
    "y2 = modelo2(X)\n",
    "y3 = modelo3(X)\n",
    "y4 = modelo4(X)\n",
    "y5 = modelo5(X)"
   ]
  },
  {
   "cell_type": "code",
   "execution_count": null,
   "metadata": {},
   "outputs": [],
   "source": [
    "fig, ax = plt.subplots(2, 2)\n",
    "ax[0,0].scatter(X,Y);\n",
    "ax[0,0].plot(X,y2,color='red');\n",
    "ax[0,0].set_title('Grau 2');\n",
    "\n",
    "ax[0,1].scatter(X,Y);\n",
    "ax[0,1].plot(X,y3,color='red');\n",
    "ax[0,1].set_title('Grau 3');\n",
    "\n",
    "ax[1,0].scatter(X,Y);\n",
    "ax[1,0].plot(X,y4,color='red');\n",
    "ax[1,0].set_title('Grau 4');\n",
    "\n",
    "ax[1,1].scatter(X,Y);\n",
    "ax[1,1].plot(X,y5,color='red');\n",
    "ax[1,1].set_title('Grau 5');\n",
    "plt.tight_layout();"
   ]
  },
  {
   "cell_type": "code",
   "execution_count": null,
   "metadata": {},
   "outputs": [],
   "source": [
    "from sklearn.metrics import mean_squared_error, mean_absolute_error"
   ]
  },
  {
   "cell_type": "code",
   "execution_count": null,
   "metadata": {},
   "outputs": [],
   "source": [
    "MAE2 = mean_absolute_error(Y,y2)\n",
    "MAE3 = mean_absolute_error(Y,y3)\n",
    "MAE4 = mean_absolute_error(Y,y4)\n",
    "MAE5 = mean_absolute_error(Y,y5)\n",
    "\n",
    "print(\"MAE (grau=2) = {:0.4f}\".format(MAE2))\n",
    "print(\"MAE (grau=3) = {:0.4f}\".format(MAE3))\n",
    "print(\"MAE (grau=4) = {:0.4f}\".format(MAE4))\n",
    "print(\"MAE (grau=5) = {:0.4f}\".format(MAE5))"
   ]
  },
  {
   "cell_type": "code",
   "execution_count": null,
   "metadata": {},
   "outputs": [],
   "source": [
    "RMSE2 = np.sqrt(mean_squared_error(Y,y2))\n",
    "RMSE3 = np.sqrt(mean_squared_error(Y,y3))\n",
    "RMSE4 = np.sqrt(mean_squared_error(Y,y4))\n",
    "RMSE5 = np.sqrt(mean_squared_error(Y,y5))\n",
    "\n",
    "print(\"RMSE (grau=2) = {:0.4f}\".format(RMSE2))\n",
    "print(\"RMSE (grau=3) = {:0.4f}\".format(RMSE3))\n",
    "print(\"RMSE (grau=4) = {:0.4f}\".format(RMSE4))\n",
    "print(\"RMSE (grau=5) = {:0.4f}\".format(RMSE5))"
   ]
  }
 ],
 "metadata": {
  "kernelspec": {
   "display_name": "Python 3",
   "language": "python",
   "name": "python3"
  },
  "language_info": {
   "codemirror_mode": {
    "name": "ipython",
    "version": 3
   },
   "file_extension": ".py",
   "mimetype": "text/x-python",
   "name": "python",
   "nbconvert_exporter": "python",
   "pygments_lexer": "ipython3",
   "version": "3.7.6"
  }
 },
 "nbformat": 4,
 "nbformat_minor": 2
}

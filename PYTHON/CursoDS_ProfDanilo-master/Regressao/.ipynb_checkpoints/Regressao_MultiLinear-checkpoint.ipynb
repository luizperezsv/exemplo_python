{
 "cells": [
  {
   "cell_type": "markdown",
   "metadata": {},
   "source": [
    "# Prever o volume da bolsa futuro de Tokyo utilizando regressão multilinear"
   ]
  },
  {
   "cell_type": "markdown",
   "metadata": {},
   "source": [
    "Importando bibliotecas padrões"
   ]
  },
  {
   "cell_type": "code",
   "execution_count": 1,
   "metadata": {},
   "outputs": [],
   "source": [
    "import numpy as np\n",
    "import pandas as pd\n",
    "import matplotlib.pyplot as plt"
   ]
  },
  {
   "cell_type": "markdown",
   "metadata": {},
   "source": [
    "Lendo dataset"
   ]
  },
  {
   "cell_type": "code",
   "execution_count": 2,
   "metadata": {},
   "outputs": [],
   "source": [
    "dados = pd.read_csv('Tokyo_Stock.csv')"
   ]
  },
  {
   "cell_type": "markdown",
   "metadata": {},
   "source": [
    "Exibindo cinco primeiras linhas"
   ]
  },
  {
   "cell_type": "code",
   "execution_count": 3,
   "metadata": {},
   "outputs": [
    {
     "data": {
      "text/html": [
       "<div>\n",
       "<style scoped>\n",
       "    .dataframe tbody tr th:only-of-type {\n",
       "        vertical-align: middle;\n",
       "    }\n",
       "\n",
       "    .dataframe tbody tr th {\n",
       "        vertical-align: top;\n",
       "    }\n",
       "\n",
       "    .dataframe thead th {\n",
       "        text-align: right;\n",
       "    }\n",
       "</style>\n",
       "<table border=\"1\" class=\"dataframe\">\n",
       "  <thead>\n",
       "    <tr style=\"text-align: right;\">\n",
       "      <th></th>\n",
       "      <th>Date</th>\n",
       "      <th>Open</th>\n",
       "      <th>High</th>\n",
       "      <th>Low</th>\n",
       "      <th>Close</th>\n",
       "      <th>Volume</th>\n",
       "      <th>Stock Trading</th>\n",
       "    </tr>\n",
       "  </thead>\n",
       "  <tbody>\n",
       "    <tr>\n",
       "      <th>0</th>\n",
       "      <td>2016-12-30</td>\n",
       "      <td>42120</td>\n",
       "      <td>42330</td>\n",
       "      <td>41700</td>\n",
       "      <td>41830</td>\n",
       "      <td>610000</td>\n",
       "      <td>25628028000</td>\n",
       "    </tr>\n",
       "    <tr>\n",
       "      <th>1</th>\n",
       "      <td>2016-12-29</td>\n",
       "      <td>43000</td>\n",
       "      <td>43220</td>\n",
       "      <td>42540</td>\n",
       "      <td>42660</td>\n",
       "      <td>448400</td>\n",
       "      <td>19188227000</td>\n",
       "    </tr>\n",
       "    <tr>\n",
       "      <th>2</th>\n",
       "      <td>2016-12-28</td>\n",
       "      <td>43940</td>\n",
       "      <td>43970</td>\n",
       "      <td>43270</td>\n",
       "      <td>43270</td>\n",
       "      <td>339900</td>\n",
       "      <td>14780670000</td>\n",
       "    </tr>\n",
       "    <tr>\n",
       "      <th>3</th>\n",
       "      <td>2016-12-27</td>\n",
       "      <td>43140</td>\n",
       "      <td>43700</td>\n",
       "      <td>43140</td>\n",
       "      <td>43620</td>\n",
       "      <td>400100</td>\n",
       "      <td>17427993000</td>\n",
       "    </tr>\n",
       "    <tr>\n",
       "      <th>4</th>\n",
       "      <td>2016-12-26</td>\n",
       "      <td>43310</td>\n",
       "      <td>43660</td>\n",
       "      <td>43090</td>\n",
       "      <td>43340</td>\n",
       "      <td>358200</td>\n",
       "      <td>15547803000</td>\n",
       "    </tr>\n",
       "  </tbody>\n",
       "</table>\n",
       "</div>"
      ],
      "text/plain": [
       "         Date   Open   High    Low  Close  Volume  Stock Trading\n",
       "0  2016-12-30  42120  42330  41700  41830  610000    25628028000\n",
       "1  2016-12-29  43000  43220  42540  42660  448400    19188227000\n",
       "2  2016-12-28  43940  43970  43270  43270  339900    14780670000\n",
       "3  2016-12-27  43140  43700  43140  43620  400100    17427993000\n",
       "4  2016-12-26  43310  43660  43090  43340  358200    15547803000"
      ]
     },
     "execution_count": 3,
     "metadata": {},
     "output_type": "execute_result"
    }
   ],
   "source": [
    "dados.head()"
   ]
  },
  {
   "cell_type": "markdown",
   "metadata": {},
   "source": [
    "Para aplicar o modelo precisamos converter a data para número de dias apenas"
   ]
  },
  {
   "cell_type": "code",
   "execution_count": 4,
   "metadata": {},
   "outputs": [],
   "source": [
    "import datetime as ddt"
   ]
  },
  {
   "cell_type": "code",
   "execution_count": 5,
   "metadata": {},
   "outputs": [],
   "source": [
    "dados['Date']=pd.to_datetime(dados['Date'])\n",
    "dados['Date']=dados['Date'].map(ddt.datetime.toordinal)"
   ]
  },
  {
   "cell_type": "markdown",
   "metadata": {},
   "source": [
    "Verificando se a conversão foi bem sucedida"
   ]
  },
  {
   "cell_type": "code",
   "execution_count": 6,
   "metadata": {},
   "outputs": [
    {
     "data": {
      "text/html": [
       "<div>\n",
       "<style scoped>\n",
       "    .dataframe tbody tr th:only-of-type {\n",
       "        vertical-align: middle;\n",
       "    }\n",
       "\n",
       "    .dataframe tbody tr th {\n",
       "        vertical-align: top;\n",
       "    }\n",
       "\n",
       "    .dataframe thead th {\n",
       "        text-align: right;\n",
       "    }\n",
       "</style>\n",
       "<table border=\"1\" class=\"dataframe\">\n",
       "  <thead>\n",
       "    <tr style=\"text-align: right;\">\n",
       "      <th></th>\n",
       "      <th>Date</th>\n",
       "      <th>Open</th>\n",
       "      <th>High</th>\n",
       "      <th>Low</th>\n",
       "      <th>Close</th>\n",
       "      <th>Volume</th>\n",
       "      <th>Stock Trading</th>\n",
       "    </tr>\n",
       "  </thead>\n",
       "  <tbody>\n",
       "    <tr>\n",
       "      <th>0</th>\n",
       "      <td>736328</td>\n",
       "      <td>42120</td>\n",
       "      <td>42330</td>\n",
       "      <td>41700</td>\n",
       "      <td>41830</td>\n",
       "      <td>610000</td>\n",
       "      <td>25628028000</td>\n",
       "    </tr>\n",
       "    <tr>\n",
       "      <th>1</th>\n",
       "      <td>736327</td>\n",
       "      <td>43000</td>\n",
       "      <td>43220</td>\n",
       "      <td>42540</td>\n",
       "      <td>42660</td>\n",
       "      <td>448400</td>\n",
       "      <td>19188227000</td>\n",
       "    </tr>\n",
       "    <tr>\n",
       "      <th>2</th>\n",
       "      <td>736326</td>\n",
       "      <td>43940</td>\n",
       "      <td>43970</td>\n",
       "      <td>43270</td>\n",
       "      <td>43270</td>\n",
       "      <td>339900</td>\n",
       "      <td>14780670000</td>\n",
       "    </tr>\n",
       "    <tr>\n",
       "      <th>3</th>\n",
       "      <td>736325</td>\n",
       "      <td>43140</td>\n",
       "      <td>43700</td>\n",
       "      <td>43140</td>\n",
       "      <td>43620</td>\n",
       "      <td>400100</td>\n",
       "      <td>17427993000</td>\n",
       "    </tr>\n",
       "    <tr>\n",
       "      <th>4</th>\n",
       "      <td>736324</td>\n",
       "      <td>43310</td>\n",
       "      <td>43660</td>\n",
       "      <td>43090</td>\n",
       "      <td>43340</td>\n",
       "      <td>358200</td>\n",
       "      <td>15547803000</td>\n",
       "    </tr>\n",
       "  </tbody>\n",
       "</table>\n",
       "</div>"
      ],
      "text/plain": [
       "     Date   Open   High    Low  Close  Volume  Stock Trading\n",
       "0  736328  42120  42330  41700  41830  610000    25628028000\n",
       "1  736327  43000  43220  42540  42660  448400    19188227000\n",
       "2  736326  43940  43970  43270  43270  339900    14780670000\n",
       "3  736325  43140  43700  43140  43620  400100    17427993000\n",
       "4  736324  43310  43660  43090  43340  358200    15547803000"
      ]
     },
     "execution_count": 6,
     "metadata": {},
     "output_type": "execute_result"
    }
   ],
   "source": [
    "dados.head()"
   ]
  },
  {
   "cell_type": "markdown",
   "metadata": {},
   "source": [
    "Determinando as variaveis X e Y"
   ]
  },
  {
   "cell_type": "code",
   "execution_count": 10,
   "metadata": {},
   "outputs": [],
   "source": [
    "X = dados.drop(['Volume','Stock Trading'],axis=1).values\n",
    "Y = dados['Volume'].values"
   ]
  },
  {
   "cell_type": "markdown",
   "metadata": {},
   "source": [
    "Importando biblioteca do Scikit-learn para realizar regressão multilinear"
   ]
  },
  {
   "cell_type": "code",
   "execution_count": 13,
   "metadata": {},
   "outputs": [],
   "source": [
    "from sklearn.linear_model import LinearRegression"
   ]
  },
  {
   "cell_type": "code",
   "execution_count": 14,
   "metadata": {},
   "outputs": [],
   "source": [
    "modelo=LinearRegression()"
   ]
  },
  {
   "cell_type": "code",
   "execution_count": 15,
   "metadata": {},
   "outputs": [
    {
     "data": {
      "text/plain": [
       "LinearRegression(copy_X=True, fit_intercept=True, n_jobs=None, normalize=False)"
      ]
     },
     "execution_count": 15,
     "metadata": {},
     "output_type": "execute_result"
    }
   ],
   "source": [
    "modelo.fit(X,Y)"
   ]
  },
  {
   "cell_type": "code",
   "execution_count": 16,
   "metadata": {},
   "outputs": [],
   "source": [
    "coeficiente_linear = modelo.intercept_\n",
    "coeficiente_angular = modelo.coef_"
   ]
  },
  {
   "cell_type": "code",
   "execution_count": 17,
   "metadata": {},
   "outputs": [
    {
     "data": {
      "text/plain": [
       "19177195.83496226"
      ]
     },
     "execution_count": 17,
     "metadata": {},
     "output_type": "execute_result"
    }
   ],
   "source": [
    "coeficiente_linear"
   ]
  },
  {
   "cell_type": "code",
   "execution_count": 18,
   "metadata": {},
   "outputs": [
    {
     "data": {
      "text/plain": [
       "array([ -25.11475895,  -56.97590035,  455.45866025, -448.19781773,\n",
       "         39.18002828])"
      ]
     },
     "execution_count": 18,
     "metadata": {},
     "output_type": "execute_result"
    }
   ],
   "source": [
    "coeficiente_angular"
   ]
  },
  {
   "cell_type": "code",
   "execution_count": 19,
   "metadata": {},
   "outputs": [],
   "source": [
    "Y_pred = modelo.predict(X)"
   ]
  },
  {
   "cell_type": "markdown",
   "metadata": {},
   "source": [
    "Determinando erros do modelo"
   ]
  },
  {
   "cell_type": "code",
   "execution_count": 20,
   "metadata": {},
   "outputs": [],
   "source": [
    "from sklearn.metrics import mean_absolute_error,mean_squared_error"
   ]
  },
  {
   "cell_type": "code",
   "execution_count": 21,
   "metadata": {},
   "outputs": [],
   "source": [
    "MAE = mean_absolute_error(Y,Y_pred)"
   ]
  },
  {
   "cell_type": "code",
   "execution_count": 22,
   "metadata": {},
   "outputs": [],
   "source": [
    "MSE = mean_squared_error(Y,Y_pred)"
   ]
  },
  {
   "cell_type": "code",
   "execution_count": 23,
   "metadata": {},
   "outputs": [],
   "source": [
    "RMSE = np.sqrt(MSE)"
   ]
  },
  {
   "cell_type": "code",
   "execution_count": 25,
   "metadata": {},
   "outputs": [
    {
     "name": "stdout",
     "output_type": "stream",
     "text": [
      "MAE = 200553.00\n",
      "MSE = 115220502155.69\n",
      "RMSE = 339441.46\n"
     ]
    }
   ],
   "source": [
    "print(\"MAE = {:0.2f}\".format(MAE))\n",
    "print(\"MSE = {:0.2f}\".format(MSE))\n",
    "print(\"RMSE = {:0.2f}\".format(RMSE))"
   ]
  }
 ],
 "metadata": {
  "kernelspec": {
   "display_name": "Python 3",
   "language": "python",
   "name": "python3"
  },
  "language_info": {
   "codemirror_mode": {
    "name": "ipython",
    "version": 3
   },
   "file_extension": ".py",
   "mimetype": "text/x-python",
   "name": "python",
   "nbconvert_exporter": "python",
   "pygments_lexer": "ipython3",
   "version": "3.7.6"
  }
 },
 "nbformat": 4,
 "nbformat_minor": 2
}

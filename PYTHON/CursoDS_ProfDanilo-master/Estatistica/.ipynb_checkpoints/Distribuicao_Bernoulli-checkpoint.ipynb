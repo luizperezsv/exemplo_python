{
 "cells": [
  {
   "cell_type": "markdown",
   "metadata": {},
   "source": [
    "# Estatística - Distribuição de Bernoulli"
   ]
  },
  {
   "cell_type": "markdown",
   "metadata": {},
   "source": [
    "* Calculando uma distribuição de Bernoulli do zero e gerando número aleatórios\n",
    "* @CursoDS_ProfDanilo\n",
    "* Prof. Dr. Danilo Morales Teixeira\n",
    "* cursods.profdanilo@gmail.com"
   ]
  },
  {
   "cell_type": "code",
   "execution_count": null,
   "metadata": {},
   "outputs": [],
   "source": [
    "from scipy.stats import bernoulli"
   ]
  },
  {
   "cell_type": "code",
   "execution_count": null,
   "metadata": {},
   "outputs": [],
   "source": [
    "import numpy as np\n",
    "import matplotlib.pyplot as plt\n",
    "import seaborn as sns\n",
    "import math"
   ]
  },
  {
   "cell_type": "code",
   "execution_count": null,
   "metadata": {},
   "outputs": [],
   "source": [
    "valores1 = bernoulli.rvs(size=1000,p=0.6)\n",
    "valores2 = bernoulli.rvs(size=1000,p=0.5)\n",
    "valores3 = bernoulli.rvs(size=1000,p=0.1)"
   ]
  },
  {
   "cell_type": "code",
   "execution_count": null,
   "metadata": {},
   "outputs": [],
   "source": [
    "fig, ax = plt.subplots(1,3,figsize=(10,5))\n",
    "ax[0].hist(valores1,bins=2)\n",
    "ax[0].set_xlabel('X')\n",
    "ax[0].set_ylabel('Frequencia')\n",
    "ax[0].set_title('p=0.6')\n",
    "\n",
    "ax[1].hist(valores2,bins=2)\n",
    "ax[1].set_xlabel('X')\n",
    "ax[1].set_ylabel('Frequencia')\n",
    "ax[1].set_title('p=0.5')\n",
    "\n",
    "ax[2].hist(valores3,bins=2)\n",
    "ax[2].set_xlabel('X')\n",
    "ax[2].set_ylabel('Frequencia')\n",
    "ax[2].set_title('p=0.1')\n",
    "plt.tight_layout()"
   ]
  },
  {
   "cell_type": "code",
   "execution_count": null,
   "metadata": {},
   "outputs": [],
   "source": []
  }
 ],
 "metadata": {
  "kernelspec": {
   "display_name": "Python 3",
   "language": "python",
   "name": "python3"
  },
  "language_info": {
   "codemirror_mode": {
    "name": "ipython",
    "version": 3
   },
   "file_extension": ".py",
   "mimetype": "text/x-python",
   "name": "python",
   "nbconvert_exporter": "python",
   "pygments_lexer": "ipython3",
   "version": "3.7.7"
  }
 },
 "nbformat": 4,
 "nbformat_minor": 4
}

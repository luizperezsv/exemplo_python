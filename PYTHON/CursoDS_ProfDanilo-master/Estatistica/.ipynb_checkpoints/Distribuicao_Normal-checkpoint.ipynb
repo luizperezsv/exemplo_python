{
 "cells": [
  {
   "cell_type": "markdown",
   "metadata": {},
   "source": [
    "# Estatística - Distribuição Normal"
   ]
  },
  {
   "cell_type": "markdown",
   "metadata": {},
   "source": [
    "* Calculando uma distribuição normal do zero e gerando número aleatórios\n",
    "* @CursoDS_ProfDanilo\n",
    "* Prof. Dr. Danilo Morales Teixeira\n",
    "* cursods.profdanilo@gmail.com"
   ]
  },
  {
   "cell_type": "code",
   "execution_count": null,
   "metadata": {},
   "outputs": [],
   "source": [
    "from random import seed,randint,random\n",
    "import numpy as np\n",
    "import matplotlib.pyplot as plt\n",
    "import seaborn as sns\n",
    "import math"
   ]
  },
  {
   "cell_type": "code",
   "execution_count": null,
   "metadata": {},
   "outputs": [],
   "source": [
    "media = 5.0\n",
    "sigma1 = 0.2\n",
    "sigma2 = 0.5\n",
    "sigma3 = 0.8"
   ]
  },
  {
   "cell_type": "code",
   "execution_count": null,
   "metadata": {},
   "outputs": [],
   "source": [
    "x = np.linspace(0,10,100)"
   ]
  },
  {
   "cell_type": "code",
   "execution_count": null,
   "metadata": {},
   "outputs": [],
   "source": [
    "f1 = (1.0/(sigma1*np.sqrt(2.0*math.pi)))*np.exp(-0.5*((x-media)/sigma1)**2.0)\n",
    "f2 = (1.0/(sigma2*np.sqrt(2.0*math.pi)))*np.exp(-0.5*((x-media)/sigma2)**2.0)\n",
    "f3 = (1.0/(sigma3*np.sqrt(2.0*math.pi)))*np.exp(-0.5*((x-media)/sigma3)**2.0)"
   ]
  },
  {
   "cell_type": "code",
   "execution_count": null,
   "metadata": {},
   "outputs": [],
   "source": [
    "plt.plot(x,f1,label=r'$\\sigma$='+str(sigma1))\n",
    "plt.plot(x,f2,label=r'$\\sigma$='+str(sigma2))\n",
    "plt.plot(x,f3,label=r'$\\sigma$='+str(sigma3))\n",
    "plt.xlabel('x')\n",
    "plt.ylabel('f(x)')\n",
    "plt.legend()\n",
    "plt.tight_layout()"
   ]
  },
  {
   "cell_type": "code",
   "execution_count": null,
   "metadata": {},
   "outputs": [],
   "source": [
    "seed(1)"
   ]
  },
  {
   "cell_type": "code",
   "execution_count": null,
   "metadata": {},
   "outputs": [],
   "source": [
    "valores = [randint(0, 10) for i in range(1000)]"
   ]
  },
  {
   "cell_type": "code",
   "execution_count": null,
   "metadata": {},
   "outputs": [],
   "source": [
    "import matplotlib.pyplot as plt"
   ]
  },
  {
   "cell_type": "code",
   "execution_count": null,
   "metadata": {},
   "outputs": [],
   "source": [
    "plt.hist(valores,bins=10)\n",
    "plt.xlabel('X')\n",
    "plt.ylabel('Contagem')"
   ]
  },
  {
   "cell_type": "code",
   "execution_count": null,
   "metadata": {},
   "outputs": [],
   "source": [
    "valores2 = [random() for i in range(1000)]"
   ]
  },
  {
   "cell_type": "code",
   "execution_count": null,
   "metadata": {
    "scrolled": true
   },
   "outputs": [],
   "source": [
    "plt.hist(valores2,bins=10)\n",
    "plt.xlabel('X')\n",
    "plt.ylabel('Contagem')"
   ]
  },
  {
   "cell_type": "code",
   "execution_count": null,
   "metadata": {},
   "outputs": [],
   "source": [
    "from random import gauss\n",
    "import math\n",
    "import numpy as np"
   ]
  },
  {
   "cell_type": "code",
   "execution_count": null,
   "metadata": {},
   "outputs": [],
   "source": [
    "sigma = 1\n",
    "media = 0"
   ]
  },
  {
   "cell_type": "code",
   "execution_count": null,
   "metadata": {},
   "outputs": [],
   "source": [
    "valores3 = [gauss(media,sigma) for i in range(0,20000)]"
   ]
  },
  {
   "cell_type": "code",
   "execution_count": null,
   "metadata": {
    "scrolled": true
   },
   "outputs": [],
   "source": [
    "plt.hist(valores3,bins=20)\n",
    "plt.xlabel('X')\n",
    "plt.ylabel('Contagem')"
   ]
  },
  {
   "cell_type": "code",
   "execution_count": null,
   "metadata": {},
   "outputs": [],
   "source": [
    "fig, ax = plt.subplots(1,3,figsize=(10,5))\n",
    "ax[0].hist(valores2,bins=10)\n",
    "ax[0].set_xlabel('X')\n",
    "ax[0].set_ylabel('Contagem')\n",
    "ax[0].set_title('Aleatória')\n",
    "\n",
    "ax[1].hist(valores,bins=10)\n",
    "ax[1].set_xlabel('X')\n",
    "ax[1].set_ylabel('Contagem')\n",
    "ax[1].set_title('Aleatória com pico a direita')\n",
    "\n",
    "ax[2].hist(valores3,bins=20)\n",
    "ax[2].set_xlabel('X')\n",
    "ax[2].set_ylabel('Contagem')\n",
    "ax[2].set_title('Normal')\n",
    "plt.tight_layout()"
   ]
  }
 ],
 "metadata": {
  "kernelspec": {
   "display_name": "Python 3",
   "language": "python",
   "name": "python3"
  },
  "language_info": {
   "codemirror_mode": {
    "name": "ipython",
    "version": 3
   },
   "file_extension": ".py",
   "mimetype": "text/x-python",
   "name": "python",
   "nbconvert_exporter": "python",
   "pygments_lexer": "ipython3",
   "version": "3.7.7"
  }
 },
 "nbformat": 4,
 "nbformat_minor": 4
}

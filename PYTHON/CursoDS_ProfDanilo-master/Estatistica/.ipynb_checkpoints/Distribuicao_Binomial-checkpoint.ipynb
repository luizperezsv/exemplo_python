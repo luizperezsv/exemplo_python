{
 "cells": [
  {
   "cell_type": "markdown",
   "metadata": {},
   "source": [
    "# Estatística - Distribuição Binomial"
   ]
  },
  {
   "cell_type": "markdown",
   "metadata": {},
   "source": [
    "* Calculando uma distribuição Binomial do zero e gerando número aleatórios\n",
    "* @CursoDS_ProfDanilo\n",
    "* Prof. Dr. Danilo Morales Teixeira\n",
    "* cursods.profdanilo@gmail.com"
   ]
  },
  {
   "cell_type": "code",
   "execution_count": null,
   "metadata": {},
   "outputs": [],
   "source": [
    "from scipy.stats import binom\n",
    "import numpy as np\n",
    "import matplotlib.pyplot as plt\n",
    "import seaborn as sns\n",
    "from math import factorial"
   ]
  },
  {
   "cell_type": "code",
   "execution_count": null,
   "metadata": {},
   "outputs": [],
   "source": [
    "k=np.linspace(0,100,101)"
   ]
  },
  {
   "cell_type": "code",
   "execution_count": null,
   "metadata": {},
   "outputs": [],
   "source": [
    "p1 = 0.7\n",
    "p2 = 0.3"
   ]
  },
  {
   "cell_type": "code",
   "execution_count": null,
   "metadata": {},
   "outputs": [],
   "source": [
    "n1 = 30\n",
    "n2 = 50"
   ]
  },
  {
   "cell_type": "code",
   "execution_count": null,
   "metadata": {},
   "outputs": [],
   "source": [
    "n1_k = []\n",
    "k1 = []\n",
    "f_kn1p1 = []\n",
    "\n",
    "i=0\n",
    "while(n1 >= k[i]):\n",
    "    k1.append(k[i])\n",
    "    n1_k.append(factorial(n1)/(factorial(k[i])*factorial(n1-k[i])))\n",
    "    f_kn1p1.append(n1_k[i]*(p1**k[i])*((1-p1)**(n1-k[i])))\n",
    "    i = i+1"
   ]
  },
  {
   "cell_type": "code",
   "execution_count": null,
   "metadata": {},
   "outputs": [],
   "source": [
    "n1_k = []\n",
    "k1 = []\n",
    "f_kn1p2 = []\n",
    "\n",
    "i=0\n",
    "while(n1 >= k[i]):\n",
    "    k1.append(k[i])\n",
    "    n1_k.append(factorial(n1)/(factorial(k[i])*factorial(n1-k[i])))\n",
    "    f_kn1p2.append(n1_k[i]*(p2**k[i])*((1-p2)**(n1-k[i])))\n",
    "    i = i+1"
   ]
  },
  {
   "cell_type": "code",
   "execution_count": null,
   "metadata": {},
   "outputs": [],
   "source": [
    "n2_k = []\n",
    "k2 = []\n",
    "f_kn2p1 = []\n",
    "\n",
    "i=0\n",
    "while(n2 >= k[i]):\n",
    "    k2.append(k[i])\n",
    "    n2_k.append(factorial(n2)/(factorial(k[i])*factorial(n2-k[i])))\n",
    "    f_kn2p1.append(n2_k[i]*(p1**k[i])*((1-p1)**(n2-k[i])))\n",
    "    i = i+1"
   ]
  },
  {
   "cell_type": "code",
   "execution_count": null,
   "metadata": {},
   "outputs": [],
   "source": [
    "n2_k = []\n",
    "k2 = []\n",
    "f_kn2p2 = []\n",
    "\n",
    "i=0\n",
    "while(n2 >= k[i]):\n",
    "    k2.append(k[i])\n",
    "    n2_k.append(factorial(n2)/(factorial(k[i])*factorial(n2-k[i])))\n",
    "    f_kn2p2.append(n2_k[i]*(p2**k[i])*((1-p2)**(n2-k[i])))\n",
    "    i = i+1"
   ]
  },
  {
   "cell_type": "code",
   "execution_count": null,
   "metadata": {},
   "outputs": [],
   "source": [
    "plt.scatter(k1,f_kn1p1,label='n='+str(n1)+' p='+str(p1))\n",
    "plt.scatter(k1,f_kn1p2,label='n='+str(n1)+' p='+str(p2))\n",
    "plt.scatter(k2,f_kn2p1,label='n='+str(n2)+' p='+str(p1))\n",
    "plt.scatter(k2,f_kn2p2,label='n='+str(n2)+' p='+str(p2))\n",
    "plt.xlabel('k')\n",
    "plt.ylabel('P(k;n,p)')\n",
    "plt.legend(loc='best')\n",
    "plt.tight_layout()"
   ]
  },
  {
   "cell_type": "code",
   "execution_count": null,
   "metadata": {},
   "outputs": [],
   "source": [
    "n=100\n",
    "p=0.5"
   ]
  },
  {
   "cell_type": "code",
   "execution_count": null,
   "metadata": {},
   "outputs": [],
   "source": [
    "X = binom.rvs(n,p,size=1000)"
   ]
  },
  {
   "cell_type": "code",
   "execution_count": null,
   "metadata": {},
   "outputs": [],
   "source": [
    "sns.distplot(X, hist=True, kde=True)"
   ]
  },
  {
   "cell_type": "code",
   "execution_count": null,
   "metadata": {},
   "outputs": [],
   "source": []
  }
 ],
 "metadata": {
  "kernelspec": {
   "display_name": "Python 3",
   "language": "python",
   "name": "python3"
  },
  "language_info": {
   "codemirror_mode": {
    "name": "ipython",
    "version": 3
   },
   "file_extension": ".py",
   "mimetype": "text/x-python",
   "name": "python",
   "nbconvert_exporter": "python",
   "pygments_lexer": "ipython3",
   "version": "3.7.7"
  }
 },
 "nbformat": 4,
 "nbformat_minor": 4
}

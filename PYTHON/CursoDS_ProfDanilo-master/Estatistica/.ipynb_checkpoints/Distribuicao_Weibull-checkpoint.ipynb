{
 "cells": [
  {
   "cell_type": "markdown",
   "metadata": {},
   "source": [
    "# Estatística - Distribuição de Weibull"
   ]
  },
  {
   "cell_type": "markdown",
   "metadata": {},
   "source": [
    "* Calculando uma distribuição de Weibull do zero\n",
    "* @CursoDS_ProfDanilo\n",
    "* Prof. Dr. Danilo Morales Teixeira\n",
    "* cursods.profdanilo@gmail.com"
   ]
  },
  {
   "cell_type": "code",
   "execution_count": null,
   "metadata": {},
   "outputs": [],
   "source": [
    "import numpy as np\n",
    "import matplotlib.pyplot as plt\n",
    "import seaborn as sns\n",
    "import math"
   ]
  },
  {
   "cell_type": "code",
   "execution_count": null,
   "metadata": {},
   "outputs": [],
   "source": [
    "X = np.linspace(-1,3,301)"
   ]
  },
  {
   "cell_type": "code",
   "execution_count": null,
   "metadata": {},
   "outputs": [],
   "source": [
    "lambdas = [1,2,3]"
   ]
  },
  {
   "cell_type": "code",
   "execution_count": null,
   "metadata": {},
   "outputs": [],
   "source": [
    "ks = [0.5,1.0,1.5,2.0,4.0,5.0]"
   ]
  },
  {
   "cell_type": "code",
   "execution_count": null,
   "metadata": {},
   "outputs": [],
   "source": [
    "def weibull_2params(X,l,k):\n",
    "    \n",
    "    f = []\n",
    "    \n",
    "    for i in range(len(X)):\n",
    "        if(X[i]>=0.0):\n",
    "            f_tmp = (k/l)*((X[i]/l)**(k-1.0))*np.exp((-1.0*((X[i]/l)**k)))\n",
    "        else:\n",
    "            f_tmp = 0\n",
    "        f.append(f_tmp)\n",
    "    return np.array(f)"
   ]
  },
  {
   "cell_type": "code",
   "execution_count": null,
   "metadata": {},
   "outputs": [],
   "source": [
    "fs = []\n",
    "\n",
    "for lam in lambdas:\n",
    "    fl = []\n",
    "    for k in ks:\n",
    "        fl.append(weibull_2params(X,lam,k))\n",
    "    fs.append(fl)"
   ]
  },
  {
   "cell_type": "code",
   "execution_count": null,
   "metadata": {},
   "outputs": [],
   "source": [
    "fs = np.array(fs)"
   ]
  },
  {
   "cell_type": "code",
   "execution_count": null,
   "metadata": {},
   "outputs": [],
   "source": [
    "fs.shape"
   ]
  },
  {
   "cell_type": "code",
   "execution_count": null,
   "metadata": {},
   "outputs": [],
   "source": [
    "fig,ax = plt.subplots(3,1,figsize=(10,12))\n",
    "ax[0].set_title('lambda= 1.0')\n",
    "ax[1].set_title('lambda= 2.0')\n",
    "ax[2].set_title('lambda= 3.0')\n",
    "\n",
    "for i in range(len(ks)):\n",
    "    ax[0].plot(X,fs[0,i,:],label='K='+str(ks[i]))\n",
    "    ax[1].plot(X,fs[1,i,:],label='K='+str(ks[i]))\n",
    "    ax[2].plot(X,fs[2,i,:],label='K='+str(ks[i]))\n",
    "\n",
    "ax[0].legend()\n",
    "ax[1].legend()\n",
    "ax[2].legend()"
   ]
  },
  {
   "cell_type": "code",
   "execution_count": null,
   "metadata": {},
   "outputs": [],
   "source": [
    "aleatorio1 = np.random.weibull(5.,1000)\n",
    "aleatorio2 = np.random.weibull(2.,1000)\n",
    "aleatorio3 = np.random.weibull(10.,1000)"
   ]
  },
  {
   "cell_type": "code",
   "execution_count": null,
   "metadata": {},
   "outputs": [],
   "source": [
    "fig,ax = plt.subplots(3,1,figsize=(10,12))\n",
    "ax[0].hist(aleatorio1)\n",
    "ax[1].hist(aleatorio2)\n",
    "ax[2].hist(aleatorio3)"
   ]
  },
  {
   "cell_type": "code",
   "execution_count": null,
   "metadata": {},
   "outputs": [],
   "source": []
  }
 ],
 "metadata": {
  "kernelspec": {
   "display_name": "Python 3",
   "language": "python",
   "name": "python3"
  },
  "language_info": {
   "codemirror_mode": {
    "name": "ipython",
    "version": 3
   },
   "file_extension": ".py",
   "mimetype": "text/x-python",
   "name": "python",
   "nbconvert_exporter": "python",
   "pygments_lexer": "ipython3",
   "version": "3.7.7"
  }
 },
 "nbformat": 4,
 "nbformat_minor": 4
}

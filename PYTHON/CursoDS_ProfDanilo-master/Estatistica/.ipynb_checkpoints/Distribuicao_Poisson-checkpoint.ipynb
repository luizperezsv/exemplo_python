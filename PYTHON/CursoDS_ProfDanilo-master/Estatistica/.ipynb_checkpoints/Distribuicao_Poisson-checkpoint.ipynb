{
 "cells": [
  {
   "cell_type": "markdown",
   "metadata": {},
   "source": [
    "# Estatística - Distribuição de Poisson"
   ]
  },
  {
   "cell_type": "markdown",
   "metadata": {},
   "source": [
    "* Calculando uma distribuição de Poisson do zero e gerando número aleatórios\n",
    "* @CursoDS_ProfDanilo\n",
    "* Prof. Dr. Danilo Morales Teixeira\n",
    "* cursods.profdanilo@gmail.com"
   ]
  },
  {
   "cell_type": "code",
   "execution_count": null,
   "metadata": {},
   "outputs": [],
   "source": [
    "import numpy as np\n",
    "import matplotlib.pyplot as plt\n",
    "import seaborn as sns\n",
    "import math"
   ]
  },
  {
   "cell_type": "code",
   "execution_count": null,
   "metadata": {},
   "outputs": [],
   "source": [
    "k=np.linspace(0,100,101)"
   ]
  },
  {
   "cell_type": "code",
   "execution_count": null,
   "metadata": {},
   "outputs": [],
   "source": [
    "lambda1 = 5\n",
    "lambda2 = 20\n",
    "lambda3 = 50\n",
    "lambda4 = 80"
   ]
  },
  {
   "cell_type": "code",
   "execution_count": null,
   "metadata": {},
   "outputs": [],
   "source": [
    "f1 = []\n",
    "f2 = []\n",
    "f3 = []\n",
    "f4 = []\n",
    "\n",
    "for i in range(len(k)):\n",
    "    f1.append(((lambda1**k[i])*np.exp(-1.0*lambda1))/math.factorial(k[i]))\n",
    "    f2.append(((lambda2**k[i])*np.exp(-1.0*lambda2))/math.factorial(k[i]))\n",
    "    f3.append(((lambda3**k[i])*np.exp(-1.0*lambda3))/math.factorial(k[i]))\n",
    "    f4.append(((lambda4**k[i])*np.exp(-1.0*lambda4))/math.factorial(k[i]))"
   ]
  },
  {
   "cell_type": "code",
   "execution_count": null,
   "metadata": {},
   "outputs": [],
   "source": [
    "plt.plot(k,f1,label=r'$\\lambda$=5')\n",
    "plt.plot(k,f2,label=r'$\\lambda$=20')\n",
    "plt.plot(k,f3,label=r'$\\lambda$=50')\n",
    "plt.plot(k,f4,label=r'$\\lambda$=80')\n",
    "plt.xlabel('k')\n",
    "plt.ylabel('P(X=k)')\n",
    "plt.legend()\n",
    "plt.tight_layout()"
   ]
  },
  {
   "cell_type": "code",
   "execution_count": null,
   "metadata": {},
   "outputs": [],
   "source": [
    "from scipy.stats import poisson"
   ]
  },
  {
   "cell_type": "code",
   "execution_count": null,
   "metadata": {},
   "outputs": [],
   "source": [
    "dados_poisson = poisson.rvs(mu=5, size=1000)"
   ]
  },
  {
   "cell_type": "code",
   "execution_count": null,
   "metadata": {},
   "outputs": [],
   "source": [
    "sns.distplot(dados_poisson)\n",
    "plt.xlim([0,15])\n",
    "plt.xlabel('k')\n",
    "plt.ylabel('P(X=k)')"
   ]
  },
  {
   "cell_type": "code",
   "execution_count": null,
   "metadata": {},
   "outputs": [],
   "source": []
  }
 ],
 "metadata": {
  "kernelspec": {
   "display_name": "Python 3",
   "language": "python",
   "name": "python3"
  },
  "language_info": {
   "codemirror_mode": {
    "name": "ipython",
    "version": 3
   },
   "file_extension": ".py",
   "mimetype": "text/x-python",
   "name": "python",
   "nbconvert_exporter": "python",
   "pygments_lexer": "ipython3",
   "version": "3.7.7"
  }
 },
 "nbformat": 4,
 "nbformat_minor": 4
}

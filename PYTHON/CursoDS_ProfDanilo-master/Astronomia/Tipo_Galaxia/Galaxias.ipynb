{
 "cells": [
  {
   "cell_type": "markdown",
   "metadata": {},
   "source": [
    "# Classificação de galáxias"
   ]
  },
  {
   "cell_type": "markdown",
   "metadata": {},
   "source": [
    "* Determição do tipo de galáxia\n",
    "* Dados obtidos na NASA (https://heasarc.gsfc.nasa.gov/db-perl/W3Browse/w3table.pl?tablehead=name%3Dneargalcat&Action=More+Options)"
   ]
  },
  {
   "cell_type": "markdown",
   "metadata": {},
   "source": [
    "* Importando bibliotecas"
   ]
  },
  {
   "cell_type": "code",
   "execution_count": 6,
   "metadata": {},
   "outputs": [],
   "source": [
    "import pandas as pd\n",
    "import numpy as np\n",
    "import seaborn as sns\n",
    "import matplotlib.pyplot as plt"
   ]
  },
  {
   "cell_type": "markdown",
   "metadata": {},
   "source": [
    "* Lendo arquivo Excel"
   ]
  },
  {
   "cell_type": "code",
   "execution_count": 7,
   "metadata": {},
   "outputs": [
    {
     "name": "stdout",
     "output_type": "stream",
     "text": [
      "*** No CODEPAGE record, no encoding_override: will use 'ascii'\n",
      "*** No CODEPAGE record, no encoding_override: will use 'ascii'\n",
      "*** No CODEPAGE record, no encoding_override: will use 'ascii'\n",
      "*** No CODEPAGE record, no encoding_override: will use 'ascii'\n"
     ]
    }
   ],
   "source": [
    "dados = pd.read_excel('galaxias.xls',sheet_name='neargalcat')"
   ]
  },
  {
   "cell_type": "markdown",
   "metadata": {},
   "source": [
    "* Exibindo cinco primeiras linhas"
   ]
  },
  {
   "cell_type": "code",
   "execution_count": 8,
   "metadata": {},
   "outputs": [
    {
     "data": {
      "text/html": [
       "<div>\n",
       "<style scoped>\n",
       "    .dataframe tbody tr th:only-of-type {\n",
       "        vertical-align: middle;\n",
       "    }\n",
       "\n",
       "    .dataframe tbody tr th {\n",
       "        vertical-align: top;\n",
       "    }\n",
       "\n",
       "    .dataframe thead th {\n",
       "        text-align: right;\n",
       "    }\n",
       "</style>\n",
       "<table border=\"1\" class=\"dataframe\">\n",
       "  <thead>\n",
       "    <tr style=\"text-align: right;\">\n",
       "      <th></th>\n",
       "      <th>name</th>\n",
       "      <th>ra</th>\n",
       "      <th>dec</th>\n",
       "      <th>bmag</th>\n",
       "      <th>ks_mag</th>\n",
       "      <th>linear_diameter</th>\n",
       "      <th>distance</th>\n",
       "      <th>radial_velocity</th>\n",
       "      <th>abs_bmag</th>\n",
       "      <th>class</th>\n",
       "    </tr>\n",
       "  </thead>\n",
       "  <tbody>\n",
       "    <tr>\n",
       "      <th>0</th>\n",
       "      <td>ESO006-001</td>\n",
       "      <td>124.8471</td>\n",
       "      <td>-85.1456</td>\n",
       "      <td>15.13</td>\n",
       "      <td>12.97</td>\n",
       "      <td>2.55</td>\n",
       "      <td>6.70</td>\n",
       "      <td>738.0</td>\n",
       "      <td>-14.8</td>\n",
       "      <td>SPIRAL GALAXY</td>\n",
       "    </tr>\n",
       "    <tr>\n",
       "      <th>1</th>\n",
       "      <td>IC3104</td>\n",
       "      <td>184.6921</td>\n",
       "      <td>-79.7261</td>\n",
       "      <td>13.65</td>\n",
       "      <td>9.26</td>\n",
       "      <td>3.44</td>\n",
       "      <td>2.27</td>\n",
       "      <td>429.0</td>\n",
       "      <td>-14.8</td>\n",
       "      <td>SPIRAL GALAXY</td>\n",
       "    </tr>\n",
       "    <tr>\n",
       "      <th>2</th>\n",
       "      <td>HIPASS J1247-77</td>\n",
       "      <td>191.8858</td>\n",
       "      <td>-77.5836</td>\n",
       "      <td>18.00</td>\n",
       "      <td>13.50</td>\n",
       "      <td>1.18</td>\n",
       "      <td>3.16</td>\n",
       "      <td>413.0</td>\n",
       "      <td>-12.7</td>\n",
       "      <td>IRREGULAR GALAXY</td>\n",
       "    </tr>\n",
       "    <tr>\n",
       "      <th>3</th>\n",
       "      <td>NGC2915</td>\n",
       "      <td>141.5479</td>\n",
       "      <td>-76.6264</td>\n",
       "      <td>13.20</td>\n",
       "      <td>9.70</td>\n",
       "      <td>2.77</td>\n",
       "      <td>3.78</td>\n",
       "      <td>467.0</td>\n",
       "      <td>-16.1</td>\n",
       "      <td>SPIRAL GALAXY</td>\n",
       "    </tr>\n",
       "    <tr>\n",
       "      <th>4</th>\n",
       "      <td>[KK2000] 03</td>\n",
       "      <td>36.1779</td>\n",
       "      <td>-73.5128</td>\n",
       "      <td>16.00</td>\n",
       "      <td>10.83</td>\n",
       "      <td>3.01</td>\n",
       "      <td>4.10</td>\n",
       "      <td>NaN</td>\n",
       "      <td>-12.3</td>\n",
       "      <td>LENTICULAR GALAXY</td>\n",
       "    </tr>\n",
       "  </tbody>\n",
       "</table>\n",
       "</div>"
      ],
      "text/plain": [
       "              name        ra      dec   bmag  ks_mag  linear_diameter  \\\n",
       "0       ESO006-001  124.8471 -85.1456  15.13   12.97             2.55   \n",
       "1           IC3104  184.6921 -79.7261  13.65    9.26             3.44   \n",
       "2  HIPASS J1247-77  191.8858 -77.5836  18.00   13.50             1.18   \n",
       "3          NGC2915  141.5479 -76.6264  13.20    9.70             2.77   \n",
       "4      [KK2000] 03   36.1779 -73.5128  16.00   10.83             3.01   \n",
       "\n",
       "   distance  radial_velocity  abs_bmag              class  \n",
       "0      6.70            738.0     -14.8      SPIRAL GALAXY  \n",
       "1      2.27            429.0     -14.8      SPIRAL GALAXY  \n",
       "2      3.16            413.0     -12.7   IRREGULAR GALAXY  \n",
       "3      3.78            467.0     -16.1      SPIRAL GALAXY  \n",
       "4      4.10              NaN     -12.3  LENTICULAR GALAXY  "
      ]
     },
     "execution_count": 8,
     "metadata": {},
     "output_type": "execute_result"
    }
   ],
   "source": [
    "dados.head()"
   ]
  },
  {
   "cell_type": "markdown",
   "metadata": {},
   "source": [
    "* Verificando quantidade de galáxias para cada tipo"
   ]
  },
  {
   "cell_type": "code",
   "execution_count": 9,
   "metadata": {},
   "outputs": [
    {
     "data": {
      "image/png": "[encoded data removed]",
      "text/plain": [
       "<Figure size 432x288 with 1 Axes>"
      ]
     },
     "metadata": {
      "needs_background": "light"
     },
     "output_type": "display_data"
    }
   ],
   "source": [
    "sns.countplot(x=dados['class'])\n",
    "plt.xticks(rotation=90)\n",
    "plt.tight_layout()"
   ]
  },
  {
   "cell_type": "markdown",
   "metadata": {},
   "source": [
    "* Renomeando classes para uma forma mais geral"
   ]
  },
  {
   "cell_type": "code",
   "execution_count": 10,
   "metadata": {},
   "outputs": [],
   "source": [
    "def fix_classe(x):\n",
    "    if(x==\"IRREGULAR GALAXY\"):\n",
    "        return \"Irregular\"\n",
    "    elif(x==\"SPIRAL GALAXY\"):\n",
    "         return \"Espiral\"\n",
    "    elif(x==\"LENTICULAR GALAXY\"):\n",
    "         return \"Lenticular\"\n",
    "    elif(x==\"IRREGULAR GALAXY HII REGION\"):\n",
    "         return \"Irregular\"\n",
    "    else:\n",
    "         return x"
   ]
  },
  {
   "cell_type": "code",
   "execution_count": 11,
   "metadata": {},
   "outputs": [],
   "source": [
    "dados['class'] = dados['class'].apply(fix_classe)"
   ]
  },
  {
   "cell_type": "code",
   "execution_count": 12,
   "metadata": {},
   "outputs": [
    {
     "data": {
      "image/png": "[encoded data removed]",
      "text/plain": [
       "<Figure size 432x288 with 1 Axes>"
      ]
     },
     "metadata": {
      "needs_background": "light"
     },
     "output_type": "display_data"
    }
   ],
   "source": [
    "sns.countplot(x=dados['class'])\n",
    "plt.xticks(rotation=90)\n",
    "plt.tight_layout()"
   ]
  },
  {
   "cell_type": "markdown",
   "metadata": {},
   "source": [
    "* Removendo galáxias sem classe definida"
   ]
  },
  {
   "cell_type": "code",
   "execution_count": 13,
   "metadata": {},
   "outputs": [],
   "source": [
    "dados = dados[dados['class']!=\"UNIDENTIFIED\"]"
   ]
  },
  {
   "cell_type": "code",
   "execution_count": 14,
   "metadata": {},
   "outputs": [
    {
     "data": {
      "text/html": [
       "<div>\n",
       "<style scoped>\n",
       "    .dataframe tbody tr th:only-of-type {\n",
       "        vertical-align: middle;\n",
       "    }\n",
       "\n",
       "    .dataframe tbody tr th {\n",
       "        vertical-align: top;\n",
       "    }\n",
       "\n",
       "    .dataframe thead th {\n",
       "        text-align: right;\n",
       "    }\n",
       "</style>\n",
       "<table border=\"1\" class=\"dataframe\">\n",
       "  <thead>\n",
       "    <tr style=\"text-align: right;\">\n",
       "      <th></th>\n",
       "      <th>name</th>\n",
       "      <th>ra</th>\n",
       "      <th>dec</th>\n",
       "      <th>bmag</th>\n",
       "      <th>ks_mag</th>\n",
       "      <th>linear_diameter</th>\n",
       "      <th>distance</th>\n",
       "      <th>radial_velocity</th>\n",
       "      <th>abs_bmag</th>\n",
       "      <th>class</th>\n",
       "    </tr>\n",
       "  </thead>\n",
       "  <tbody>\n",
       "    <tr>\n",
       "      <th>0</th>\n",
       "      <td>ESO006-001</td>\n",
       "      <td>124.8471</td>\n",
       "      <td>-85.1456</td>\n",
       "      <td>15.13</td>\n",
       "      <td>12.97</td>\n",
       "      <td>2.55</td>\n",
       "      <td>6.70</td>\n",
       "      <td>738.0</td>\n",
       "      <td>-14.8</td>\n",
       "      <td>Espiral</td>\n",
       "    </tr>\n",
       "    <tr>\n",
       "      <th>1</th>\n",
       "      <td>IC3104</td>\n",
       "      <td>184.6921</td>\n",
       "      <td>-79.7261</td>\n",
       "      <td>13.65</td>\n",
       "      <td>9.26</td>\n",
       "      <td>3.44</td>\n",
       "      <td>2.27</td>\n",
       "      <td>429.0</td>\n",
       "      <td>-14.8</td>\n",
       "      <td>Espiral</td>\n",
       "    </tr>\n",
       "    <tr>\n",
       "      <th>2</th>\n",
       "      <td>HIPASS J1247-77</td>\n",
       "      <td>191.8858</td>\n",
       "      <td>-77.5836</td>\n",
       "      <td>18.00</td>\n",
       "      <td>13.50</td>\n",
       "      <td>1.18</td>\n",
       "      <td>3.16</td>\n",
       "      <td>413.0</td>\n",
       "      <td>-12.7</td>\n",
       "      <td>Irregular</td>\n",
       "    </tr>\n",
       "    <tr>\n",
       "      <th>3</th>\n",
       "      <td>NGC2915</td>\n",
       "      <td>141.5479</td>\n",
       "      <td>-76.6264</td>\n",
       "      <td>13.20</td>\n",
       "      <td>9.70</td>\n",
       "      <td>2.77</td>\n",
       "      <td>3.78</td>\n",
       "      <td>467.0</td>\n",
       "      <td>-16.1</td>\n",
       "      <td>Espiral</td>\n",
       "    </tr>\n",
       "    <tr>\n",
       "      <th>4</th>\n",
       "      <td>[KK2000] 03</td>\n",
       "      <td>36.1779</td>\n",
       "      <td>-73.5128</td>\n",
       "      <td>16.00</td>\n",
       "      <td>10.83</td>\n",
       "      <td>3.01</td>\n",
       "      <td>4.10</td>\n",
       "      <td>NaN</td>\n",
       "      <td>-12.3</td>\n",
       "      <td>Lenticular</td>\n",
       "    </tr>\n",
       "  </tbody>\n",
       "</table>\n",
       "</div>"
      ],
      "text/plain": [
       "              name        ra      dec   bmag  ks_mag  linear_diameter  \\\n",
       "0       ESO006-001  124.8471 -85.1456  15.13   12.97             2.55   \n",
       "1           IC3104  184.6921 -79.7261  13.65    9.26             3.44   \n",
       "2  HIPASS J1247-77  191.8858 -77.5836  18.00   13.50             1.18   \n",
       "3          NGC2915  141.5479 -76.6264  13.20    9.70             2.77   \n",
       "4      [KK2000] 03   36.1779 -73.5128  16.00   10.83             3.01   \n",
       "\n",
       "   distance  radial_velocity  abs_bmag       class  \n",
       "0      6.70            738.0     -14.8     Espiral  \n",
       "1      2.27            429.0     -14.8     Espiral  \n",
       "2      3.16            413.0     -12.7   Irregular  \n",
       "3      3.78            467.0     -16.1     Espiral  \n",
       "4      4.10              NaN     -12.3  Lenticular  "
      ]
     },
     "execution_count": 14,
     "metadata": {},
     "output_type": "execute_result"
    }
   ],
   "source": [
    "dados.head()"
   ]
  },
  {
   "cell_type": "markdown",
   "metadata": {},
   "source": [
    "* Exibindo informações dos dados"
   ]
  },
  {
   "cell_type": "code",
   "execution_count": 15,
   "metadata": {},
   "outputs": [
    {
     "name": "stdout",
     "output_type": "stream",
     "text": [
      "<class 'pandas.core.frame.DataFrame'>\n",
      "Int64Index: 868 entries, 0 to 868\n",
      "Data columns (total 10 columns):\n",
      " #   Column           Non-Null Count  Dtype  \n",
      "---  ------           --------------  -----  \n",
      " 0   name             868 non-null    object \n",
      " 1   ra               868 non-null    float64\n",
      " 2   dec              868 non-null    float64\n",
      " 3   bmag             863 non-null    float64\n",
      " 4   ks_mag           862 non-null    float64\n",
      " 5   linear_diameter  861 non-null    float64\n",
      " 6   distance         868 non-null    float64\n",
      " 7   radial_velocity  760 non-null    float64\n",
      " 8   abs_bmag         863 non-null    float64\n",
      " 9   class            868 non-null    object \n",
      "dtypes: float64(8), object(2)\n",
      "memory usage: 74.6+ KB\n"
     ]
    }
   ],
   "source": [
    "dados.info()"
   ]
  },
  {
   "cell_type": "markdown",
   "metadata": {},
   "source": [
    "* Verificando existência de NaNs"
   ]
  },
  {
   "cell_type": "code",
   "execution_count": 16,
   "metadata": {},
   "outputs": [
    {
     "data": {
      "text/plain": [
       "name                 0\n",
       "ra                   0\n",
       "dec                  0\n",
       "bmag                 5\n",
       "ks_mag               6\n",
       "linear_diameter      7\n",
       "distance             0\n",
       "radial_velocity    108\n",
       "abs_bmag             5\n",
       "class                0\n",
       "dtype: int64"
      ]
     },
     "execution_count": 16,
     "metadata": {},
     "output_type": "execute_result"
    }
   ],
   "source": [
    "dados.isna().sum()"
   ]
  },
  {
   "cell_type": "markdown",
   "metadata": {},
   "source": [
    "* Removendo linhas das colunas com menos elementos vazios"
   ]
  },
  {
   "cell_type": "code",
   "execution_count": 17,
   "metadata": {},
   "outputs": [],
   "source": [
    "dados = dados.dropna(subset=['bmag','ks_mag','linear_diameter','abs_bmag'])"
   ]
  },
  {
   "cell_type": "code",
   "execution_count": 18,
   "metadata": {},
   "outputs": [
    {
     "data": {
      "text/plain": [
       "name                 0\n",
       "ra                   0\n",
       "dec                  0\n",
       "bmag                 0\n",
       "ks_mag               0\n",
       "linear_diameter      0\n",
       "distance             0\n",
       "radial_velocity    108\n",
       "abs_bmag             0\n",
       "class                0\n",
       "dtype: int64"
      ]
     },
     "execution_count": 18,
     "metadata": {},
     "output_type": "execute_result"
    }
   ],
   "source": [
    "dados.isna().sum()"
   ]
  },
  {
   "cell_type": "markdown",
   "metadata": {},
   "source": [
    "* Separando cada grupo de galáxias num dataframe"
   ]
  },
  {
   "cell_type": "code",
   "execution_count": 19,
   "metadata": {},
   "outputs": [],
   "source": [
    "irregular = dados[dados['class']=='Irregular']\n",
    "lenticular = dados[dados['class']=='Lenticular']\n",
    "espiral = dados[dados['class']=='Espiral']"
   ]
  },
  {
   "cell_type": "markdown",
   "metadata": {},
   "source": [
    "* Verificando existência de NaNs nas irregulares e substituindo pela mediana"
   ]
  },
  {
   "cell_type": "code",
   "execution_count": 20,
   "metadata": {},
   "outputs": [
    {
     "data": {
      "text/plain": [
       "name                0\n",
       "ra                  0\n",
       "dec                 0\n",
       "bmag                0\n",
       "ks_mag              0\n",
       "linear_diameter     0\n",
       "distance            0\n",
       "radial_velocity    31\n",
       "abs_bmag            0\n",
       "class               0\n",
       "dtype: int64"
      ]
     },
     "execution_count": 20,
     "metadata": {},
     "output_type": "execute_result"
    }
   ],
   "source": [
    "irregular.isna().sum()"
   ]
  },
  {
   "cell_type": "code",
   "execution_count": 21,
   "metadata": {},
   "outputs": [
    {
     "name": "stderr",
     "output_type": "stream",
     "text": [
      "<ipython-input-21-46fd05ba8252>:1: SettingWithCopyWarning: \n",
      "A value is trying to be set on a copy of a slice from a DataFrame.\n",
      "Try using .loc[row_indexer,col_indexer] = value instead\n",
      "\n",
      "See the caveats in the documentation: https://pandas.pydata.org/pandas-docs/stable/user_guide/indexing.html#returning-a-view-versus-a-copy\n",
      "  irregular['radial_velocity'] = irregular['radial_velocity'].fillna(irregular['radial_velocity'].mean())\n"
     ]
    }
   ],
   "source": [
    "irregular['radial_velocity'] = irregular['radial_velocity'].fillna(irregular['radial_velocity'].mean())"
   ]
  },
  {
   "cell_type": "markdown",
   "metadata": {},
   "source": [
    "* Verificando existência de NaNs nas lenticulares e substituindo pela mediana"
   ]
  },
  {
   "cell_type": "code",
   "execution_count": 22,
   "metadata": {},
   "outputs": [
    {
     "data": {
      "text/plain": [
       "name                0\n",
       "ra                  0\n",
       "dec                 0\n",
       "bmag                0\n",
       "ks_mag              0\n",
       "linear_diameter     0\n",
       "distance            0\n",
       "radial_velocity    77\n",
       "abs_bmag            0\n",
       "class               0\n",
       "dtype: int64"
      ]
     },
     "execution_count": 22,
     "metadata": {},
     "output_type": "execute_result"
    }
   ],
   "source": [
    "lenticular.isna().sum()"
   ]
  },
  {
   "cell_type": "code",
   "execution_count": 23,
   "metadata": {},
   "outputs": [
    {
     "name": "stderr",
     "output_type": "stream",
     "text": [
      "<ipython-input-23-e8ad1879e9d7>:1: SettingWithCopyWarning: \n",
      "A value is trying to be set on a copy of a slice from a DataFrame.\n",
      "Try using .loc[row_indexer,col_indexer] = value instead\n",
      "\n",
      "See the caveats in the documentation: https://pandas.pydata.org/pandas-docs/stable/user_guide/indexing.html#returning-a-view-versus-a-copy\n",
      "  lenticular['radial_velocity'] = lenticular['radial_velocity'].fillna(lenticular['radial_velocity'].mean())\n"
     ]
    }
   ],
   "source": [
    "lenticular['radial_velocity'] = lenticular['radial_velocity'].fillna(lenticular['radial_velocity'].mean())"
   ]
  },
  {
   "cell_type": "markdown",
   "metadata": {},
   "source": [
    "* Verificando existência de NaNs nas espirais e substituindo pela mediana"
   ]
  },
  {
   "cell_type": "code",
   "execution_count": 24,
   "metadata": {},
   "outputs": [
    {
     "name": "stderr",
     "output_type": "stream",
     "text": [
      "<ipython-input-24-2d8240883313>:1: SettingWithCopyWarning: \n",
      "A value is trying to be set on a copy of a slice from a DataFrame.\n",
      "Try using .loc[row_indexer,col_indexer] = value instead\n",
      "\n",
      "See the caveats in the documentation: https://pandas.pydata.org/pandas-docs/stable/user_guide/indexing.html#returning-a-view-versus-a-copy\n",
      "  espiral['radial_velocity'] = espiral['radial_velocity'].fillna(espiral['radial_velocity'].mean())\n"
     ]
    }
   ],
   "source": [
    "espiral['radial_velocity'] = espiral['radial_velocity'].fillna(espiral['radial_velocity'].mean())"
   ]
  },
  {
   "cell_type": "markdown",
   "metadata": {},
   "source": [
    "* Juntando dataframes"
   ]
  },
  {
   "cell_type": "code",
   "execution_count": 25,
   "metadata": {},
   "outputs": [],
   "source": [
    "dados = pd.concat([espiral,lenticular,irregular])"
   ]
  },
  {
   "cell_type": "code",
   "execution_count": 26,
   "metadata": {},
   "outputs": [
    {
     "data": {
      "text/html": [
       "<div>\n",
       "<style scoped>\n",
       "    .dataframe tbody tr th:only-of-type {\n",
       "        vertical-align: middle;\n",
       "    }\n",
       "\n",
       "    .dataframe tbody tr th {\n",
       "        vertical-align: top;\n",
       "    }\n",
       "\n",
       "    .dataframe thead th {\n",
       "        text-align: right;\n",
       "    }\n",
       "</style>\n",
       "<table border=\"1\" class=\"dataframe\">\n",
       "  <thead>\n",
       "    <tr style=\"text-align: right;\">\n",
       "      <th></th>\n",
       "      <th>name</th>\n",
       "      <th>ra</th>\n",
       "      <th>dec</th>\n",
       "      <th>bmag</th>\n",
       "      <th>ks_mag</th>\n",
       "      <th>linear_diameter</th>\n",
       "      <th>distance</th>\n",
       "      <th>radial_velocity</th>\n",
       "      <th>abs_bmag</th>\n",
       "      <th>class</th>\n",
       "    </tr>\n",
       "  </thead>\n",
       "  <tbody>\n",
       "    <tr>\n",
       "      <th>0</th>\n",
       "      <td>ESO006-001</td>\n",
       "      <td>124.8471</td>\n",
       "      <td>-85.1456</td>\n",
       "      <td>15.13</td>\n",
       "      <td>12.97</td>\n",
       "      <td>2.55</td>\n",
       "      <td>6.70</td>\n",
       "      <td>738.0</td>\n",
       "      <td>-14.8</td>\n",
       "      <td>Espiral</td>\n",
       "    </tr>\n",
       "    <tr>\n",
       "      <th>1</th>\n",
       "      <td>IC3104</td>\n",
       "      <td>184.6921</td>\n",
       "      <td>-79.7261</td>\n",
       "      <td>13.65</td>\n",
       "      <td>9.26</td>\n",
       "      <td>3.44</td>\n",
       "      <td>2.27</td>\n",
       "      <td>429.0</td>\n",
       "      <td>-14.8</td>\n",
       "      <td>Espiral</td>\n",
       "    </tr>\n",
       "    <tr>\n",
       "      <th>3</th>\n",
       "      <td>NGC2915</td>\n",
       "      <td>141.5479</td>\n",
       "      <td>-76.6264</td>\n",
       "      <td>13.20</td>\n",
       "      <td>9.70</td>\n",
       "      <td>2.77</td>\n",
       "      <td>3.78</td>\n",
       "      <td>467.0</td>\n",
       "      <td>-16.1</td>\n",
       "      <td>Espiral</td>\n",
       "    </tr>\n",
       "    <tr>\n",
       "      <th>5</th>\n",
       "      <td>SMC</td>\n",
       "      <td>13.1583</td>\n",
       "      <td>-72.8003</td>\n",
       "      <td>2.70</td>\n",
       "      <td>0.16</td>\n",
       "      <td>7.09</td>\n",
       "      <td>0.06</td>\n",
       "      <td>158.0</td>\n",
       "      <td>-16.5</td>\n",
       "      <td>Espiral</td>\n",
       "    </tr>\n",
       "    <tr>\n",
       "      <th>6</th>\n",
       "      <td>LMC</td>\n",
       "      <td>80.8942</td>\n",
       "      <td>-69.7561</td>\n",
       "      <td>0.91</td>\n",
       "      <td>-1.75</td>\n",
       "      <td>10.06</td>\n",
       "      <td>0.05</td>\n",
       "      <td>278.0</td>\n",
       "      <td>-17.9</td>\n",
       "      <td>Espiral</td>\n",
       "    </tr>\n",
       "  </tbody>\n",
       "</table>\n",
       "</div>"
      ],
      "text/plain": [
       "         name        ra      dec   bmag  ks_mag  linear_diameter  distance  \\\n",
       "0  ESO006-001  124.8471 -85.1456  15.13   12.97             2.55      6.70   \n",
       "1      IC3104  184.6921 -79.7261  13.65    9.26             3.44      2.27   \n",
       "3     NGC2915  141.5479 -76.6264  13.20    9.70             2.77      3.78   \n",
       "5         SMC   13.1583 -72.8003   2.70    0.16             7.09      0.06   \n",
       "6         LMC   80.8942 -69.7561   0.91   -1.75            10.06      0.05   \n",
       "\n",
       "   radial_velocity  abs_bmag    class  \n",
       "0            738.0     -14.8  Espiral  \n",
       "1            429.0     -14.8  Espiral  \n",
       "3            467.0     -16.1  Espiral  \n",
       "5            158.0     -16.5  Espiral  \n",
       "6            278.0     -17.9  Espiral  "
      ]
     },
     "execution_count": 26,
     "metadata": {},
     "output_type": "execute_result"
    }
   ],
   "source": [
    "dados.head()"
   ]
  },
  {
   "cell_type": "code",
   "execution_count": 27,
   "metadata": {},
   "outputs": [
    {
     "name": "stdout",
     "output_type": "stream",
     "text": [
      "<class 'pandas.core.frame.DataFrame'>\n",
      "Int64Index: 861 entries, 0 to 868\n",
      "Data columns (total 10 columns):\n",
      " #   Column           Non-Null Count  Dtype  \n",
      "---  ------           --------------  -----  \n",
      " 0   name             861 non-null    object \n",
      " 1   ra               861 non-null    float64\n",
      " 2   dec              861 non-null    float64\n",
      " 3   bmag             861 non-null    float64\n",
      " 4   ks_mag           861 non-null    float64\n",
      " 5   linear_diameter  861 non-null    float64\n",
      " 6   distance         861 non-null    float64\n",
      " 7   radial_velocity  861 non-null    float64\n",
      " 8   abs_bmag         861 non-null    float64\n",
      " 9   class            861 non-null    object \n",
      "dtypes: float64(8), object(2)\n",
      "memory usage: 74.0+ KB\n"
     ]
    }
   ],
   "source": [
    "dados.info()"
   ]
  },
  {
   "cell_type": "markdown",
   "metadata": {},
   "source": [
    "* Analisando posição dos objetos"
   ]
  },
  {
   "cell_type": "code",
   "execution_count": 28,
   "metadata": {},
   "outputs": [
    {
     "name": "stderr",
     "output_type": "stream",
     "text": [
      "/Users/danilo/opt/anaconda3/lib/python3.8/site-packages/seaborn/regression.py:580: UserWarning: The `size` parameter has been renamed to `height`; please update your code.\n",
      "  warnings.warn(msg, UserWarning)\n"
     ]
    },
    {
     "data": {
      "text/plain": [
       "Text(10.657584635416669, 0.5, 'Declinação (graus)')"
      ]
     },
     "execution_count": 28,
     "metadata": {},
     "output_type": "execute_result"
    },
    {
     "data": {
      "image/png": "[encoded data removed]",
      "text/plain": [
       "<Figure size 949.625x432 with 1 Axes>"
      ]
     },
     "metadata": {
      "needs_background": "light"
     },
     "output_type": "display_data"
    }
   ],
   "source": [
    "sns.lmplot(x='ra', y='dec', data=dados, hue='class', fit_reg=False, palette='coolwarm', size=6, aspect=2)\n",
    "plt.title('Coordenadas equatoriais (RA-DEC)')\n",
    "plt.xlabel('Ascenção reta (graus)')\n",
    "plt.ylabel('Declinação (graus)')"
   ]
  },
  {
   "cell_type": "markdown",
   "metadata": {},
   "source": [
    "* Conforme esperado objetos não estão numa posição preferencial"
   ]
  },
  {
   "cell_type": "markdown",
   "metadata": {},
   "source": [
    "* Removendo colunas name, ra e dec do dataframe"
   ]
  },
  {
   "cell_type": "code",
   "execution_count": 29,
   "metadata": {},
   "outputs": [],
   "source": [
    "dados = dados.drop(['name','ra','dec'],axis=1)"
   ]
  },
  {
   "cell_type": "code",
   "execution_count": 30,
   "metadata": {},
   "outputs": [
    {
     "data": {
      "text/html": [
       "<div>\n",
       "<style scoped>\n",
       "    .dataframe tbody tr th:only-of-type {\n",
       "        vertical-align: middle;\n",
       "    }\n",
       "\n",
       "    .dataframe tbody tr th {\n",
       "        vertical-align: top;\n",
       "    }\n",
       "\n",
       "    .dataframe thead th {\n",
       "        text-align: right;\n",
       "    }\n",
       "</style>\n",
       "<table border=\"1\" class=\"dataframe\">\n",
       "  <thead>\n",
       "    <tr style=\"text-align: right;\">\n",
       "      <th></th>\n",
       "      <th>bmag</th>\n",
       "      <th>ks_mag</th>\n",
       "      <th>linear_diameter</th>\n",
       "      <th>distance</th>\n",
       "      <th>radial_velocity</th>\n",
       "      <th>abs_bmag</th>\n",
       "      <th>class</th>\n",
       "    </tr>\n",
       "  </thead>\n",
       "  <tbody>\n",
       "    <tr>\n",
       "      <th>0</th>\n",
       "      <td>15.13</td>\n",
       "      <td>12.97</td>\n",
       "      <td>2.55</td>\n",
       "      <td>6.70</td>\n",
       "      <td>738.0</td>\n",
       "      <td>-14.8</td>\n",
       "      <td>Espiral</td>\n",
       "    </tr>\n",
       "    <tr>\n",
       "      <th>1</th>\n",
       "      <td>13.65</td>\n",
       "      <td>9.26</td>\n",
       "      <td>3.44</td>\n",
       "      <td>2.27</td>\n",
       "      <td>429.0</td>\n",
       "      <td>-14.8</td>\n",
       "      <td>Espiral</td>\n",
       "    </tr>\n",
       "    <tr>\n",
       "      <th>3</th>\n",
       "      <td>13.20</td>\n",
       "      <td>9.70</td>\n",
       "      <td>2.77</td>\n",
       "      <td>3.78</td>\n",
       "      <td>467.0</td>\n",
       "      <td>-16.1</td>\n",
       "      <td>Espiral</td>\n",
       "    </tr>\n",
       "    <tr>\n",
       "      <th>5</th>\n",
       "      <td>2.70</td>\n",
       "      <td>0.16</td>\n",
       "      <td>7.09</td>\n",
       "      <td>0.06</td>\n",
       "      <td>158.0</td>\n",
       "      <td>-16.5</td>\n",
       "      <td>Espiral</td>\n",
       "    </tr>\n",
       "    <tr>\n",
       "      <th>6</th>\n",
       "      <td>0.91</td>\n",
       "      <td>-1.75</td>\n",
       "      <td>10.06</td>\n",
       "      <td>0.05</td>\n",
       "      <td>278.0</td>\n",
       "      <td>-17.9</td>\n",
       "      <td>Espiral</td>\n",
       "    </tr>\n",
       "  </tbody>\n",
       "</table>\n",
       "</div>"
      ],
      "text/plain": [
       "    bmag  ks_mag  linear_diameter  distance  radial_velocity  abs_bmag  \\\n",
       "0  15.13   12.97             2.55      6.70            738.0     -14.8   \n",
       "1  13.65    9.26             3.44      2.27            429.0     -14.8   \n",
       "3  13.20    9.70             2.77      3.78            467.0     -16.1   \n",
       "5   2.70    0.16             7.09      0.06            158.0     -16.5   \n",
       "6   0.91   -1.75            10.06      0.05            278.0     -17.9   \n",
       "\n",
       "     class  \n",
       "0  Espiral  \n",
       "1  Espiral  \n",
       "3  Espiral  \n",
       "5  Espiral  \n",
       "6  Espiral  "
      ]
     },
     "execution_count": 30,
     "metadata": {},
     "output_type": "execute_result"
    }
   ],
   "source": [
    "dados.head()"
   ]
  },
  {
   "cell_type": "markdown",
   "metadata": {},
   "source": [
    "* Analisando distribuição das variáveis "
   ]
  },
  {
   "cell_type": "code",
   "execution_count": 31,
   "metadata": {},
   "outputs": [
    {
     "data": {
      "image/png": "[encoded data removed]",
      "text/plain": [
       "<Figure size 720x576 with 6 Axes>"
      ]
     },
     "metadata": {
      "needs_background": "light"
     },
     "output_type": "display_data"
    }
   ],
   "source": [
    "fig, ax = plt.subplots(2,3,figsize=(10,8))\n",
    "sns.histplot(data=dados,x='bmag',hue='class',ax=ax[0][0])\n",
    "sns.histplot(data=dados,x='ks_mag',hue='class',ax=ax[0][1])\n",
    "sns.histplot(data=dados,x='linear_diameter',hue='class',ax=ax[0][2])\n",
    "\n",
    "sns.histplot(data=dados,x='distance',hue='class',ax=ax[1][0])\n",
    "sns.histplot(data=dados,x='radial_velocity',hue='class',ax=ax[1][1])\n",
    "sns.histplot(data=dados,x='abs_bmag',hue='class',ax=ax[1][2])\n",
    "plt.tight_layout()"
   ]
  },
  {
   "cell_type": "markdown",
   "metadata": {},
   "source": [
    "* Analisando outliers"
   ]
  },
  {
   "cell_type": "code",
   "execution_count": 32,
   "metadata": {},
   "outputs": [
    {
     "data": {
      "image/png": "[encoded data removed]",
      "text/plain": [
       "<Figure size 720x576 with 6 Axes>"
      ]
     },
     "metadata": {
      "needs_background": "light"
     },
     "output_type": "display_data"
    }
   ],
   "source": [
    "fig, ax = plt.subplots(2,3,figsize=(10,8))\n",
    "sns.boxplot(data=dados,y='bmag',x='class',ax=ax[0][0])\n",
    "sns.boxplot(data=dados,y='ks_mag',x='class',ax=ax[0][1])\n",
    "sns.boxplot(data=dados,y='linear_diameter',x='class',ax=ax[0][2])\n",
    "\n",
    "sns.boxplot(data=dados,y='distance',x='class',ax=ax[1][0])\n",
    "sns.boxplot(data=dados,y='radial_velocity',x='class',ax=ax[1][1])\n",
    "sns.boxplot(data=dados,y='abs_bmag',x='class',ax=ax[1][2])\n",
    "plt.tight_layout()"
   ]
  },
  {
   "cell_type": "markdown",
   "metadata": {},
   "source": [
    "* Convertendo variável classe para numérica"
   ]
  },
  {
   "cell_type": "code",
   "execution_count": 33,
   "metadata": {},
   "outputs": [],
   "source": [
    "from sklearn.preprocessing import LabelEncoder"
   ]
  },
  {
   "cell_type": "code",
   "execution_count": 34,
   "metadata": {},
   "outputs": [],
   "source": [
    "le = LabelEncoder()"
   ]
  },
  {
   "cell_type": "code",
   "execution_count": 35,
   "metadata": {},
   "outputs": [],
   "source": [
    "dados['class'] = le.fit_transform(dados['class'].values)"
   ]
  },
  {
   "cell_type": "code",
   "execution_count": 36,
   "metadata": {},
   "outputs": [
    {
     "data": {
      "text/html": [
       "<div>\n",
       "<style scoped>\n",
       "    .dataframe tbody tr th:only-of-type {\n",
       "        vertical-align: middle;\n",
       "    }\n",
       "\n",
       "    .dataframe tbody tr th {\n",
       "        vertical-align: top;\n",
       "    }\n",
       "\n",
       "    .dataframe thead th {\n",
       "        text-align: right;\n",
       "    }\n",
       "</style>\n",
       "<table border=\"1\" class=\"dataframe\">\n",
       "  <thead>\n",
       "    <tr style=\"text-align: right;\">\n",
       "      <th></th>\n",
       "      <th>bmag</th>\n",
       "      <th>ks_mag</th>\n",
       "      <th>linear_diameter</th>\n",
       "      <th>distance</th>\n",
       "      <th>radial_velocity</th>\n",
       "      <th>abs_bmag</th>\n",
       "      <th>class</th>\n",
       "    </tr>\n",
       "  </thead>\n",
       "  <tbody>\n",
       "    <tr>\n",
       "      <th>0</th>\n",
       "      <td>15.13</td>\n",
       "      <td>12.97</td>\n",
       "      <td>2.55</td>\n",
       "      <td>6.70</td>\n",
       "      <td>738.0</td>\n",
       "      <td>-14.8</td>\n",
       "      <td>0</td>\n",
       "    </tr>\n",
       "    <tr>\n",
       "      <th>1</th>\n",
       "      <td>13.65</td>\n",
       "      <td>9.26</td>\n",
       "      <td>3.44</td>\n",
       "      <td>2.27</td>\n",
       "      <td>429.0</td>\n",
       "      <td>-14.8</td>\n",
       "      <td>0</td>\n",
       "    </tr>\n",
       "    <tr>\n",
       "      <th>3</th>\n",
       "      <td>13.20</td>\n",
       "      <td>9.70</td>\n",
       "      <td>2.77</td>\n",
       "      <td>3.78</td>\n",
       "      <td>467.0</td>\n",
       "      <td>-16.1</td>\n",
       "      <td>0</td>\n",
       "    </tr>\n",
       "    <tr>\n",
       "      <th>5</th>\n",
       "      <td>2.70</td>\n",
       "      <td>0.16</td>\n",
       "      <td>7.09</td>\n",
       "      <td>0.06</td>\n",
       "      <td>158.0</td>\n",
       "      <td>-16.5</td>\n",
       "      <td>0</td>\n",
       "    </tr>\n",
       "    <tr>\n",
       "      <th>6</th>\n",
       "      <td>0.91</td>\n",
       "      <td>-1.75</td>\n",
       "      <td>10.06</td>\n",
       "      <td>0.05</td>\n",
       "      <td>278.0</td>\n",
       "      <td>-17.9</td>\n",
       "      <td>0</td>\n",
       "    </tr>\n",
       "  </tbody>\n",
       "</table>\n",
       "</div>"
      ],
      "text/plain": [
       "    bmag  ks_mag  linear_diameter  distance  radial_velocity  abs_bmag  class\n",
       "0  15.13   12.97             2.55      6.70            738.0     -14.8      0\n",
       "1  13.65    9.26             3.44      2.27            429.0     -14.8      0\n",
       "3  13.20    9.70             2.77      3.78            467.0     -16.1      0\n",
       "5   2.70    0.16             7.09      0.06            158.0     -16.5      0\n",
       "6   0.91   -1.75            10.06      0.05            278.0     -17.9      0"
      ]
     },
     "execution_count": 36,
     "metadata": {},
     "output_type": "execute_result"
    }
   ],
   "source": [
    "dados.head()"
   ]
  },
  {
   "cell_type": "markdown",
   "metadata": {},
   "source": [
    "* Determinando variáveis X e Y"
   ]
  },
  {
   "cell_type": "code",
   "execution_count": 37,
   "metadata": {},
   "outputs": [],
   "source": [
    "X = dados.drop('class',axis=1).values\n",
    "Y = dados['class'].values"
   ]
  },
  {
   "cell_type": "markdown",
   "metadata": {},
   "source": [
    "* Criando amostras de treino e teste"
   ]
  },
  {
   "cell_type": "code",
   "execution_count": 40,
   "metadata": {},
   "outputs": [],
   "source": [
    "from sklearn.model_selection import train_test_split"
   ]
  },
  {
   "cell_type": "code",
   "execution_count": 41,
   "metadata": {},
   "outputs": [],
   "source": [
    "X_treino, X_teste, Y_treino, Y_teste = train_test_split(X,Y,test_size=0.3,random_state=42)"
   ]
  },
  {
   "cell_type": "markdown",
   "metadata": {},
   "source": [
    "* Importando métricas de classificação"
   ]
  },
  {
   "cell_type": "code",
   "execution_count": 42,
   "metadata": {},
   "outputs": [],
   "source": [
    "from sklearn.metrics import accuracy_score, precision_score, recall_score, f1_score"
   ]
  },
  {
   "cell_type": "code",
   "execution_count": 43,
   "metadata": {},
   "outputs": [],
   "source": [
    "modelos = []\n",
    "acuracia = []\n",
    "precisao = []\n",
    "recall = []\n",
    "f1 = []"
   ]
  },
  {
   "cell_type": "markdown",
   "metadata": {},
   "source": [
    "* Modelo 1: Regressão logistica"
   ]
  },
  {
   "cell_type": "code",
   "execution_count": 44,
   "metadata": {},
   "outputs": [],
   "source": [
    "from sklearn.linear_model import LogisticRegression"
   ]
  },
  {
   "cell_type": "code",
   "execution_count": 45,
   "metadata": {},
   "outputs": [],
   "source": [
    "logreg = LogisticRegression()"
   ]
  },
  {
   "cell_type": "code",
   "execution_count": 46,
   "metadata": {},
   "outputs": [
    {
     "name": "stderr",
     "output_type": "stream",
     "text": [
      "/Users/danilo/opt/anaconda3/lib/python3.8/site-packages/sklearn/linear_model/_logistic.py:762: ConvergenceWarning: lbfgs failed to converge (status=1):\n",
      "STOP: TOTAL NO. of ITERATIONS REACHED LIMIT.\n",
      "\n",
      "Increase the number of iterations (max_iter) or scale the data as shown in:\n",
      "    https://scikit-learn.org/stable/modules/preprocessing.html\n",
      "Please also refer to the documentation for alternative solver options:\n",
      "    https://scikit-learn.org/stable/modules/linear_model.html#logistic-regression\n",
      "  n_iter_i = _check_optimize_result(\n"
     ]
    },
    {
     "data": {
      "text/plain": [
       "LogisticRegression()"
      ]
     },
     "execution_count": 46,
     "metadata": {},
     "output_type": "execute_result"
    }
   ],
   "source": [
    "logreg.fit(X_treino,Y_treino)"
   ]
  },
  {
   "cell_type": "code",
   "execution_count": 47,
   "metadata": {},
   "outputs": [],
   "source": [
    "Y_pred_logreg = logreg.predict(X_teste)"
   ]
  },
  {
   "cell_type": "code",
   "execution_count": 48,
   "metadata": {},
   "outputs": [],
   "source": [
    "acc_logreg = accuracy_score(Y_teste,Y_pred_logreg)\n",
    "prec_logreg = precision_score(Y_teste,Y_pred_logreg,average='macro')\n",
    "rec_logreg = recall_score(Y_teste,Y_pred_logreg,average='macro')\n",
    "f1_logreg = f1_score(Y_teste,Y_pred_logreg,average='macro')"
   ]
  },
  {
   "cell_type": "code",
   "execution_count": 49,
   "metadata": {},
   "outputs": [
    {
     "name": "stdout",
     "output_type": "stream",
     "text": [
      "Acurácia = 76.45%\n",
      "Precisão = 76.29%\n",
      "Recall = 73.80%\n",
      "F1 = 74.73%\n"
     ]
    }
   ],
   "source": [
    "print(\"Acurácia = {:0.2f}%\".format(acc_logreg*100))\n",
    "print(\"Precisão = {:0.2f}%\".format(prec_logreg*100))\n",
    "print(\"Recall = {:0.2f}%\".format(rec_logreg*100))\n",
    "print(\"F1 = {:0.2f}%\".format(f1_logreg*100))"
   ]
  },
  {
   "cell_type": "code",
   "execution_count": 50,
   "metadata": {},
   "outputs": [],
   "source": [
    "modelos.append(\"Regressão logistica\")\n",
    "acuracia.append(acc_logreg)\n",
    "precisao.append(prec_logreg)\n",
    "recall.append(rec_logreg)\n",
    "f1.append(f1_logreg)"
   ]
  },
  {
   "cell_type": "markdown",
   "metadata": {},
   "source": [
    "* Modelo 2: Support Vector Machine"
   ]
  },
  {
   "cell_type": "code",
   "execution_count": 51,
   "metadata": {},
   "outputs": [],
   "source": [
    "from sklearn.svm import SVC"
   ]
  },
  {
   "cell_type": "code",
   "execution_count": 52,
   "metadata": {},
   "outputs": [],
   "source": [
    "svc = SVC()"
   ]
  },
  {
   "cell_type": "code",
   "execution_count": 53,
   "metadata": {},
   "outputs": [
    {
     "data": {
      "text/plain": [
       "SVC()"
      ]
     },
     "execution_count": 53,
     "metadata": {},
     "output_type": "execute_result"
    }
   ],
   "source": [
    "svc.fit(X_treino,Y_treino)"
   ]
  },
  {
   "cell_type": "code",
   "execution_count": 54,
   "metadata": {},
   "outputs": [],
   "source": [
    "Y_pred_svc = svc.predict(X_teste)"
   ]
  },
  {
   "cell_type": "code",
   "execution_count": 55,
   "metadata": {},
   "outputs": [],
   "source": [
    "acc_svc = accuracy_score(Y_teste,Y_pred_svc)\n",
    "prec_svc = precision_score(Y_teste,Y_pred_svc,average='macro')\n",
    "rec_svc = recall_score(Y_teste,Y_pred_svc,average='macro')\n",
    "f1_svc = f1_score(Y_teste,Y_pred_svc,average='macro')"
   ]
  },
  {
   "cell_type": "code",
   "execution_count": 56,
   "metadata": {},
   "outputs": [
    {
     "name": "stdout",
     "output_type": "stream",
     "text": [
      "Acurácia = 49.03%\n",
      "Precisão = 49.18%\n",
      "Recall = 54.34%\n",
      "F1 = 49.80%\n"
     ]
    }
   ],
   "source": [
    "print(\"Acurácia = {:0.2f}%\".format(acc_svc*100))\n",
    "print(\"Precisão = {:0.2f}%\".format(prec_svc*100))\n",
    "print(\"Recall = {:0.2f}%\".format(rec_svc*100))\n",
    "print(\"F1 = {:0.2f}%\".format(f1_svc*100))"
   ]
  },
  {
   "cell_type": "code",
   "execution_count": 57,
   "metadata": {},
   "outputs": [],
   "source": [
    "modelos.append(\"SVC\")\n",
    "acuracia.append(acc_svc)\n",
    "precisao.append(prec_svc)\n",
    "recall.append(rec_svc)\n",
    "f1.append(f1_svc)"
   ]
  },
  {
   "cell_type": "markdown",
   "metadata": {},
   "source": [
    "* Modelo 3: Naive-Bayes"
   ]
  },
  {
   "cell_type": "code",
   "execution_count": 58,
   "metadata": {},
   "outputs": [],
   "source": [
    "from sklearn.naive_bayes import GaussianNB"
   ]
  },
  {
   "cell_type": "code",
   "execution_count": 59,
   "metadata": {},
   "outputs": [],
   "source": [
    "nb = GaussianNB()"
   ]
  },
  {
   "cell_type": "code",
   "execution_count": 60,
   "metadata": {},
   "outputs": [
    {
     "data": {
      "text/plain": [
       "GaussianNB()"
      ]
     },
     "execution_count": 60,
     "metadata": {},
     "output_type": "execute_result"
    }
   ],
   "source": [
    "nb.fit(X_treino,Y_treino)"
   ]
  },
  {
   "cell_type": "code",
   "execution_count": 61,
   "metadata": {},
   "outputs": [],
   "source": [
    "Y_pred_nb = nb.predict(X_teste)"
   ]
  },
  {
   "cell_type": "code",
   "execution_count": 62,
   "metadata": {},
   "outputs": [],
   "source": [
    "acc_nb = accuracy_score(Y_teste,Y_pred_nb)\n",
    "prec_nb = precision_score(Y_teste,Y_pred_nb,average='macro')\n",
    "rec_nb = recall_score(Y_teste,Y_pred_nb,average='macro')\n",
    "f1_nb = f1_score(Y_teste,Y_pred_nb,average='macro')"
   ]
  },
  {
   "cell_type": "code",
   "execution_count": 63,
   "metadata": {},
   "outputs": [
    {
     "name": "stdout",
     "output_type": "stream",
     "text": [
      "Acurácia = 71.43%\n",
      "Precisão = 71.74%\n",
      "Recall = 65.59%\n",
      "F1 = 66.61%\n"
     ]
    }
   ],
   "source": [
    "print(\"Acurácia = {:0.2f}%\".format(acc_nb*100))\n",
    "print(\"Precisão = {:0.2f}%\".format(prec_nb*100))\n",
    "print(\"Recall = {:0.2f}%\".format(rec_nb*100))\n",
    "print(\"F1 = {:0.2f}%\".format(f1_nb*100))"
   ]
  },
  {
   "cell_type": "code",
   "execution_count": 64,
   "metadata": {},
   "outputs": [],
   "source": [
    "modelos.append(\"Naive-Bayes\")\n",
    "acuracia.append(acc_nb)\n",
    "precisao.append(prec_nb)\n",
    "recall.append(rec_nb)\n",
    "f1.append(f1_nb)"
   ]
  },
  {
   "cell_type": "markdown",
   "metadata": {},
   "source": [
    "* Modelo 4: Decision Tree "
   ]
  },
  {
   "cell_type": "code",
   "execution_count": 65,
   "metadata": {},
   "outputs": [],
   "source": [
    "from sklearn.tree import DecisionTreeClassifier"
   ]
  },
  {
   "cell_type": "code",
   "execution_count": 66,
   "metadata": {},
   "outputs": [],
   "source": [
    "dtc = DecisionTreeClassifier()"
   ]
  },
  {
   "cell_type": "code",
   "execution_count": 67,
   "metadata": {},
   "outputs": [
    {
     "data": {
      "text/plain": [
       "DecisionTreeClassifier()"
      ]
     },
     "execution_count": 67,
     "metadata": {},
     "output_type": "execute_result"
    }
   ],
   "source": [
    "dtc.fit(X_treino,Y_treino)"
   ]
  },
  {
   "cell_type": "code",
   "execution_count": 68,
   "metadata": {},
   "outputs": [],
   "source": [
    "Y_pred_dtc = dtc.predict(X_teste)"
   ]
  },
  {
   "cell_type": "code",
   "execution_count": 69,
   "metadata": {},
   "outputs": [],
   "source": [
    "acc_dtc = accuracy_score(Y_teste,Y_pred_dtc)\n",
    "prec_dtc = precision_score(Y_teste,Y_pred_dtc,average='macro')\n",
    "rec_dtc = recall_score(Y_teste,Y_pred_dtc,average='macro')\n",
    "f1_dtc = f1_score(Y_teste,Y_pred_dtc,average='macro')"
   ]
  },
  {
   "cell_type": "code",
   "execution_count": 70,
   "metadata": {},
   "outputs": [
    {
     "name": "stdout",
     "output_type": "stream",
     "text": [
      "Acurácia = 72.97%\n",
      "Precisão = 73.29%\n",
      "Recall = 72.59%\n",
      "F1 = 72.80%\n"
     ]
    }
   ],
   "source": [
    "print(\"Acurácia = {:0.2f}%\".format(acc_dtc*100))\n",
    "print(\"Precisão = {:0.2f}%\".format(prec_dtc*100))\n",
    "print(\"Recall = {:0.2f}%\".format(rec_dtc*100))\n",
    "print(\"F1 = {:0.2f}%\".format(f1_dtc*100))"
   ]
  },
  {
   "cell_type": "code",
   "execution_count": 71,
   "metadata": {},
   "outputs": [],
   "source": [
    "modelos.append(\"Decision Tree\")\n",
    "acuracia.append(acc_dtc)\n",
    "precisao.append(prec_dtc)\n",
    "recall.append(rec_dtc)\n",
    "f1.append(f1_dtc)"
   ]
  },
  {
   "cell_type": "markdown",
   "metadata": {},
   "source": [
    "* Modelo 5: Random Forest"
   ]
  },
  {
   "cell_type": "code",
   "execution_count": 72,
   "metadata": {},
   "outputs": [],
   "source": [
    "from sklearn.ensemble import RandomForestClassifier"
   ]
  },
  {
   "cell_type": "code",
   "execution_count": 73,
   "metadata": {},
   "outputs": [],
   "source": [
    "rfc = RandomForestClassifier()"
   ]
  },
  {
   "cell_type": "code",
   "execution_count": 74,
   "metadata": {},
   "outputs": [
    {
     "data": {
      "text/plain": [
       "RandomForestClassifier()"
      ]
     },
     "execution_count": 74,
     "metadata": {},
     "output_type": "execute_result"
    }
   ],
   "source": [
    "rfc.fit(X_treino,Y_treino)"
   ]
  },
  {
   "cell_type": "code",
   "execution_count": 75,
   "metadata": {},
   "outputs": [],
   "source": [
    "Y_pred_rfc = rfc.predict(X_teste)"
   ]
  },
  {
   "cell_type": "code",
   "execution_count": 76,
   "metadata": {},
   "outputs": [],
   "source": [
    "acc_rfc = accuracy_score(Y_teste,Y_pred_rfc)\n",
    "prec_rfc = precision_score(Y_teste,Y_pred_rfc,average='macro')\n",
    "rec_rfc = recall_score(Y_teste,Y_pred_rfc,average='macro')\n",
    "f1_rfc = f1_score(Y_teste,Y_pred_rfc,average='macro')"
   ]
  },
  {
   "cell_type": "code",
   "execution_count": 77,
   "metadata": {},
   "outputs": [
    {
     "name": "stdout",
     "output_type": "stream",
     "text": [
      "Acurácia = 78.76%\n",
      "Precisão = 79.51%\n",
      "Recall = 78.05%\n",
      "F1 = 78.69%\n"
     ]
    }
   ],
   "source": [
    "print(\"Acurácia = {:0.2f}%\".format(acc_rfc*100))\n",
    "print(\"Precisão = {:0.2f}%\".format(prec_rfc*100))\n",
    "print(\"Recall = {:0.2f}%\".format(rec_rfc*100))\n",
    "print(\"F1 = {:0.2f}%\".format(f1_rfc*100))"
   ]
  },
  {
   "cell_type": "code",
   "execution_count": 78,
   "metadata": {},
   "outputs": [],
   "source": [
    "modelos.append(\"Random Forest\")\n",
    "acuracia.append(acc_rfc)\n",
    "precisao.append(prec_rfc)\n",
    "recall.append(rec_rfc)\n",
    "f1.append(f1_rfc)"
   ]
  },
  {
   "cell_type": "markdown",
   "metadata": {},
   "source": [
    "* Dataframe com resultados"
   ]
  },
  {
   "cell_type": "code",
   "execution_count": 79,
   "metadata": {},
   "outputs": [],
   "source": [
    "dicionario = {\"Modelo\" : modelos, \"Acuracia\" : acuracia, \"Precisao\" : precisao,\n",
    "             \"Recall\" : recall, \"F1\" : f1}"
   ]
  },
  {
   "cell_type": "code",
   "execution_count": 80,
   "metadata": {},
   "outputs": [],
   "source": [
    "pd_di = pd.DataFrame(dicionario)"
   ]
  },
  {
   "cell_type": "code",
   "execution_count": 81,
   "metadata": {},
   "outputs": [
    {
     "data": {
      "text/html": [
       "<div>\n",
       "<style scoped>\n",
       "    .dataframe tbody tr th:only-of-type {\n",
       "        vertical-align: middle;\n",
       "    }\n",
       "\n",
       "    .dataframe tbody tr th {\n",
       "        vertical-align: top;\n",
       "    }\n",
       "\n",
       "    .dataframe thead th {\n",
       "        text-align: right;\n",
       "    }\n",
       "</style>\n",
       "<table border=\"1\" class=\"dataframe\">\n",
       "  <thead>\n",
       "    <tr style=\"text-align: right;\">\n",
       "      <th></th>\n",
       "      <th>Modelo</th>\n",
       "      <th>Acuracia</th>\n",
       "      <th>Precisao</th>\n",
       "      <th>Recall</th>\n",
       "      <th>F1</th>\n",
       "    </tr>\n",
       "  </thead>\n",
       "  <tbody>\n",
       "    <tr>\n",
       "      <th>0</th>\n",
       "      <td>Regressão logistica</td>\n",
       "      <td>0.764479</td>\n",
       "      <td>0.762852</td>\n",
       "      <td>0.737951</td>\n",
       "      <td>0.747326</td>\n",
       "    </tr>\n",
       "    <tr>\n",
       "      <th>1</th>\n",
       "      <td>SVC</td>\n",
       "      <td>0.490347</td>\n",
       "      <td>0.491804</td>\n",
       "      <td>0.543394</td>\n",
       "      <td>0.497972</td>\n",
       "    </tr>\n",
       "    <tr>\n",
       "      <th>2</th>\n",
       "      <td>Naive-Bayes</td>\n",
       "      <td>0.714286</td>\n",
       "      <td>0.717380</td>\n",
       "      <td>0.655852</td>\n",
       "      <td>0.666068</td>\n",
       "    </tr>\n",
       "    <tr>\n",
       "      <th>3</th>\n",
       "      <td>Decision Tree</td>\n",
       "      <td>0.729730</td>\n",
       "      <td>0.732922</td>\n",
       "      <td>0.725940</td>\n",
       "      <td>0.727982</td>\n",
       "    </tr>\n",
       "    <tr>\n",
       "      <th>4</th>\n",
       "      <td>Random Forest</td>\n",
       "      <td>0.787645</td>\n",
       "      <td>0.795064</td>\n",
       "      <td>0.780528</td>\n",
       "      <td>0.786882</td>\n",
       "    </tr>\n",
       "  </tbody>\n",
       "</table>\n",
       "</div>"
      ],
      "text/plain": [
       "                Modelo  Acuracia  Precisao    Recall        F1\n",
       "0  Regressão logistica  0.764479  0.762852  0.737951  0.747326\n",
       "1                  SVC  0.490347  0.491804  0.543394  0.497972\n",
       "2          Naive-Bayes  0.714286  0.717380  0.655852  0.666068\n",
       "3        Decision Tree  0.729730  0.732922  0.725940  0.727982\n",
       "4        Random Forest  0.787645  0.795064  0.780528  0.786882"
      ]
     },
     "execution_count": 81,
     "metadata": {},
     "output_type": "execute_result"
    }
   ],
   "source": [
    "pd_di"
   ]
  },
  {
   "cell_type": "markdown",
   "metadata": {},
   "source": [
    "* Determinando melhor modelo"
   ]
  },
  {
   "cell_type": "code",
   "execution_count": 82,
   "metadata": {},
   "outputs": [],
   "source": [
    "pd_di = pd_di.sort_values(by='Recall',ascending=False)"
   ]
  },
  {
   "cell_type": "code",
   "execution_count": 83,
   "metadata": {},
   "outputs": [
    {
     "data": {
      "text/html": [
       "<div>\n",
       "<style scoped>\n",
       "    .dataframe tbody tr th:only-of-type {\n",
       "        vertical-align: middle;\n",
       "    }\n",
       "\n",
       "    .dataframe tbody tr th {\n",
       "        vertical-align: top;\n",
       "    }\n",
       "\n",
       "    .dataframe thead th {\n",
       "        text-align: right;\n",
       "    }\n",
       "</style>\n",
       "<table border=\"1\" class=\"dataframe\">\n",
       "  <thead>\n",
       "    <tr style=\"text-align: right;\">\n",
       "      <th></th>\n",
       "      <th>Modelo</th>\n",
       "      <th>Acuracia</th>\n",
       "      <th>Precisao</th>\n",
       "      <th>Recall</th>\n",
       "      <th>F1</th>\n",
       "    </tr>\n",
       "  </thead>\n",
       "  <tbody>\n",
       "    <tr>\n",
       "      <th>4</th>\n",
       "      <td>Random Forest</td>\n",
       "      <td>0.787645</td>\n",
       "      <td>0.795064</td>\n",
       "      <td>0.780528</td>\n",
       "      <td>0.786882</td>\n",
       "    </tr>\n",
       "    <tr>\n",
       "      <th>0</th>\n",
       "      <td>Regressão logistica</td>\n",
       "      <td>0.764479</td>\n",
       "      <td>0.762852</td>\n",
       "      <td>0.737951</td>\n",
       "      <td>0.747326</td>\n",
       "    </tr>\n",
       "    <tr>\n",
       "      <th>3</th>\n",
       "      <td>Decision Tree</td>\n",
       "      <td>0.729730</td>\n",
       "      <td>0.732922</td>\n",
       "      <td>0.725940</td>\n",
       "      <td>0.727982</td>\n",
       "    </tr>\n",
       "    <tr>\n",
       "      <th>2</th>\n",
       "      <td>Naive-Bayes</td>\n",
       "      <td>0.714286</td>\n",
       "      <td>0.717380</td>\n",
       "      <td>0.655852</td>\n",
       "      <td>0.666068</td>\n",
       "    </tr>\n",
       "    <tr>\n",
       "      <th>1</th>\n",
       "      <td>SVC</td>\n",
       "      <td>0.490347</td>\n",
       "      <td>0.491804</td>\n",
       "      <td>0.543394</td>\n",
       "      <td>0.497972</td>\n",
       "    </tr>\n",
       "  </tbody>\n",
       "</table>\n",
       "</div>"
      ],
      "text/plain": [
       "                Modelo  Acuracia  Precisao    Recall        F1\n",
       "4        Random Forest  0.787645  0.795064  0.780528  0.786882\n",
       "0  Regressão logistica  0.764479  0.762852  0.737951  0.747326\n",
       "3        Decision Tree  0.729730  0.732922  0.725940  0.727982\n",
       "2          Naive-Bayes  0.714286  0.717380  0.655852  0.666068\n",
       "1                  SVC  0.490347  0.491804  0.543394  0.497972"
      ]
     },
     "execution_count": 83,
     "metadata": {},
     "output_type": "execute_result"
    }
   ],
   "source": [
    "pd_di"
   ]
  },
  {
   "cell_type": "markdown",
   "metadata": {},
   "source": [
    "* Random Forest se mostrou o melhor modelo"
   ]
  },
  {
   "cell_type": "code",
   "execution_count": null,
   "metadata": {},
   "outputs": [],
   "source": []
  }
 ],
 "metadata": {
  "kernelspec": {
   "display_name": "Python 3",
   "language": "python",
   "name": "python3"
  },
  "language_info": {
   "codemirror_mode": {
    "name": "ipython",
    "version": 3
   },
   "file_extension": ".py",
   "mimetype": "text/x-python",
   "name": "python",
   "nbconvert_exporter": "python",
   "pygments_lexer": "ipython3",
   "version": "3.8.5"
  }
 },
 "nbformat": 4,
 "nbformat_minor": 4
}

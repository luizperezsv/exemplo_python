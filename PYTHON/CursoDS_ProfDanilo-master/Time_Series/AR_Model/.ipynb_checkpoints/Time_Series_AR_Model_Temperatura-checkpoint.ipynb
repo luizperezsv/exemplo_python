{
 "cells": [
  {
   "cell_type": "markdown",
   "metadata": {},
   "source": [
    "# Modelo AutoRegressivo"
   ]
  },
  {
   "cell_type": "markdown",
   "metadata": {},
   "source": [
    "Utilizando modelo autoregressivo para modelar a série temporal"
   ]
  },
  {
   "cell_type": "markdown",
   "metadata": {},
   "source": [
    "Utilizaremos uma série temporal da temperatura na cidade australiana de Melbourne"
   ]
  },
  {
   "cell_type": "markdown",
   "metadata": {},
   "source": [
    "* Importando biblitecas"
   ]
  },
  {
   "cell_type": "code",
   "execution_count": 1,
   "metadata": {},
   "outputs": [],
   "source": [
    "import numpy as np\n",
    "import pandas as pd\n",
    "import matplotlib.pyplot as plt"
   ]
  },
  {
   "cell_type": "markdown",
   "metadata": {},
   "source": [
    "* Lendo arquivo CSV"
   ]
  },
  {
   "cell_type": "code",
   "execution_count": 2,
   "metadata": {},
   "outputs": [],
   "source": [
    "dados = pd.read_csv('daily-min-temperatures.csv')"
   ]
  },
  {
   "cell_type": "markdown",
   "metadata": {},
   "source": [
    "Exibindo cinco primeiras linhas"
   ]
  },
  {
   "cell_type": "code",
   "execution_count": 3,
   "metadata": {},
   "outputs": [
    {
     "data": {
      "text/html": [
       "<div>\n",
       "<style scoped>\n",
       "    .dataframe tbody tr th:only-of-type {\n",
       "        vertical-align: middle;\n",
       "    }\n",
       "\n",
       "    .dataframe tbody tr th {\n",
       "        vertical-align: top;\n",
       "    }\n",
       "\n",
       "    .dataframe thead th {\n",
       "        text-align: right;\n",
       "    }\n",
       "</style>\n",
       "<table border=\"1\" class=\"dataframe\">\n",
       "  <thead>\n",
       "    <tr style=\"text-align: right;\">\n",
       "      <th></th>\n",
       "      <th>Date</th>\n",
       "      <th>Temp</th>\n",
       "    </tr>\n",
       "  </thead>\n",
       "  <tbody>\n",
       "    <tr>\n",
       "      <th>0</th>\n",
       "      <td>1981-01-01</td>\n",
       "      <td>20.7</td>\n",
       "    </tr>\n",
       "    <tr>\n",
       "      <th>1</th>\n",
       "      <td>1981-01-02</td>\n",
       "      <td>17.9</td>\n",
       "    </tr>\n",
       "    <tr>\n",
       "      <th>2</th>\n",
       "      <td>1981-01-03</td>\n",
       "      <td>18.8</td>\n",
       "    </tr>\n",
       "    <tr>\n",
       "      <th>3</th>\n",
       "      <td>1981-01-04</td>\n",
       "      <td>14.6</td>\n",
       "    </tr>\n",
       "    <tr>\n",
       "      <th>4</th>\n",
       "      <td>1981-01-05</td>\n",
       "      <td>15.8</td>\n",
       "    </tr>\n",
       "  </tbody>\n",
       "</table>\n",
       "</div>"
      ],
      "text/plain": [
       "         Date  Temp\n",
       "0  1981-01-01  20.7\n",
       "1  1981-01-02  17.9\n",
       "2  1981-01-03  18.8\n",
       "3  1981-01-04  14.6\n",
       "4  1981-01-05  15.8"
      ]
     },
     "execution_count": 3,
     "metadata": {},
     "output_type": "execute_result"
    }
   ],
   "source": [
    "dados.head()"
   ]
  },
  {
   "cell_type": "markdown",
   "metadata": {},
   "source": [
    "* Definindo data como índice"
   ]
  },
  {
   "cell_type": "code",
   "execution_count": 4,
   "metadata": {},
   "outputs": [],
   "source": [
    "dados['Date'] = pd.to_datetime(dados['Date'])\n",
    "dados = dados.set_index('Date')"
   ]
  },
  {
   "cell_type": "markdown",
   "metadata": {},
   "source": [
    "* Graficando série temporal"
   ]
  },
  {
   "cell_type": "code",
   "execution_count": 5,
   "metadata": {},
   "outputs": [
    {
     "data": {
      "image/png": "[encoded data removed]",
      "text/plain": [
       "<Figure size 432x288 with 1 Axes>"
      ]
     },
     "metadata": {
      "needs_background": "light"
     },
     "output_type": "display_data"
    }
   ],
   "source": [
    "dados.plot()\n",
    "plt.xticks(rotation=45)\n",
    "plt.xlabel('Data')\n",
    "plt.ylabel('Temperatura')\n",
    "plt.tight_layout()"
   ]
  },
  {
   "cell_type": "code",
   "execution_count": 6,
   "metadata": {},
   "outputs": [],
   "source": [
    "t_treino = dados[dados.index<'1990-01-01'].index.values\n",
    "t_teste = dados[dados.index>='1990-01-01'].index.values\n",
    "X_treino = dados[dados.index<'1990-01-01'].values\n",
    "X_teste = dados[dados.index>='1990-01-01'].values"
   ]
  },
  {
   "cell_type": "markdown",
   "metadata": {},
   "source": [
    "* Aplicando modelo autoregressivo"
   ]
  },
  {
   "cell_type": "code",
   "execution_count": 7,
   "metadata": {},
   "outputs": [],
   "source": [
    "from statsmodels.tsa.ar_model import AutoReg"
   ]
  },
  {
   "cell_type": "code",
   "execution_count": 8,
   "metadata": {},
   "outputs": [
    {
     "name": "stdout",
     "output_type": "stream",
     "text": [
      "                            AutoReg Model Results                             \n",
      "==============================================================================\n",
      "Dep. Variable:                      y   No. Observations:                 3285\n",
      "Model:                    AutoReg(69)   Log Likelihood               -7350.351\n",
      "Method:               Conditional MLE   S.D. of innovations              2.379\n",
      "Date:                Wed, 09 Sep 2020   AIC                              1.777\n",
      "Time:                        11:14:10   BIC                              1.912\n",
      "Sample:                            69   HQIC                             1.825\n",
      "                                 3285                                         \n",
      "==============================================================================\n",
      "                 coef    std err          z      P>|z|      [0.025      0.975]\n",
      "------------------------------------------------------------------------------\n",
      "intercept      0.9357      0.174      5.377      0.000       0.595       1.277\n",
      "y.L1           0.5785      0.018     32.850      0.000       0.544       0.613\n",
      "y.L2          -0.0860      0.020     -4.226      0.000      -0.126      -0.046\n",
      "y.L3           0.0489      0.020      2.393      0.017       0.009       0.089\n",
      "y.L4           0.0306      0.020      1.497      0.134      -0.009       0.071\n",
      "y.L5           0.0366      0.020      1.796      0.072      -0.003       0.077\n",
      "y.L6           0.0262      0.020      1.282      0.200      -0.014       0.066\n",
      "y.L7           0.0413      0.020      2.025      0.043       0.001       0.081\n",
      "y.L8           0.0153      0.020      0.749      0.454      -0.025       0.055\n",
      "y.L9           0.0292      0.020      1.428      0.153      -0.011       0.069\n",
      "y.L10          0.0052      0.020      0.255      0.799      -0.035       0.045\n",
      "y.L11          0.0028      0.020      0.135      0.892      -0.037       0.043\n",
      "y.L12          0.0144      0.020      0.707      0.480      -0.026       0.054\n",
      "y.L13          0.0191      0.020      0.938      0.348      -0.021       0.059\n",
      "y.L14          0.0059      0.020      0.288      0.773      -0.034       0.046\n",
      "y.L15          0.0271      0.020      1.327      0.185      -0.013       0.067\n",
      "y.L16          0.0051      0.020      0.251      0.802      -0.035       0.045\n",
      "y.L17          0.0142      0.020      0.696      0.487      -0.026       0.054\n",
      "y.L18          0.0497      0.020      2.433      0.015       0.010       0.090\n",
      "y.L19         -0.0139      0.020     -0.681      0.496      -0.054       0.026\n",
      "y.L20          0.0330      0.020      1.615      0.106      -0.007       0.073\n",
      "y.L21          0.0092      0.020      0.450      0.653      -0.031       0.049\n",
      "y.L22          0.0150      0.020      0.733      0.464      -0.025       0.055\n",
      "y.L23         -0.0141      0.020     -0.689      0.491      -0.054       0.026\n",
      "y.L24          0.0057      0.020      0.281      0.779      -0.034       0.046\n",
      "y.L25          0.0182      0.020      0.890      0.373      -0.022       0.058\n",
      "y.L26          0.0327      0.020      1.601      0.109      -0.007       0.073\n",
      "y.L27          0.0096      0.020      0.470      0.638      -0.030       0.050\n",
      "y.L28          0.0138      0.020      0.674      0.500      -0.026       0.054\n",
      "y.L29          0.0047      0.020      0.232      0.817      -0.035       0.045\n",
      "y.L30         -0.0162      0.020     -0.794      0.427      -0.056       0.024\n",
      "y.L31          0.0553      0.020      2.712      0.007       0.015       0.095\n",
      "y.L32         -0.0331      0.020     -1.624      0.104      -0.073       0.007\n",
      "y.L33          0.0136      0.020      0.664      0.507      -0.026       0.054\n",
      "y.L34          0.0368      0.020      1.802      0.072      -0.003       0.077\n",
      "y.L35          0.0005      0.020      0.025      0.980      -0.040       0.041\n",
      "y.L36         -0.0187      0.020     -0.914      0.361      -0.059       0.021\n",
      "y.L37         -0.0210      0.020     -1.026      0.305      -0.061       0.019\n",
      "y.L38          0.0321      0.020      1.573      0.116      -0.008       0.072\n",
      "y.L39         -0.0004      0.020     -0.020      0.984      -0.040       0.040\n",
      "y.L40         -0.0037      0.020     -0.181      0.856      -0.044       0.036\n",
      "y.L41         -0.0124      0.020     -0.605      0.545      -0.052       0.028\n",
      "y.L42          0.0037      0.020      0.181      0.857      -0.036       0.044\n",
      "y.L43         -0.0062      0.020     -0.301      0.763      -0.046       0.034\n",
      "y.L44          0.0095      0.020      0.466      0.641      -0.031       0.050\n",
      "y.L45         -0.0030      0.020     -0.146      0.884      -0.043       0.037\n",
      "y.L46         -0.0218      0.020     -1.066      0.287      -0.062       0.018\n",
      "y.L47          0.0077      0.020      0.377      0.706      -0.032       0.048\n",
      "y.L48          0.0056      0.020      0.273      0.785      -0.034       0.046\n",
      "y.L49         -0.0323      0.020     -1.584      0.113      -0.072       0.008\n",
      "y.L50          0.0217      0.020      1.064      0.287      -0.018       0.062\n",
      "y.L51         -0.0190      0.020     -0.930      0.352      -0.059       0.021\n",
      "y.L52          0.0301      0.020      1.477      0.140      -0.010       0.070\n",
      "y.L53         -0.0133      0.020     -0.654      0.513      -0.053       0.027\n",
      "y.L54          0.0084      0.020      0.410      0.682      -0.032       0.048\n",
      "y.L55          0.0217      0.020      1.064      0.287      -0.018       0.062\n",
      "y.L56         -0.0291      0.020     -1.429      0.153      -0.069       0.011\n",
      "y.L57         -0.0274      0.020     -1.345      0.179      -0.067       0.013\n",
      "y.L58          0.0005      0.020      0.024      0.981      -0.039       0.040\n",
      "y.L59          0.0215      0.020      1.057      0.291      -0.018       0.061\n",
      "y.L60         -0.0253      0.020     -1.239      0.215      -0.065       0.015\n",
      "y.L61          0.0108      0.020      0.528      0.597      -0.029       0.051\n",
      "y.L62          0.0166      0.020      0.813      0.416      -0.023       0.057\n",
      "y.L63          0.0138      0.020      0.679      0.497      -0.026       0.054\n",
      "y.L64         -0.0050      0.020     -0.246      0.806      -0.045       0.035\n",
      "y.L65         -0.0504      0.020     -2.475      0.013      -0.090      -0.010\n",
      "y.L66          0.0155      0.020      0.758      0.448      -0.025       0.055\n",
      "y.L67         -0.0052      0.020     -0.255      0.799      -0.045       0.035\n",
      "y.L68       1.152e-06      0.020   5.67e-05      1.000      -0.040       0.040\n",
      "y.L69         -0.0448      0.018     -2.553      0.011      -0.079      -0.010\n",
      "                                    Roots                                     \n",
      "==============================================================================\n",
      "                   Real          Imaginary           Modulus         Frequency\n",
      "------------------------------------------------------------------------------\n",
      "AR.1             1.0104           -0.0188j            1.0105           -0.0030\n",
      "AR.2             1.0104           +0.0188j            1.0105            0.0030\n",
      "AR.3             1.0296           -0.1408j            1.0392           -0.0216\n",
      "AR.4             1.0296           +0.1408j            1.0392            0.0216\n",
      "AR.5             1.0046           -0.2272j            1.0300           -0.0354\n",
      "AR.6             1.0046           +0.2272j            1.0300            0.0354\n",
      "AR.7             0.9848           -0.3240j            1.0368           -0.0506\n",
      "AR.8             0.9848           +0.3240j            1.0368            0.0506\n",
      "AR.9             0.9528           -0.4074j            1.0363           -0.0643\n",
      "AR.10            0.9528           +0.4074j            1.0363            0.0643\n",
      "AR.11            0.9100           -0.4933j            1.0351           -0.0791\n",
      "AR.12            0.9100           +0.4933j            1.0351            0.0791\n",
      "AR.13            0.8515           -0.5817j            1.0312           -0.0954\n",
      "AR.14            0.8515           +0.5817j            1.0312            0.0954\n",
      "AR.15            0.7873           -0.6688j            1.0330           -0.1121\n",
      "AR.16            0.7873           +0.6688j            1.0330            0.1121\n",
      "AR.17            0.7194           -0.7697j            1.0535           -0.1304\n",
      "AR.18            0.7194           +0.7697j            1.0535            0.1304\n",
      "AR.19            0.7762           -0.7968j            1.1123           -0.1271\n",
      "AR.20            0.7762           +0.7968j            1.1123            0.1271\n",
      "AR.21            0.6148           -0.8308j            1.0336           -0.1486\n",
      "AR.22            0.6148           +0.8308j            1.0336            0.1486\n",
      "AR.23            0.5426           -0.8939j            1.0456           -0.1632\n",
      "AR.24            0.5426           +0.8939j            1.0456            0.1632\n",
      "AR.25            0.4495           -0.9363j            1.0386           -0.1788\n",
      "AR.26            0.4495           +0.9363j            1.0386            0.1788\n",
      "AR.27            0.3694           -0.9769j            1.0444           -0.1925\n",
      "AR.28            0.3694           +0.9769j            1.0444            0.1925\n",
      "AR.29            0.2774           -0.9938j            1.0318           -0.2067\n",
      "AR.30            0.2774           +0.9938j            1.0318            0.2067\n",
      "AR.31            0.1718           -1.0175j            1.0319           -0.2234\n",
      "AR.32            0.1718           +1.0175j            1.0319            0.2234\n",
      "AR.33            0.0870           -1.0239j            1.0276           -0.2365\n",
      "AR.34            0.0870           +1.0239j            1.0276            0.2365\n",
      "AR.35           -0.0272           -1.0266j            1.0269           -0.2542\n",
      "AR.36           -0.0272           +1.0266j            1.0269            0.2542\n",
      "AR.37           -0.1266           -1.0272j            1.0350           -0.2695\n",
      "AR.38           -0.1266           +1.0272j            1.0350            0.2695\n",
      "AR.39           -0.2398           -1.0181j            1.0460           -0.2868\n",
      "AR.40           -0.2398           +1.0181j            1.0460            0.2868\n",
      "AR.41           -0.2980           -1.0312j            1.0734           -0.2948\n",
      "AR.42           -0.2980           +1.0312j            1.0734            0.2948\n",
      "AR.43           -0.3995           -0.9720j            1.0509           -0.3121\n",
      "AR.44           -0.3995           +0.9720j            1.0509            0.3121\n",
      "AR.45           -0.4773           -0.9343j            1.0492           -0.3252\n",
      "AR.46           -0.4773           +0.9343j            1.0492            0.3252\n",
      "AR.47           -0.5711           -0.8783j            1.0477           -0.3418\n",
      "AR.48           -0.5711           +0.8783j            1.0477            0.3418\n",
      "AR.49           -1.0395           -0.0000j            1.0395           -0.5000\n",
      "AR.50           -1.0432           -0.1031j            1.0483           -0.4843\n",
      "AR.51           -1.0432           +0.1031j            1.0483            0.4843\n",
      "AR.52           -1.0357           -0.1877j            1.0525           -0.4715\n",
      "AR.53           -1.0357           +0.1877j            1.0525            0.4715\n",
      "AR.54           -0.9964           -0.2856j            1.0365           -0.4556\n",
      "AR.55           -0.9964           +0.2856j            1.0365            0.4556\n",
      "AR.56           -0.9650           -0.3750j            1.0353           -0.4410\n",
      "AR.57           -0.9650           +0.3750j            1.0353            0.4410\n",
      "AR.58           -0.9183           -0.4837j            1.0379           -0.4228\n",
      "AR.59           -0.9183           +0.4837j            1.0379            0.4228\n",
      "AR.60           -0.8928           -0.5756j            1.0623           -0.4089\n",
      "AR.61           -0.8928           +0.5756j            1.0623            0.4089\n",
      "AR.62           -0.8373           -0.6467j            1.0580           -0.3953\n",
      "AR.63           -0.8373           +0.6467j            1.0580            0.3953\n",
      "AR.64           -0.7682           -0.7139j            1.0487           -0.3808\n",
      "AR.65           -0.7682           +0.7139j            1.0487            0.3808\n",
      "AR.66           -0.6635           -0.8154j            1.0512           -0.3587\n",
      "AR.67           -0.6635           +0.8154j            1.0512            0.3587\n",
      "AR.68           -0.7595           -0.8588j            1.1465           -0.3652\n",
      "AR.69           -0.7595           +0.8588j            1.1465            0.3652\n",
      "------------------------------------------------------------------------------\n"
     ]
    }
   ],
   "source": [
    "modelo = AutoReg(X_treino, 69)\n",
    "resultado = modelo.fit()\n",
    "print(resultado.summary())"
   ]
  },
  {
   "cell_type": "code",
   "execution_count": 9,
   "metadata": {},
   "outputs": [
    {
     "name": "stdout",
     "output_type": "stream",
     "text": [
      "                            AutoReg Model Results                             \n",
      "==============================================================================\n",
      "Dep. Variable:                      y   No. Observations:                 3285\n",
      "Model:                    AutoReg(69)   Log Likelihood               -7350.351\n",
      "Method:               Conditional MLE   S.D. of innovations              2.379\n",
      "Date:                Wed, 09 Sep 2020   AIC                              1.777\n",
      "Time:                        11:14:26   BIC                              1.912\n",
      "Sample:                            69   HQIC                             1.825\n",
      "                                 3285                                         \n",
      "==============================================================================\n",
      "                 coef    std err          z      P>|z|      [0.025      0.975]\n",
      "------------------------------------------------------------------------------\n",
      "intercept      0.9357      0.175      5.353      0.000       0.593       1.278\n",
      "y.L1           0.5785      0.020     29.416      0.000       0.540       0.617\n",
      "y.L2          -0.0860      0.021     -4.152      0.000      -0.127      -0.045\n",
      "y.L3           0.0489      0.021      2.317      0.020       0.008       0.090\n",
      "y.L4           0.0306      0.021      1.481      0.139      -0.010       0.071\n",
      "y.L5           0.0366      0.022      1.687      0.092      -0.006       0.079\n",
      "y.L6           0.0262      0.022      1.211      0.226      -0.016       0.068\n",
      "y.L7           0.0413      0.021      1.935      0.053      -0.001       0.083\n",
      "y.L8           0.0153      0.021      0.727      0.467      -0.026       0.057\n",
      "y.L9           0.0292      0.021      1.415      0.157      -0.011       0.070\n",
      "y.L10          0.0052      0.021      0.248      0.804      -0.036       0.046\n",
      "y.L11          0.0028      0.021      0.130      0.897      -0.039       0.045\n",
      "y.L12          0.0144      0.021      0.702      0.482      -0.026       0.055\n",
      "y.L13          0.0191      0.021      0.929      0.353      -0.021       0.060\n",
      "y.L14          0.0059      0.022      0.273      0.785      -0.036       0.048\n",
      "y.L15          0.0271      0.020      1.347      0.178      -0.012       0.066\n",
      "y.L16          0.0051      0.021      0.248      0.804      -0.035       0.046\n",
      "y.L17          0.0142      0.021      0.685      0.493      -0.026       0.055\n",
      "y.L18          0.0497      0.021      2.399      0.016       0.009       0.090\n",
      "y.L19         -0.0139      0.021     -0.660      0.509      -0.055       0.027\n",
      "y.L20          0.0330      0.021      1.564      0.118      -0.008       0.074\n",
      "y.L21          0.0092      0.021      0.433      0.665      -0.032       0.051\n",
      "y.L22          0.0150      0.020      0.741      0.458      -0.025       0.055\n",
      "y.L23         -0.0141      0.021     -0.675      0.500      -0.055       0.027\n",
      "y.L24          0.0057      0.021      0.276      0.782      -0.035       0.046\n",
      "y.L25          0.0182      0.021      0.865      0.387      -0.023       0.059\n",
      "y.L26          0.0327      0.021      1.555      0.120      -0.009       0.074\n",
      "y.L27          0.0096      0.021      0.467      0.640      -0.031       0.050\n",
      "y.L28          0.0138      0.021      0.665      0.506      -0.027       0.054\n",
      "y.L29          0.0047      0.021      0.228      0.820      -0.036       0.046\n",
      "y.L30         -0.0162      0.021     -0.788      0.431      -0.056       0.024\n",
      "y.L31          0.0553      0.020      2.710      0.007       0.015       0.095\n",
      "y.L32         -0.0331      0.021     -1.611      0.107      -0.073       0.007\n",
      "y.L33          0.0136      0.021      0.644      0.519      -0.028       0.055\n",
      "y.L34          0.0368      0.021      1.720      0.085      -0.005       0.079\n",
      "y.L35          0.0005      0.021      0.024      0.981      -0.041       0.042\n",
      "y.L36         -0.0187      0.021     -0.900      0.368      -0.059       0.022\n",
      "y.L37         -0.0210      0.020     -1.052      0.293      -0.060       0.018\n",
      "y.L38          0.0321      0.021      1.548      0.122      -0.009       0.073\n",
      "y.L39         -0.0004      0.021     -0.019      0.985      -0.042       0.041\n",
      "y.L40         -0.0037      0.021     -0.177      0.859      -0.045       0.037\n",
      "y.L41         -0.0124      0.021     -0.602      0.547      -0.053       0.028\n",
      "y.L42          0.0037      0.020      0.185      0.854      -0.035       0.043\n",
      "y.L43         -0.0062      0.020     -0.306      0.760      -0.046       0.033\n",
      "y.L44          0.0095      0.021      0.462      0.644      -0.031       0.050\n",
      "y.L45         -0.0030      0.021     -0.140      0.889      -0.045       0.039\n",
      "y.L46         -0.0218      0.021     -1.054      0.292      -0.062       0.019\n",
      "y.L47          0.0077      0.020      0.379      0.705      -0.032       0.048\n",
      "y.L48          0.0056      0.021      0.269      0.788      -0.035       0.046\n",
      "y.L49         -0.0323      0.020     -1.628      0.103      -0.071       0.007\n",
      "y.L50          0.0217      0.021      1.035      0.301      -0.019       0.063\n",
      "y.L51         -0.0190      0.021     -0.914      0.361      -0.060       0.022\n",
      "y.L52          0.0301      0.020      1.478      0.139      -0.010       0.070\n",
      "y.L53         -0.0133      0.020     -0.669      0.503      -0.052       0.026\n",
      "y.L54          0.0084      0.020      0.425      0.671      -0.030       0.047\n",
      "y.L55          0.0217      0.021      1.045      0.296      -0.019       0.062\n",
      "y.L56         -0.0291      0.020     -1.421      0.155      -0.069       0.011\n",
      "y.L57         -0.0274      0.021     -1.311      0.190      -0.068       0.014\n",
      "y.L58          0.0005      0.021      0.024      0.981      -0.040       0.041\n",
      "y.L59          0.0215      0.021      1.019      0.308      -0.020       0.063\n",
      "y.L60         -0.0253      0.020     -1.278      0.201      -0.064       0.013\n",
      "y.L61          0.0108      0.021      0.524      0.600      -0.029       0.051\n",
      "y.L62          0.0166      0.020      0.809      0.418      -0.024       0.057\n",
      "y.L63          0.0138      0.020      0.691      0.490      -0.025       0.053\n",
      "y.L64         -0.0050      0.020     -0.255      0.799      -0.044       0.034\n",
      "y.L65         -0.0504      0.020     -2.474      0.013      -0.090      -0.010\n",
      "y.L66          0.0155      0.020      0.763      0.445      -0.024       0.055\n",
      "y.L67         -0.0052      0.021     -0.253      0.800      -0.045       0.035\n",
      "y.L68       1.152e-06      0.020   5.82e-05      1.000      -0.039       0.039\n",
      "y.L69         -0.0448      0.018     -2.553      0.011      -0.079      -0.010\n",
      "                                    Roots                                     \n",
      "==============================================================================\n",
      "                   Real          Imaginary           Modulus         Frequency\n",
      "------------------------------------------------------------------------------\n",
      "AR.1             1.0104           -0.0188j            1.0105           -0.0030\n",
      "AR.2             1.0104           +0.0188j            1.0105            0.0030\n",
      "AR.3             1.0296           -0.1408j            1.0392           -0.0216\n",
      "AR.4             1.0296           +0.1408j            1.0392            0.0216\n",
      "AR.5             1.0046           -0.2272j            1.0300           -0.0354\n",
      "AR.6             1.0046           +0.2272j            1.0300            0.0354\n",
      "AR.7             0.9848           -0.3240j            1.0368           -0.0506\n",
      "AR.8             0.9848           +0.3240j            1.0368            0.0506\n",
      "AR.9             0.9528           -0.4074j            1.0363           -0.0643\n",
      "AR.10            0.9528           +0.4074j            1.0363            0.0643\n",
      "AR.11            0.9100           -0.4933j            1.0351           -0.0791\n",
      "AR.12            0.9100           +0.4933j            1.0351            0.0791\n",
      "AR.13            0.8515           -0.5817j            1.0312           -0.0954\n",
      "AR.14            0.8515           +0.5817j            1.0312            0.0954\n",
      "AR.15            0.7873           -0.6688j            1.0330           -0.1121\n",
      "AR.16            0.7873           +0.6688j            1.0330            0.1121\n",
      "AR.17            0.7194           -0.7697j            1.0535           -0.1304\n",
      "AR.18            0.7194           +0.7697j            1.0535            0.1304\n",
      "AR.19            0.7762           -0.7968j            1.1123           -0.1271\n",
      "AR.20            0.7762           +0.7968j            1.1123            0.1271\n",
      "AR.21            0.6148           -0.8308j            1.0336           -0.1486\n",
      "AR.22            0.6148           +0.8308j            1.0336            0.1486\n",
      "AR.23            0.5426           -0.8939j            1.0456           -0.1632\n",
      "AR.24            0.5426           +0.8939j            1.0456            0.1632\n",
      "AR.25            0.4495           -0.9363j            1.0386           -0.1788\n",
      "AR.26            0.4495           +0.9363j            1.0386            0.1788\n",
      "AR.27            0.3694           -0.9769j            1.0444           -0.1925\n",
      "AR.28            0.3694           +0.9769j            1.0444            0.1925\n",
      "AR.29            0.2774           -0.9938j            1.0318           -0.2067\n",
      "AR.30            0.2774           +0.9938j            1.0318            0.2067\n",
      "AR.31            0.1718           -1.0175j            1.0319           -0.2234\n",
      "AR.32            0.1718           +1.0175j            1.0319            0.2234\n",
      "AR.33            0.0870           -1.0239j            1.0276           -0.2365\n",
      "AR.34            0.0870           +1.0239j            1.0276            0.2365\n",
      "AR.35           -0.0272           -1.0266j            1.0269           -0.2542\n",
      "AR.36           -0.0272           +1.0266j            1.0269            0.2542\n",
      "AR.37           -0.1266           -1.0272j            1.0350           -0.2695\n",
      "AR.38           -0.1266           +1.0272j            1.0350            0.2695\n",
      "AR.39           -0.2398           -1.0181j            1.0460           -0.2868\n",
      "AR.40           -0.2398           +1.0181j            1.0460            0.2868\n",
      "AR.41           -0.2980           -1.0312j            1.0734           -0.2948\n",
      "AR.42           -0.2980           +1.0312j            1.0734            0.2948\n",
      "AR.43           -0.3995           -0.9720j            1.0509           -0.3121\n",
      "AR.44           -0.3995           +0.9720j            1.0509            0.3121\n",
      "AR.45           -0.4773           -0.9343j            1.0492           -0.3252\n",
      "AR.46           -0.4773           +0.9343j            1.0492            0.3252\n",
      "AR.47           -0.5711           -0.8783j            1.0477           -0.3418\n",
      "AR.48           -0.5711           +0.8783j            1.0477            0.3418\n",
      "AR.49           -1.0395           -0.0000j            1.0395           -0.5000\n",
      "AR.50           -1.0432           -0.1031j            1.0483           -0.4843\n",
      "AR.51           -1.0432           +0.1031j            1.0483            0.4843\n",
      "AR.52           -1.0357           -0.1877j            1.0525           -0.4715\n",
      "AR.53           -1.0357           +0.1877j            1.0525            0.4715\n",
      "AR.54           -0.9964           -0.2856j            1.0365           -0.4556\n",
      "AR.55           -0.9964           +0.2856j            1.0365            0.4556\n",
      "AR.56           -0.9650           -0.3750j            1.0353           -0.4410\n",
      "AR.57           -0.9650           +0.3750j            1.0353            0.4410\n",
      "AR.58           -0.9183           -0.4837j            1.0379           -0.4228\n",
      "AR.59           -0.9183           +0.4837j            1.0379            0.4228\n",
      "AR.60           -0.8928           -0.5756j            1.0623           -0.4089\n",
      "AR.61           -0.8928           +0.5756j            1.0623            0.4089\n",
      "AR.62           -0.8373           -0.6467j            1.0580           -0.3953\n",
      "AR.63           -0.8373           +0.6467j            1.0580            0.3953\n",
      "AR.64           -0.7682           -0.7139j            1.0487           -0.3808\n",
      "AR.65           -0.7682           +0.7139j            1.0487            0.3808\n",
      "AR.66           -0.6635           -0.8154j            1.0512           -0.3587\n",
      "AR.67           -0.6635           +0.8154j            1.0512            0.3587\n",
      "AR.68           -0.7595           -0.8588j            1.1465           -0.3652\n",
      "AR.69           -0.7595           +0.8588j            1.1465            0.3652\n",
      "------------------------------------------------------------------------------\n"
     ]
    }
   ],
   "source": [
    "resultado2 = modelo.fit(cov_type=\"HC0\")\n",
    "print(resultado2.summary())"
   ]
  },
  {
   "cell_type": "markdown",
   "metadata": {},
   "source": [
    "* Coeficientes"
   ]
  },
  {
   "cell_type": "code",
   "execution_count": 10,
   "metadata": {
    "scrolled": false
   },
   "outputs": [
    {
     "name": "stdout",
     "output_type": "stream",
     "text": [
      "Coefficients: [ 9.35673647e-01  5.78516502e-01 -8.60127265e-02  4.88545368e-02\n",
      "  3.05676326e-02  3.66417197e-02  2.61634050e-02  4.13448916e-02\n",
      "  1.53020195e-02  2.91607087e-02  5.20533208e-03  2.76471575e-03\n",
      "  1.44315634e-02  1.91409592e-02  5.88624152e-03  2.70746813e-02\n",
      "  5.11301155e-03  1.42015935e-02  4.96539183e-02 -1.38963960e-02\n",
      "  3.29666156e-02  9.19238110e-03  1.49739057e-02 -1.40844943e-02\n",
      "  5.73590871e-03  1.81958789e-02  3.27127802e-02  9.61837117e-03\n",
      "  1.37790122e-02  4.74019627e-03 -1.61985434e-02  5.52966541e-02\n",
      " -3.31295801e-02  1.35502363e-02  3.67759019e-02  5.09873080e-04\n",
      " -1.86522860e-02 -2.09507818e-02  3.21073894e-02 -4.10935505e-04\n",
      " -3.69943430e-03 -1.23593101e-02  3.68738660e-03 -6.15552534e-03\n",
      "  9.52448387e-03 -2.98260342e-03 -2.17652988e-02  7.69913328e-03\n",
      "  5.56245566e-03 -3.23097519e-02  2.17084691e-02 -1.89741884e-02\n",
      "  3.00868619e-02 -1.33211804e-02  8.35385591e-03  2.16663403e-02\n",
      " -2.91037738e-02 -2.73999486e-02  4.92471192e-04  2.15369069e-02\n",
      " -2.52563967e-02  1.07680658e-02  1.65642591e-02  1.38333960e-02\n",
      " -5.01100575e-03 -5.04251173e-02  1.54535983e-02 -5.19517156e-03\n",
      "  1.15170201e-06 -4.47954878e-02]\n"
     ]
    }
   ],
   "source": [
    "print('Coefficients: %s' % resultado2.params)"
   ]
  },
  {
   "cell_type": "markdown",
   "metadata": {},
   "source": [
    "* Fazendo predições"
   ]
  },
  {
   "cell_type": "code",
   "execution_count": 11,
   "metadata": {},
   "outputs": [],
   "source": [
    "X_pred = resultado2.predict(start=len(X_treino), end=len(X_treino)+len(X_teste)-1, dynamic=False)"
   ]
  },
  {
   "cell_type": "markdown",
   "metadata": {},
   "source": [
    "* Calculando erros"
   ]
  },
  {
   "cell_type": "code",
   "execution_count": 12,
   "metadata": {},
   "outputs": [
    {
     "data": {
      "text/plain": [
       "[<matplotlib.lines.Line2D at 0x7fddfc714f70>]"
      ]
     },
     "execution_count": 12,
     "metadata": {},
     "output_type": "execute_result"
    },
    {
     "data": {
      "image/png": "[encoded data removed]",
      "text/plain": [
       "<Figure size 432x288 with 1 Axes>"
      ]
     },
     "metadata": {
      "needs_background": "light"
     },
     "output_type": "display_data"
    }
   ],
   "source": [
    "plt.plot(t_treino,X_treino)\n",
    "plt.plot(t_teste,X_teste)\n",
    "plt.plot(t_teste,X_pred)"
   ]
  },
  {
   "cell_type": "markdown",
   "metadata": {},
   "source": [
    "* Calculando erros"
   ]
  },
  {
   "cell_type": "code",
   "execution_count": 13,
   "metadata": {},
   "outputs": [],
   "source": [
    "from sklearn.metrics import mean_squared_error"
   ]
  },
  {
   "cell_type": "code",
   "execution_count": 14,
   "metadata": {},
   "outputs": [],
   "source": [
    "MSE = mean_squared_error(X_teste,X_pred)"
   ]
  },
  {
   "cell_type": "code",
   "execution_count": 15,
   "metadata": {},
   "outputs": [],
   "source": [
    "RMSE = np.sqrt(MSE)"
   ]
  },
  {
   "cell_type": "code",
   "execution_count": 16,
   "metadata": {},
   "outputs": [
    {
     "name": "stdout",
     "output_type": "stream",
     "text": [
      "RMSE = 3.60\n"
     ]
    }
   ],
   "source": [
    "print(\"RMSE = {:0.2f}\".format(RMSE))"
   ]
  },
  {
   "cell_type": "code",
   "execution_count": null,
   "metadata": {},
   "outputs": [],
   "source": []
  }
 ],
 "metadata": {
  "kernelspec": {
   "display_name": "Python 3",
   "language": "python",
   "name": "python3"
  },
  "language_info": {
   "codemirror_mode": {
    "name": "ipython",
    "version": 3
   },
   "file_extension": ".py",
   "mimetype": "text/x-python",
   "name": "python",
   "nbconvert_exporter": "python",
   "pygments_lexer": "ipython3",
   "version": "3.8.3"
  }
 },
 "nbformat": 4,
 "nbformat_minor": 4
}

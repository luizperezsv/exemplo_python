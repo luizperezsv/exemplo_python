{
 "cells": [
  {
   "cell_type": "markdown",
   "metadata": {},
   "source": [
    "# Método de tendência linear de Holt"
   ]
  },
  {
   "cell_type": "markdown",
   "metadata": {},
   "source": [
    "Utilizando modelo de suavização exponencial com tendência linear de Holt para prever preço do óleo na Arabia Saudita"
   ]
  },
  {
   "cell_type": "markdown",
   "metadata": {},
   "source": [
    "* Importando bibliotecas"
   ]
  },
  {
   "cell_type": "code",
   "execution_count": null,
   "metadata": {},
   "outputs": [],
   "source": [
    "import numpy as np\n",
    "import pandas as pd\n",
    "import matplotlib.pyplot as plt"
   ]
  },
  {
   "cell_type": "markdown",
   "metadata": {},
   "source": [
    "* Lendo arquivo Excel"
   ]
  },
  {
   "cell_type": "code",
   "execution_count": null,
   "metadata": {},
   "outputs": [],
   "source": [
    "dados = pd.read_csv('BrentOilPrices.csv')"
   ]
  },
  {
   "cell_type": "markdown",
   "metadata": {},
   "source": [
    "* Exibindo cinco primeiras linhas"
   ]
  },
  {
   "cell_type": "code",
   "execution_count": null,
   "metadata": {},
   "outputs": [],
   "source": [
    "dados.head()"
   ]
  },
  {
   "cell_type": "code",
   "execution_count": null,
   "metadata": {},
   "outputs": [],
   "source": [
    "dados['Date'] = pd.to_datetime(dados['Date'])"
   ]
  },
  {
   "cell_type": "markdown",
   "metadata": {},
   "source": [
    "* Definindo ano como índice"
   ]
  },
  {
   "cell_type": "code",
   "execution_count": null,
   "metadata": {},
   "outputs": [],
   "source": [
    "dados = dados.set_index('Date')"
   ]
  },
  {
   "cell_type": "markdown",
   "metadata": {},
   "source": [
    "* Graficando série temporal"
   ]
  },
  {
   "cell_type": "code",
   "execution_count": null,
   "metadata": {},
   "outputs": [],
   "source": [
    "dados.plot()\n",
    "plt.xlabel('Ano')\n",
    "plt.ylabel('Preço')\n",
    "plt.tight_layout()"
   ]
  },
  {
   "cell_type": "markdown",
   "metadata": {},
   "source": [
    "* Criando amostras de treino e teste"
   ]
  },
  {
   "cell_type": "code",
   "execution_count": null,
   "metadata": {},
   "outputs": [],
   "source": [
    "t_treino = dados[dados.index<'2016-01-01'].index.values\n",
    "t_teste = dados[dados.index>='2016-01-01'].index.values\n",
    "X_treino = dados[dados.index<'2016-01-01'].values\n",
    "X_teste = dados[dados.index>='2016-01-01'].values"
   ]
  },
  {
   "cell_type": "markdown",
   "metadata": {},
   "source": [
    "* Aplicando modelo Exponential Smoothing"
   ]
  },
  {
   "cell_type": "code",
   "execution_count": null,
   "metadata": {},
   "outputs": [],
   "source": [
    "from statsmodels.tsa.api import ExponentialSmoothing, Holt, SimpleExpSmoothing"
   ]
  },
  {
   "cell_type": "code",
   "execution_count": null,
   "metadata": {},
   "outputs": [],
   "source": [
    "fit1 = Holt(X_treino).fit(smoothing_level = 0.3,smoothing_slope = 0.1)\n",
    "fit1 = fit1.forecast(len(X_teste))\n",
    "\n",
    "fit2 = Holt(X_treino).fit(smoothing_level = 0.3,smoothing_slope = 0.3)\n",
    "fit2 = fit2.forecast(len(X_teste))\n",
    "\n",
    "fit3 = Holt(X_treino).fit(smoothing_level = 0.3,smoothing_slope = 0.5)\n",
    "fit3 = fit3.forecast(len(X_teste))\n",
    "\n",
    "fit4 = Holt(X_treino).fit(smoothing_level = 0.3,smoothing_slope = 0.7)\n",
    "fit4 = fit4.forecast(len(X_teste))"
   ]
  },
  {
   "cell_type": "code",
   "execution_count": null,
   "metadata": {},
   "outputs": [],
   "source": [
    "plt.plot(t_treino,X_treino, marker='o', color='black',label='Treino')\n",
    "plt.plot(t_teste,X_teste, marker='o', color='red',label='Teste')\n",
    "plt.plot(t_teste,fit1, marker='o', color='blue',label='Fit1')\n",
    "plt.plot(t_teste,fit2, marker='o', color='green',label='Fit2')\n",
    "plt.plot(t_teste,fit3, marker='o', color='orange',label='Fit3')\n",
    "plt.plot(t_teste,fit4, marker='o', color='cyan',label='Fit4')\n",
    "plt.xlabel('Ano')\n",
    "plt.ylabel('Preço')\n",
    "plt.legend()"
   ]
  },
  {
   "cell_type": "code",
   "execution_count": null,
   "metadata": {},
   "outputs": [],
   "source": [
    "fit4a = Holt(X_treino).fit(smoothing_level = 0.1,smoothing_slope = 0.7)\n",
    "fit4a = fit4a.forecast(len(X_teste))\n",
    "\n",
    "fit4b = Holt(X_treino).fit(smoothing_level = 0.3,smoothing_slope = 0.7)\n",
    "fit4b = fit4b.forecast(len(X_teste))\n",
    "\n",
    "fit4c = Holt(X_treino).fit(smoothing_level = 0.5,smoothing_slope = 0.7)\n",
    "fit4c = fit4c.forecast(len(X_teste))\n",
    "\n",
    "fit4d = Holt(X_treino).fit(smoothing_level = 0.7,smoothing_slope = 0.7)\n",
    "fit4d = fit4d.forecast(len(X_teste))"
   ]
  },
  {
   "cell_type": "code",
   "execution_count": null,
   "metadata": {},
   "outputs": [],
   "source": [
    "plt.plot(t_treino,X_treino, marker='o', color='black',label='Treino')\n",
    "plt.plot(t_teste,X_teste, marker='o', color='red',label='Teste')\n",
    "plt.plot(t_teste,fit4a, marker='o', color='blue',label='Fit4a')\n",
    "plt.plot(t_teste,fit4b, marker='o', color='green',label='Fit4b')\n",
    "plt.plot(t_teste,fit4c, marker='o', color='orange',label='Fit4c')\n",
    "plt.plot(t_teste,fit4d, marker='o', color='cyan',label='Fit4d')\n",
    "plt.xlabel('Ano')\n",
    "plt.ylabel('Preço')\n",
    "plt.legend()"
   ]
  },
  {
   "cell_type": "markdown",
   "metadata": {},
   "source": [
    "* Calculando erros"
   ]
  },
  {
   "cell_type": "code",
   "execution_count": null,
   "metadata": {},
   "outputs": [],
   "source": [
    "from sklearn.metrics import mean_squared_error"
   ]
  },
  {
   "cell_type": "code",
   "execution_count": null,
   "metadata": {},
   "outputs": [],
   "source": [
    "MSE_fit4a = mean_squared_error(X_teste,fit4a)\n",
    "MSE_fit4b = mean_squared_error(X_teste,fit4b)\n",
    "MSE_fit4c = mean_squared_error(X_teste,fit4c)\n",
    "MSE_fit4d = mean_squared_error(X_teste,fit4d)"
   ]
  },
  {
   "cell_type": "code",
   "execution_count": null,
   "metadata": {},
   "outputs": [],
   "source": [
    "RMSE_fit4a = np.sqrt(MSE_fit4a)\n",
    "RMSE_fit4b = np.sqrt(MSE_fit4b)\n",
    "RMSE_fit4c = np.sqrt(MSE_fit4c)\n",
    "RMSE_fit4d = np.sqrt(MSE_fit4d)"
   ]
  },
  {
   "cell_type": "code",
   "execution_count": null,
   "metadata": {},
   "outputs": [],
   "source": [
    "print(\"RMSE (SL=0.1) = {:0.2f}\".format(RMSE_fit4a))\n",
    "print(\"RMSE (SL=0.3) = {:0.2f}\".format(RMSE_fit4b))\n",
    "print(\"RMSE (SL=0.5) = {:0.2f}\".format(RMSE_fit4c))\n",
    "print(\"RMSE (SL=0.7) = {:0.2f}\".format(RMSE_fit4d))"
   ]
  },
  {
   "cell_type": "code",
   "execution_count": null,
   "metadata": {},
   "outputs": [],
   "source": [
    "best = 1e6\n",
    "i_best = 0\n",
    "j_best = 0\n",
    "for i in range(1,10):\n",
    "    for j in range(50,90):\n",
    "        ind1 = i/10\n",
    "        ind2 = j/100\n",
    "        fit_final = Holt(X_treino).fit(smoothing_level=ind1,smoothing_slope=ind2)\n",
    "        fit_final = fit_final.forecast(len(X_teste))\n",
    "        MSE = mean_squared_error(X_teste,fit_final)\n",
    "        RMSE = np.sqrt(MSE)\n",
    "        if(RMSE<best):\n",
    "            best = RMSE\n",
    "            i_best = ind1\n",
    "            j_best = ind2\n",
    "        print(\"SS= {}, SL={}, RMSE={}\".format(i_best,j_best,RMSE))\n",
    "\n",
    "print(\"Melhor smoothing_level = {}\".format(i_best/10.0))\n",
    "print(\"Melhor smoothing_slope = {}\".format(j_best/100))"
   ]
  },
  {
   "cell_type": "markdown",
   "metadata": {},
   "source": [
    "# Melhor ajuste"
   ]
  },
  {
   "cell_type": "code",
   "execution_count": null,
   "metadata": {},
   "outputs": [],
   "source": [
    "fit_best = Holt(X_treino).fit(smoothing_level = 0.3,smoothing_slope = 0.74)\n",
    "fit_best = fit_best.forecast(len(X_teste))"
   ]
  },
  {
   "cell_type": "code",
   "execution_count": null,
   "metadata": {},
   "outputs": [],
   "source": [
    "plt.plot(t_treino,X_treino, marker='o', color='black',label='Treino')\n",
    "plt.plot(t_teste,X_teste, marker='o', color='red',label='Teste')\n",
    "plt.plot(t_teste,fit_best, marker='o', color='blue',label='Best Fit')\n",
    "plt.xlabel('Ano')\n",
    "plt.ylabel('Preço')\n",
    "plt.legend()"
   ]
  },
  {
   "cell_type": "code",
   "execution_count": null,
   "metadata": {},
   "outputs": [],
   "source": []
  }
 ],
 "metadata": {
  "kernelspec": {
   "display_name": "Python 3",
   "language": "python",
   "name": "python3"
  },
  "language_info": {
   "codemirror_mode": {
    "name": "ipython",
    "version": 3
   },
   "file_extension": ".py",
   "mimetype": "text/x-python",
   "name": "python",
   "nbconvert_exporter": "python",
   "pygments_lexer": "ipython3",
   "version": "3.8.5"
  }
 },
 "nbformat": 4,
 "nbformat_minor": 4
}

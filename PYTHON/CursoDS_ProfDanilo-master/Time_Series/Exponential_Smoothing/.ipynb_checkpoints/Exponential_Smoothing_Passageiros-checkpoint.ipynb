{
 "cells": [
  {
   "cell_type": "markdown",
   "metadata": {},
   "source": [
    "# Modelo Suavização exponencial"
   ]
  },
  {
   "cell_type": "markdown",
   "metadata": {},
   "source": [
    "Utilizando modelo de suavização exponencial para prever preço do óleo na Arabia Saudita"
   ]
  },
  {
   "cell_type": "markdown",
   "metadata": {},
   "source": [
    "* Importando bibliotecas"
   ]
  },
  {
   "cell_type": "code",
   "execution_count": null,
   "metadata": {},
   "outputs": [],
   "source": [
    "import numpy as np\n",
    "import pandas as pd\n",
    "import matplotlib.pyplot as plt"
   ]
  },
  {
   "cell_type": "markdown",
   "metadata": {},
   "source": [
    "* Lendo arquivo Excel"
   ]
  },
  {
   "cell_type": "code",
   "execution_count": null,
   "metadata": {},
   "outputs": [],
   "source": [
    "dados = pd.read_csv('Passageiros.csv')"
   ]
  },
  {
   "cell_type": "markdown",
   "metadata": {},
   "source": [
    "* Exibindo cinco primeiras linhas"
   ]
  },
  {
   "cell_type": "code",
   "execution_count": null,
   "metadata": {},
   "outputs": [],
   "source": [
    "dados.head()"
   ]
  },
  {
   "cell_type": "markdown",
   "metadata": {},
   "source": [
    "* Removendo coluna ID"
   ]
  },
  {
   "cell_type": "code",
   "execution_count": null,
   "metadata": {},
   "outputs": [],
   "source": [
    "dados = dados.drop('ID',axis=1)"
   ]
  },
  {
   "cell_type": "markdown",
   "metadata": {},
   "source": [
    "* Convertendo  data"
   ]
  },
  {
   "cell_type": "code",
   "execution_count": null,
   "metadata": {},
   "outputs": [],
   "source": [
    "dados['Datetime'] = pd.to_datetime(dados['Datetime'])"
   ]
  },
  {
   "cell_type": "markdown",
   "metadata": {},
   "source": [
    "* Definindo ano como índice"
   ]
  },
  {
   "cell_type": "code",
   "execution_count": null,
   "metadata": {},
   "outputs": [],
   "source": [
    "dados = dados.set_index('Datetime')"
   ]
  },
  {
   "cell_type": "markdown",
   "metadata": {},
   "source": [
    "* Total de passageiros por dia"
   ]
  },
  {
   "cell_type": "code",
   "execution_count": null,
   "metadata": {},
   "outputs": [],
   "source": [
    "dados =  dados.resample('D').sum()\n",
    "dados = dados.dropna()"
   ]
  },
  {
   "cell_type": "markdown",
   "metadata": {},
   "source": [
    "* Graficando série temporal"
   ]
  },
  {
   "cell_type": "code",
   "execution_count": null,
   "metadata": {},
   "outputs": [],
   "source": [
    "dados.plot()\n",
    "plt.xlabel('Ano')\n",
    "plt.ylabel('Preço')\n",
    "plt.tight_layout()"
   ]
  },
  {
   "cell_type": "markdown",
   "metadata": {},
   "source": [
    "* Criando amostras de treino e teste"
   ]
  },
  {
   "cell_type": "code",
   "execution_count": null,
   "metadata": {},
   "outputs": [],
   "source": [
    "t_treino = dados[dados.index<'2014-06-01'].index.values\n",
    "t_teste = dados[dados.index>='2014-06-01'].index.values\n",
    "X_treino = dados[dados.index<'2014-06-01'].values\n",
    "X_teste = dados[dados.index>='2014-06-01'].values"
   ]
  },
  {
   "cell_type": "markdown",
   "metadata": {},
   "source": [
    "* Aplicando modelo Exponential Smoothing"
   ]
  },
  {
   "cell_type": "code",
   "execution_count": null,
   "metadata": {},
   "outputs": [],
   "source": [
    "from statsmodels.tsa.api import ExponentialSmoothing"
   ]
  },
  {
   "cell_type": "code",
   "execution_count": null,
   "metadata": {},
   "outputs": [],
   "source": [
    "fit_alpha_02 = ExponentialSmoothing(X_treino).fit(smoothing_level=0.2)\n",
    "fit_alpha_02 = fit_alpha_02.forecast(len(X_teste))\n",
    "\n",
    "fit_alpha_05 = ExponentialSmoothing(X_treino).fit(smoothing_level=0.5)\n",
    "fit_alpha_05 = fit_alpha_05.forecast(len(X_teste))\n",
    "\n",
    "fit_alpha_09 = ExponentialSmoothing(X_treino).fit(smoothing_level=0.9)\n",
    "fit_alpha_09 = fit_alpha_09.forecast(len(X_teste))"
   ]
  },
  {
   "cell_type": "code",
   "execution_count": null,
   "metadata": {},
   "outputs": [],
   "source": [
    "plt.plot(t_treino,X_treino, marker='o', color='black',label='Treino')\n",
    "plt.plot(t_teste,X_teste, marker='o', color='red',label='Teste')\n",
    "plt.plot(t_teste,fit_alpha_02, marker='o', color='blue',label='Predito - alpha=0.2')\n",
    "plt.plot(t_teste,fit_alpha_05, marker='o', color='green',label='Predito - alpha=0.5')\n",
    "plt.plot(t_teste,fit_alpha_09, marker='o', color='orange',label='Predito - alpha=0.9')\n",
    "plt.xlabel('Ano')\n",
    "plt.ylabel('Passageiros')\n",
    "plt.legend()"
   ]
  },
  {
   "cell_type": "markdown",
   "metadata": {},
   "source": [
    "* Calculando erros"
   ]
  },
  {
   "cell_type": "code",
   "execution_count": null,
   "metadata": {},
   "outputs": [],
   "source": [
    "from sklearn.metrics import mean_squared_error"
   ]
  },
  {
   "cell_type": "code",
   "execution_count": null,
   "metadata": {},
   "outputs": [],
   "source": [
    "MSE_alpha02 = mean_squared_error(X_teste,fit_alpha_02)\n",
    "MSE_alpha05 = mean_squared_error(X_teste,fit_alpha_05)\n",
    "MSE_alpha09 = mean_squared_error(X_teste,fit_alpha_09)"
   ]
  },
  {
   "cell_type": "code",
   "execution_count": null,
   "metadata": {},
   "outputs": [],
   "source": [
    "RMSE_alpha02 = np.sqrt(MSE_alpha02)\n",
    "RMSE_alpha05 = np.sqrt(MSE_alpha05)\n",
    "RMSE_alpha09 = np.sqrt(MSE_alpha09)"
   ]
  },
  {
   "cell_type": "code",
   "execution_count": null,
   "metadata": {},
   "outputs": [],
   "source": [
    "print(\"RMSE (alpha=0.2) = {:0.2f}\".format(RMSE_alpha02))\n",
    "print(\"RMSE (alpha=0.5) = {:0.2f}\".format(RMSE_alpha05))\n",
    "print(\"RMSE (alpha=0.9) = {:0.2f}\".format(RMSE_alpha09))"
   ]
  },
  {
   "cell_type": "code",
   "execution_count": null,
   "metadata": {},
   "outputs": [],
   "source": []
  },
  {
   "cell_type": "code",
   "execution_count": null,
   "metadata": {},
   "outputs": [],
   "source": []
  }
 ],
 "metadata": {
  "kernelspec": {
   "display_name": "Python 3",
   "language": "python",
   "name": "python3"
  },
  "language_info": {
   "codemirror_mode": {
    "name": "ipython",
    "version": 3
   },
   "file_extension": ".py",
   "mimetype": "text/x-python",
   "name": "python",
   "nbconvert_exporter": "python",
   "pygments_lexer": "ipython3",
   "version": "3.8.5"
  }
 },
 "nbformat": 4,
 "nbformat_minor": 4
}
